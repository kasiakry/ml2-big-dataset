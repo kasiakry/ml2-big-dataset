{
 "cells": [
  {
   "cell_type": "markdown",
   "metadata": {
    "colab_type": "text",
    "id": "aZdGG-A6RR2j"
   },
   "source": [
    "# Predicting the Success of Bank Telemarketing\n",
    "## Project by Piotr Borowski & Katarzyna Kryńska"
   ]
  },
  {
   "cell_type": "markdown",
   "metadata": {
    "colab_type": "text",
    "id": "8p7i-szARcza"
   },
   "source": [
    "## Introduction\n",
    "\n",
    "\n"
   ]
  },
  {
   "cell_type": "markdown",
   "metadata": {
    "colab_type": "text",
    "id": "KtsTFx-qS4Lx"
   },
   "source": [
    "## Attribute Description\n",
    "\n",
    "Input variables:\n",
    "* bank client data:\n",
    "1. age (numeric)\n",
    "2. job : type of job (categorical: 'admin.','blue-collar','entrepreneur','housemaid','management','retired','self-employed','services','student','technician','unemployed','unknown')\n",
    "3. marital : marital status (categorical: 'divorced','married','single','unknown'; note: 'divorced' means divorced or widowed)\n",
    "4. education (categorical: 'basic.4y','basic.6y','basic.9y','high.school','illiterate','professional.course','university.degree','unknown')\n",
    "5. default: has credit in default? (categorical: 'no','yes','unknown')\n",
    "6. housing: has housing loan? (categorical: 'no','yes','unknown')\n",
    "7. loan: has personal loan? (categorical: 'no','yes','unknown')\n",
    "* related with the last contact of the current campaign:\n",
    "8. contact: contact communication type (categorical: 'cellular','telephone')\n",
    "9. month: last contact month of year (categorical: 'jan', 'feb', 'mar', ..., 'nov', 'dec')\n",
    "10. day_of_week: last contact day of the week (categorical: 'mon','tue','wed','thu','fri')\n",
    "11. duration: last contact duration, in seconds (numeric). Important note: this attribute highly affects the output target (e.g., if duration=0 then y='no'). Yet, the duration is not known before a call is performed. Also, after the end of the call y is obviously known. Thus, this input should only be included for benchmark purposes and should be discarded if the intention is to have a realistic predictive model.\n",
    "* other attributes:\n",
    "12. campaign: number of contacts performed during this campaign and for this client (numeric, includes last contact)\n",
    "13. pdays: number of days that passed by after the client was last contacted from a previous campaign (numeric; 999 means client was not previously contacted)\n",
    "14. previous: number of contacts performed before this campaign and for this client (numeric)\n",
    "15. poutcome: outcome of the previous marketing campaign (categorical: 'failure','nonexistent','success')\n",
    "* social and economic context attributes\n",
    "16. emp.var.rate: employment variation rate - quarterly indicator (numeric)\n",
    "17. cons.price.idx: consumer price index - monthly indicator (numeric)\n",
    "18. cons.conf.idx: consumer confidence index - monthly indicator (numeric)\n",
    "19. euribor3m: euribor 3 month rate - daily indicator (numeric)\n",
    "20. nr.employed: quarterly average of the total number of employed citizens (numeric)\n",
    "\n",
    "Output variable (desired target):\n",
    "21. y - has the client subscribed a term deposit? (binary: 'yes','no')"
   ]
  },
  {
   "cell_type": "code",
   "execution_count": 1,
   "metadata": {
    "colab": {},
    "colab_type": "code",
    "id": "cnN1m6Flbwb1"
   },
   "outputs": [],
   "source": [
    "import pandas as pd\n",
    "import numpy as np\n",
    "import matplotlib.pyplot as plt\n",
    "import seaborn as sns\n",
    "%matplotlib inline\n",
    "\n",
    "from sklearn.linear_model import LogisticRegression\n",
    "from sklearn.model_selection import train_test_split\n",
    "from sklearn.metrics import accuracy_score, precision_score, recall_score, f1_score\n",
    "from sklearn.metrics import confusion_matrix, classification_report, roc_auc_score"
   ]
  },
  {
   "cell_type": "code",
   "execution_count": 2,
   "metadata": {
    "colab": {},
    "colab_type": "code",
    "id": "OY4mzzWDYlhY"
   },
   "outputs": [],
   "source": [
    "df = pd.read_csv('https://raw.githubusercontent.com/kasiakry/ml2-big-dataset/master/bank-additional-full.csv', sep=';')"
   ]
  },
  {
   "cell_type": "code",
   "execution_count": 3,
   "metadata": {
    "colab": {
     "base_uri": "https://localhost:8080/",
     "height": 1000
    },
    "colab_type": "code",
    "executionInfo": {
     "elapsed": 3337,
     "status": "ok",
     "timestamp": 1580049165873,
     "user": {
      "displayName": "Katarzyna Kryńska",
      "photoUrl": "",
      "userId": "01933405320100170098"
     },
     "user_tz": -60
    },
    "id": "QHjBjT8GNoI-",
    "outputId": "9c67edd7-44a2-4159-b8fa-4933afb41562"
   },
   "outputs": [
    {
     "data": {
      "text/html": [
       "<div>\n",
       "<style scoped>\n",
       "    .dataframe tbody tr th:only-of-type {\n",
       "        vertical-align: middle;\n",
       "    }\n",
       "\n",
       "    .dataframe tbody tr th {\n",
       "        vertical-align: top;\n",
       "    }\n",
       "\n",
       "    .dataframe thead th {\n",
       "        text-align: right;\n",
       "    }\n",
       "</style>\n",
       "<table border=\"1\" class=\"dataframe\">\n",
       "  <thead>\n",
       "    <tr style=\"text-align: right;\">\n",
       "      <th></th>\n",
       "      <th>age</th>\n",
       "      <th>job</th>\n",
       "      <th>marital</th>\n",
       "      <th>education</th>\n",
       "      <th>default</th>\n",
       "      <th>housing</th>\n",
       "      <th>loan</th>\n",
       "      <th>contact</th>\n",
       "      <th>month</th>\n",
       "      <th>day_of_week</th>\n",
       "      <th>...</th>\n",
       "      <th>campaign</th>\n",
       "      <th>pdays</th>\n",
       "      <th>previous</th>\n",
       "      <th>poutcome</th>\n",
       "      <th>emp.var.rate</th>\n",
       "      <th>cons.price.idx</th>\n",
       "      <th>cons.conf.idx</th>\n",
       "      <th>euribor3m</th>\n",
       "      <th>nr.employed</th>\n",
       "      <th>y</th>\n",
       "    </tr>\n",
       "  </thead>\n",
       "  <tbody>\n",
       "    <tr>\n",
       "      <th>0</th>\n",
       "      <td>56</td>\n",
       "      <td>housemaid</td>\n",
       "      <td>married</td>\n",
       "      <td>basic.4y</td>\n",
       "      <td>no</td>\n",
       "      <td>no</td>\n",
       "      <td>no</td>\n",
       "      <td>telephone</td>\n",
       "      <td>may</td>\n",
       "      <td>mon</td>\n",
       "      <td>...</td>\n",
       "      <td>1</td>\n",
       "      <td>999</td>\n",
       "      <td>0</td>\n",
       "      <td>nonexistent</td>\n",
       "      <td>1.1</td>\n",
       "      <td>93.994</td>\n",
       "      <td>-36.4</td>\n",
       "      <td>4.857</td>\n",
       "      <td>5191.0</td>\n",
       "      <td>no</td>\n",
       "    </tr>\n",
       "    <tr>\n",
       "      <th>1</th>\n",
       "      <td>57</td>\n",
       "      <td>services</td>\n",
       "      <td>married</td>\n",
       "      <td>high.school</td>\n",
       "      <td>unknown</td>\n",
       "      <td>no</td>\n",
       "      <td>no</td>\n",
       "      <td>telephone</td>\n",
       "      <td>may</td>\n",
       "      <td>mon</td>\n",
       "      <td>...</td>\n",
       "      <td>1</td>\n",
       "      <td>999</td>\n",
       "      <td>0</td>\n",
       "      <td>nonexistent</td>\n",
       "      <td>1.1</td>\n",
       "      <td>93.994</td>\n",
       "      <td>-36.4</td>\n",
       "      <td>4.857</td>\n",
       "      <td>5191.0</td>\n",
       "      <td>no</td>\n",
       "    </tr>\n",
       "    <tr>\n",
       "      <th>2</th>\n",
       "      <td>37</td>\n",
       "      <td>services</td>\n",
       "      <td>married</td>\n",
       "      <td>high.school</td>\n",
       "      <td>no</td>\n",
       "      <td>yes</td>\n",
       "      <td>no</td>\n",
       "      <td>telephone</td>\n",
       "      <td>may</td>\n",
       "      <td>mon</td>\n",
       "      <td>...</td>\n",
       "      <td>1</td>\n",
       "      <td>999</td>\n",
       "      <td>0</td>\n",
       "      <td>nonexistent</td>\n",
       "      <td>1.1</td>\n",
       "      <td>93.994</td>\n",
       "      <td>-36.4</td>\n",
       "      <td>4.857</td>\n",
       "      <td>5191.0</td>\n",
       "      <td>no</td>\n",
       "    </tr>\n",
       "    <tr>\n",
       "      <th>3</th>\n",
       "      <td>40</td>\n",
       "      <td>admin.</td>\n",
       "      <td>married</td>\n",
       "      <td>basic.6y</td>\n",
       "      <td>no</td>\n",
       "      <td>no</td>\n",
       "      <td>no</td>\n",
       "      <td>telephone</td>\n",
       "      <td>may</td>\n",
       "      <td>mon</td>\n",
       "      <td>...</td>\n",
       "      <td>1</td>\n",
       "      <td>999</td>\n",
       "      <td>0</td>\n",
       "      <td>nonexistent</td>\n",
       "      <td>1.1</td>\n",
       "      <td>93.994</td>\n",
       "      <td>-36.4</td>\n",
       "      <td>4.857</td>\n",
       "      <td>5191.0</td>\n",
       "      <td>no</td>\n",
       "    </tr>\n",
       "    <tr>\n",
       "      <th>4</th>\n",
       "      <td>56</td>\n",
       "      <td>services</td>\n",
       "      <td>married</td>\n",
       "      <td>high.school</td>\n",
       "      <td>no</td>\n",
       "      <td>no</td>\n",
       "      <td>yes</td>\n",
       "      <td>telephone</td>\n",
       "      <td>may</td>\n",
       "      <td>mon</td>\n",
       "      <td>...</td>\n",
       "      <td>1</td>\n",
       "      <td>999</td>\n",
       "      <td>0</td>\n",
       "      <td>nonexistent</td>\n",
       "      <td>1.1</td>\n",
       "      <td>93.994</td>\n",
       "      <td>-36.4</td>\n",
       "      <td>4.857</td>\n",
       "      <td>5191.0</td>\n",
       "      <td>no</td>\n",
       "    </tr>\n",
       "    <tr>\n",
       "      <th>5</th>\n",
       "      <td>45</td>\n",
       "      <td>services</td>\n",
       "      <td>married</td>\n",
       "      <td>basic.9y</td>\n",
       "      <td>unknown</td>\n",
       "      <td>no</td>\n",
       "      <td>no</td>\n",
       "      <td>telephone</td>\n",
       "      <td>may</td>\n",
       "      <td>mon</td>\n",
       "      <td>...</td>\n",
       "      <td>1</td>\n",
       "      <td>999</td>\n",
       "      <td>0</td>\n",
       "      <td>nonexistent</td>\n",
       "      <td>1.1</td>\n",
       "      <td>93.994</td>\n",
       "      <td>-36.4</td>\n",
       "      <td>4.857</td>\n",
       "      <td>5191.0</td>\n",
       "      <td>no</td>\n",
       "    </tr>\n",
       "    <tr>\n",
       "      <th>6</th>\n",
       "      <td>59</td>\n",
       "      <td>admin.</td>\n",
       "      <td>married</td>\n",
       "      <td>professional.course</td>\n",
       "      <td>no</td>\n",
       "      <td>no</td>\n",
       "      <td>no</td>\n",
       "      <td>telephone</td>\n",
       "      <td>may</td>\n",
       "      <td>mon</td>\n",
       "      <td>...</td>\n",
       "      <td>1</td>\n",
       "      <td>999</td>\n",
       "      <td>0</td>\n",
       "      <td>nonexistent</td>\n",
       "      <td>1.1</td>\n",
       "      <td>93.994</td>\n",
       "      <td>-36.4</td>\n",
       "      <td>4.857</td>\n",
       "      <td>5191.0</td>\n",
       "      <td>no</td>\n",
       "    </tr>\n",
       "    <tr>\n",
       "      <th>7</th>\n",
       "      <td>41</td>\n",
       "      <td>blue-collar</td>\n",
       "      <td>married</td>\n",
       "      <td>unknown</td>\n",
       "      <td>unknown</td>\n",
       "      <td>no</td>\n",
       "      <td>no</td>\n",
       "      <td>telephone</td>\n",
       "      <td>may</td>\n",
       "      <td>mon</td>\n",
       "      <td>...</td>\n",
       "      <td>1</td>\n",
       "      <td>999</td>\n",
       "      <td>0</td>\n",
       "      <td>nonexistent</td>\n",
       "      <td>1.1</td>\n",
       "      <td>93.994</td>\n",
       "      <td>-36.4</td>\n",
       "      <td>4.857</td>\n",
       "      <td>5191.0</td>\n",
       "      <td>no</td>\n",
       "    </tr>\n",
       "    <tr>\n",
       "      <th>8</th>\n",
       "      <td>24</td>\n",
       "      <td>technician</td>\n",
       "      <td>single</td>\n",
       "      <td>professional.course</td>\n",
       "      <td>no</td>\n",
       "      <td>yes</td>\n",
       "      <td>no</td>\n",
       "      <td>telephone</td>\n",
       "      <td>may</td>\n",
       "      <td>mon</td>\n",
       "      <td>...</td>\n",
       "      <td>1</td>\n",
       "      <td>999</td>\n",
       "      <td>0</td>\n",
       "      <td>nonexistent</td>\n",
       "      <td>1.1</td>\n",
       "      <td>93.994</td>\n",
       "      <td>-36.4</td>\n",
       "      <td>4.857</td>\n",
       "      <td>5191.0</td>\n",
       "      <td>no</td>\n",
       "    </tr>\n",
       "    <tr>\n",
       "      <th>9</th>\n",
       "      <td>25</td>\n",
       "      <td>services</td>\n",
       "      <td>single</td>\n",
       "      <td>high.school</td>\n",
       "      <td>no</td>\n",
       "      <td>yes</td>\n",
       "      <td>no</td>\n",
       "      <td>telephone</td>\n",
       "      <td>may</td>\n",
       "      <td>mon</td>\n",
       "      <td>...</td>\n",
       "      <td>1</td>\n",
       "      <td>999</td>\n",
       "      <td>0</td>\n",
       "      <td>nonexistent</td>\n",
       "      <td>1.1</td>\n",
       "      <td>93.994</td>\n",
       "      <td>-36.4</td>\n",
       "      <td>4.857</td>\n",
       "      <td>5191.0</td>\n",
       "      <td>no</td>\n",
       "    </tr>\n",
       "  </tbody>\n",
       "</table>\n",
       "<p>10 rows × 21 columns</p>\n",
       "</div>"
      ],
      "text/plain": [
       "   age          job  marital            education  default housing loan  \\\n",
       "0   56    housemaid  married             basic.4y       no      no   no   \n",
       "1   57     services  married          high.school  unknown      no   no   \n",
       "2   37     services  married          high.school       no     yes   no   \n",
       "3   40       admin.  married             basic.6y       no      no   no   \n",
       "4   56     services  married          high.school       no      no  yes   \n",
       "5   45     services  married             basic.9y  unknown      no   no   \n",
       "6   59       admin.  married  professional.course       no      no   no   \n",
       "7   41  blue-collar  married              unknown  unknown      no   no   \n",
       "8   24   technician   single  professional.course       no     yes   no   \n",
       "9   25     services   single          high.school       no     yes   no   \n",
       "\n",
       "     contact month day_of_week  ...  campaign  pdays  previous     poutcome  \\\n",
       "0  telephone   may         mon  ...         1    999         0  nonexistent   \n",
       "1  telephone   may         mon  ...         1    999         0  nonexistent   \n",
       "2  telephone   may         mon  ...         1    999         0  nonexistent   \n",
       "3  telephone   may         mon  ...         1    999         0  nonexistent   \n",
       "4  telephone   may         mon  ...         1    999         0  nonexistent   \n",
       "5  telephone   may         mon  ...         1    999         0  nonexistent   \n",
       "6  telephone   may         mon  ...         1    999         0  nonexistent   \n",
       "7  telephone   may         mon  ...         1    999         0  nonexistent   \n",
       "8  telephone   may         mon  ...         1    999         0  nonexistent   \n",
       "9  telephone   may         mon  ...         1    999         0  nonexistent   \n",
       "\n",
       "  emp.var.rate  cons.price.idx  cons.conf.idx  euribor3m  nr.employed   y  \n",
       "0          1.1          93.994          -36.4      4.857       5191.0  no  \n",
       "1          1.1          93.994          -36.4      4.857       5191.0  no  \n",
       "2          1.1          93.994          -36.4      4.857       5191.0  no  \n",
       "3          1.1          93.994          -36.4      4.857       5191.0  no  \n",
       "4          1.1          93.994          -36.4      4.857       5191.0  no  \n",
       "5          1.1          93.994          -36.4      4.857       5191.0  no  \n",
       "6          1.1          93.994          -36.4      4.857       5191.0  no  \n",
       "7          1.1          93.994          -36.4      4.857       5191.0  no  \n",
       "8          1.1          93.994          -36.4      4.857       5191.0  no  \n",
       "9          1.1          93.994          -36.4      4.857       5191.0  no  \n",
       "\n",
       "[10 rows x 21 columns]"
      ]
     },
     "execution_count": 3,
     "metadata": {},
     "output_type": "execute_result"
    }
   ],
   "source": [
    "df.head(10)"
   ]
  },
  {
   "cell_type": "markdown",
   "metadata": {
    "colab_type": "text",
    "id": "y2Ik7ZT-On5z"
   },
   "source": [
    "## Cleaning the dataset"
   ]
  },
  {
   "cell_type": "markdown",
   "metadata": {
    "colab_type": "text",
    "id": "08tsVW1cXC27"
   },
   "source": [
    "At first sight, it might seem that the dataset does not contain any missing values."
   ]
  },
  {
   "cell_type": "code",
   "execution_count": 4,
   "metadata": {
    "colab": {
     "base_uri": "https://localhost:8080/",
     "height": 35
    },
    "colab_type": "code",
    "executionInfo": {
     "elapsed": 1871,
     "status": "ok",
     "timestamp": 1580049361869,
     "user": {
      "displayName": "Katarzyna Kryńska",
      "photoUrl": "",
      "userId": "01933405320100170098"
     },
     "user_tz": -60
    },
    "id": "lQf0ZYJfQRqJ",
    "outputId": "93580308-b205-4e90-a174-6b0c50f1a235"
   },
   "outputs": [
    {
     "data": {
      "text/plain": [
       "False"
      ]
     },
     "execution_count": 4,
     "metadata": {},
     "output_type": "execute_result"
    }
   ],
   "source": [
    "df.isna().values.any()"
   ]
  },
  {
   "cell_type": "markdown",
   "metadata": {
    "colab_type": "text",
    "id": "ag62feqa-EUW"
   },
   "source": [
    "However, in case of nominal values, such as education or default, we can see that some rows contain 'unknown' value.\n",
    "\n",
    "For nominal variables, there are a few ways of handling missing values:\n",
    "\n",
    "1. Ignore observations with missing values - usually adequate when dataset is large and number of records with missing values is low and when missing data is not Missing not at Random (the most popular example is that people with high salaries generally do not want to reveal their income in surveys).\n",
    "2. Ignore variable containing missing values - usually adequate if the variable is not significant.\n",
    "3. Replace missing value with most frequent value - there is a risk that it will introduce bias.\n",
    "4. Predict missing values - e.g. with multiclass predictor.\n",
    "5. Treat missing data as another category.  \n",
    "\n",
    "Firstly we will check which variables and how many rows contain 'unknown' value."
   ]
  },
  {
   "cell_type": "code",
   "execution_count": 5,
   "metadata": {
    "colab": {
     "base_uri": "https://localhost:8080/",
     "height": 124
    },
    "colab_type": "code",
    "executionInfo": {
     "elapsed": 931,
     "status": "ok",
     "timestamp": 1580049362379,
     "user": {
      "displayName": "Katarzyna Kryńska",
      "photoUrl": "",
      "userId": "01933405320100170098"
     },
     "user_tz": -60
    },
    "id": "d4lb8UZkHJKS",
    "outputId": "62e01568-28bf-4c99-ef59-8a1ec922f769"
   },
   "outputs": [
    {
     "name": "stdout",
     "output_type": "stream",
     "text": [
      "Column job contains 0.80% uknown values\n",
      "Column marital contains 0.19% uknown values\n",
      "Column education contains 4.20% uknown values\n",
      "Column default contains 20.87% uknown values\n",
      "Column housing contains 2.40% uknown values\n",
      "Column loan contains 2.40% uknown values\n"
     ]
    }
   ],
   "source": [
    "for col in df.columns.drop('y'):\n",
    "    if df[col].dtype==object:\n",
    "      percent_of_missing = df.loc[df[col]=='unknown',col].count() / len(df)\n",
    "      if percent_of_missing > 0:\n",
    "        print('Column', col, 'contains', '{:2.2%}'.format(percent_of_missing),'uknown values')"
   ]
  },
  {
   "cell_type": "markdown",
   "metadata": {
    "colab_type": "text",
    "id": "seFbtxh1LwJu"
   },
   "source": [
    "We can see that variable *default* contains most missing data. We will plot a bar plot to check if this variable seems significant."
   ]
  },
  {
   "cell_type": "code",
   "execution_count": 6,
   "metadata": {
    "colab": {
     "base_uri": "https://localhost:8080/",
     "height": 295
    },
    "colab_type": "code",
    "executionInfo": {
     "elapsed": 1279,
     "status": "ok",
     "timestamp": 1580049368509,
     "user": {
      "displayName": "Katarzyna Kryńska",
      "photoUrl": "",
      "userId": "01933405320100170098"
     },
     "user_tz": -60
    },
    "id": "TA0_X8eyL_dG",
    "outputId": "b8991f90-6aee-4bb9-ec9e-4711e03c3fb4"
   },
   "outputs": [
    {
     "data": {
      "image/png": "[encoded data removed]",
      "text/plain": [
       "<Figure size 432x288 with 1 Axes>"
      ]
     },
     "metadata": {
      "needs_background": "light"
     },
     "output_type": "display_data"
    }
   ],
   "source": [
    "df.groupby('y')['default'].value_counts().unstack(0).plot.bar(rot=0, title='Does the client have credit in default?');"
   ]
  },
  {
   "cell_type": "markdown",
   "metadata": {
    "colab_type": "text",
    "id": "29eZMhbVMPXr"
   },
   "source": [
    "Bar plot suggests that it would be better to leave this variable as it is - with *uknown* values. We will also leave *uknown* values in other variables, with the exception of *marital* variable, as the number of missing data is very small - therefore we will use the most frequent value to replace missing values."
   ]
  },
  {
   "cell_type": "code",
   "execution_count": 7,
   "metadata": {
    "colab": {},
    "colab_type": "code",
    "id": "kiSK2l0gCrvH"
   },
   "outputs": [],
   "source": [
    "df['marital'] = df['marital'].replace('unknown', 'married')"
   ]
  },
  {
   "cell_type": "markdown",
   "metadata": {
    "colab_type": "text",
    "id": "8AuIZKKQYB1l"
   },
   "source": [
    "### Duration"
   ]
  },
  {
   "cell_type": "code",
   "execution_count": 8,
   "metadata": {
    "colab": {
     "base_uri": "https://localhost:8080/",
     "height": 352
    },
    "colab_type": "code",
    "executionInfo": {
     "elapsed": 1144,
     "status": "ok",
     "timestamp": 1580049381270,
     "user": {
      "displayName": "Katarzyna Kryńska",
      "photoUrl": "",
      "userId": "01933405320100170098"
     },
     "user_tz": -60
    },
    "id": "sVqB-uxZbEwG",
    "outputId": "ac4c2894-b7c5-43a0-fef9-08d0af459521"
   },
   "outputs": [
    {
     "data": {
      "image/png": "[encoded data removed]",
      "text/plain": [
       "<Figure size 432x288 with 1 Axes>"
      ]
     },
     "metadata": {
      "needs_background": "light"
     },
     "output_type": "display_data"
    }
   ],
   "source": [
    "data_to_plot = [df.duration[df['y']=='no'].to_numpy(), df.duration[df['y']=='yes'].to_numpy()]\n",
    "\n",
    "fig = plt.figure()\n",
    "ax = fig.add_axes([0,0,1,1])\n",
    "bp = ax.violinplot(data_to_plot)\n",
    "ax.set_xticks(np.arange(1, 3))\n",
    "ax.set_xticklabels(['no', 'yes'])\n",
    "ax.set_title('Distribution of call duration in respect to whether client opened a deposit or not')\n",
    "plt.show()"
   ]
  },
  {
   "cell_type": "markdown",
   "metadata": {
    "colab_type": "text",
    "id": "VCAXKwBDYEDn"
   },
   "source": [
    "Variable \"duration\" is the duration of last call with the client. Including this variable as it is in our model could lead to a huge data leakage - for example if duration = 0 then y='no'. There seem to be two possible ways of coping with the problem. \n",
    "\n",
    "First one would be deleting observations with duration below a threshold, e.g. 30 seconds. However, from a business perspective, this solution is not ideal. Our goal is to make marketing strategies more effective - meaning consuming less of our resources. Clients who do not pick up phone, still are taking up our time to make a call to them. Secondly, duration of the call is not known before making the call - and ideally we would like to know client's propensity to our campaign before making the call.\n",
    "\n",
    "Therefore, our decision is to remove 'duration' variable from our dataset."
   ]
  },
  {
   "cell_type": "code",
   "execution_count": 9,
   "metadata": {
    "colab": {},
    "colab_type": "code",
    "id": "wemU8jSjX_50"
   },
   "outputs": [],
   "source": [
    "df = df.drop(\"duration\", axis=1)"
   ]
  },
  {
   "cell_type": "markdown",
   "metadata": {
    "colab_type": "text",
    "id": "vrkwG656ddST"
   },
   "source": [
    "### Exploratory data analysis"
   ]
  },
  {
   "cell_type": "markdown",
   "metadata": {
    "colab_type": "text",
    "id": "VKQs8z2Rd7vl"
   },
   "source": [
    "Firstly, we will check the number of clients that subscribed to a term deposit vs the number of clients that did not. We can see that the dataset is moderately imbalanced - number of clients that subscribed to a term deposit equals to 11.27% of the whole dataset. This means that accuracy might be not the best metric to measure performance of our classification models and also that it might be wise to use some techniques to work with imbalanced datasets, such as oversampling, undersampling or generating synthetic samples. "
   ]
  },
  {
   "cell_type": "code",
   "execution_count": 10,
   "metadata": {
    "colab": {
     "base_uri": "https://localhost:8080/",
     "height": 296
    },
    "colab_type": "code",
    "executionInfo": {
     "elapsed": 826,
     "status": "ok",
     "timestamp": 1580049384899,
     "user": {
      "displayName": "Katarzyna Kryńska",
      "photoUrl": "",
      "userId": "01933405320100170098"
     },
     "user_tz": -60
    },
    "id": "D_oxnS9sUzQp",
    "outputId": "77f74c58-2eef-49e2-f4d9-87a91508522b"
   },
   "outputs": [
    {
     "name": "stdout",
     "output_type": "stream",
     "text": [
      "Campaign overall success rate:  11.27%\n"
     ]
    },
    {
     "data": {
      "image/png": "[encoded data removed]",
      "text/plain": [
       "<Figure size 432x288 with 1 Axes>"
      ]
     },
     "metadata": {
      "needs_background": "light"
     },
     "output_type": "display_data"
    }
   ],
   "source": [
    "barplot = df['y'].value_counts().plot.bar(rot=0)\n",
    "barplot.set_xlabel('Has the client subscribed a term deposit?');\n",
    "print('Campaign overall success rate: ', '{:2.2%}'.format(len(df[df.y=='yes']) / len(df)))"
   ]
  },
  {
   "cell_type": "markdown",
   "metadata": {
    "colab_type": "text",
    "id": "63O5vS_0QO1L"
   },
   "source": [
    "Now we will look into distributions of numerical data in the dataset by plotting histograms. Firstly, we can see that in our dataset there is not many people in the age of 60+. Interestingly, we can divide our dataset in regard to Euribor rate into two groups - one with rate around 1% and the second one with rate from 4 to 5%. We can also notice that most of the dataset consists of clients who the company had not contacted before. "
   ]
  },
  {
   "cell_type": "code",
   "execution_count": 11,
   "metadata": {
    "colab": {
     "base_uri": "https://localhost:8080/",
     "height": 934
    },
    "colab_type": "code",
    "executionInfo": {
     "elapsed": 2937,
     "status": "ok",
     "timestamp": 1580049388938,
     "user": {
      "displayName": "Katarzyna Kryńska",
      "photoUrl": "",
      "userId": "01933405320100170098"
     },
     "user_tz": -60
    },
    "id": "mmXE8PJIYsO6",
    "outputId": "11dff195-799c-4c7a-9193-1cffd90b26b6"
   },
   "outputs": [
    {
     "data": {
      "image/png": "[encoded data removed]",
      "text/plain": [
       "<Figure size 1296x1152 with 9 Axes>"
      ]
     },
     "metadata": {
      "needs_background": "light"
     },
     "output_type": "display_data"
    }
   ],
   "source": [
    "df.hist(figsize=(18,16), bins=25, grid=False);"
   ]
  },
  {
   "cell_type": "code",
   "execution_count": 12,
   "metadata": {
    "colab": {
     "base_uri": "https://localhost:8080/",
     "height": 1000
    },
    "colab_type": "code",
    "executionInfo": {
     "elapsed": 3031,
     "status": "ok",
     "timestamp": 1580049430281,
     "user": {
      "displayName": "Katarzyna Kryńska",
      "photoUrl": "",
      "userId": "01933405320100170098"
     },
     "user_tz": -60
    },
    "id": "lsm9jIU2Kb-k",
    "outputId": "9e43a8ef-0e91-402a-d995-2bea923ee611"
   },
   "outputs": [
    {
     "data": {
      "image/png": "[encoded data removed]",
      "text/plain": [
       "<Figure size 1008x1296 with 10 Axes>"
      ]
     },
     "metadata": {
      "needs_background": "light"
     },
     "output_type": "display_data"
    }
   ],
   "source": [
    "fig, axs = plt.subplots(5, 2)\n",
    "i=0\n",
    "for col in df.columns.drop('y'):\n",
    "    if df[col].dtype==object:\n",
    "        df[col].value_counts().plot.bar(rot=30, title=col, ax = axs[i//2,i%2])\n",
    "        i=i+1\n",
    "fig.set_size_inches(14, 18)\n",
    "fig.tight_layout();"
   ]
  },
  {
   "cell_type": "markdown",
   "metadata": {
    "colab_type": "text",
    "id": "Jnu32roQoFFr"
   },
   "source": [
    "## Data preparation"
   ]
  },
  {
   "cell_type": "markdown",
   "metadata": {
    "colab_type": "text",
    "id": "VskO9NT7pX5M"
   },
   "source": [
    "Firstly, target variable needs to be recoded into binary form."
   ]
  },
  {
   "cell_type": "code",
   "execution_count": 13,
   "metadata": {
    "colab": {},
    "colab_type": "code",
    "id": "tJGakoyioHAs"
   },
   "outputs": [],
   "source": [
    "df[\"y\"] = (df.y==\"yes\").astype(int)"
   ]
  },
  {
   "cell_type": "markdown",
   "metadata": {
    "colab_type": "text",
    "id": "dNWysFpLPQfF"
   },
   "source": [
    "Our dataset contains both continuous and discrete variables. Out of discrete variables, only one has potential to be treated as ordinal data - and that is education. However, due to 'uknown' values, we can not put all education categories in a particular order. Therefore, we will treat it as nominal variable. \n",
    "\n",
    "One Hot Encoding is known as \"the classic approach\" to dealing with nominal data. Accordingly, we will recode all variables with nominal levels to binary form."
   ]
  },
  {
   "cell_type": "code",
   "execution_count": 14,
   "metadata": {
    "colab": {},
    "colab_type": "code",
    "id": "NbKP-AUFoPIJ"
   },
   "outputs": [],
   "source": [
    "levCols = []\n",
    "numCols = []\n",
    "for col in df.columns:\n",
    "    if df[col].dtype==object:\n",
    "        levCols.append(col)\n",
    "    else:\n",
    "        numCols.append(col)\n",
    "dummLev = pd.get_dummies(df[levCols])\n",
    "df_ohc = pd.concat([df[numCols], dummLev], axis=1)"
   ]
  },
  {
   "cell_type": "code",
   "execution_count": 15,
   "metadata": {
    "colab": {
     "base_uri": "https://localhost:8080/",
     "height": 397
    },
    "colab_type": "code",
    "executionInfo": {
     "elapsed": 729,
     "status": "ok",
     "timestamp": 1580049456075,
     "user": {
      "displayName": "Katarzyna Kryńska",
      "photoUrl": "",
      "userId": "01933405320100170098"
     },
     "user_tz": -60
    },
    "id": "PtkBQ9lsrDAG",
    "outputId": "83387959-4010-45c3-db83-07c75f0c5d74"
   },
   "outputs": [
    {
     "data": {
      "text/html": [
       "<div>\n",
       "<style scoped>\n",
       "    .dataframe tbody tr th:only-of-type {\n",
       "        vertical-align: middle;\n",
       "    }\n",
       "\n",
       "    .dataframe tbody tr th {\n",
       "        vertical-align: top;\n",
       "    }\n",
       "\n",
       "    .dataframe thead th {\n",
       "        text-align: right;\n",
       "    }\n",
       "</style>\n",
       "<table border=\"1\" class=\"dataframe\">\n",
       "  <thead>\n",
       "    <tr style=\"text-align: right;\">\n",
       "      <th></th>\n",
       "      <th>age</th>\n",
       "      <th>campaign</th>\n",
       "      <th>pdays</th>\n",
       "      <th>previous</th>\n",
       "      <th>emp.var.rate</th>\n",
       "      <th>cons.price.idx</th>\n",
       "      <th>cons.conf.idx</th>\n",
       "      <th>euribor3m</th>\n",
       "      <th>nr.employed</th>\n",
       "      <th>y</th>\n",
       "      <th>...</th>\n",
       "      <th>month_oct</th>\n",
       "      <th>month_sep</th>\n",
       "      <th>day_of_week_fri</th>\n",
       "      <th>day_of_week_mon</th>\n",
       "      <th>day_of_week_thu</th>\n",
       "      <th>day_of_week_tue</th>\n",
       "      <th>day_of_week_wed</th>\n",
       "      <th>poutcome_failure</th>\n",
       "      <th>poutcome_nonexistent</th>\n",
       "      <th>poutcome_success</th>\n",
       "    </tr>\n",
       "  </thead>\n",
       "  <tbody>\n",
       "    <tr>\n",
       "      <th>0</th>\n",
       "      <td>56</td>\n",
       "      <td>1</td>\n",
       "      <td>999</td>\n",
       "      <td>0</td>\n",
       "      <td>1.1</td>\n",
       "      <td>93.994</td>\n",
       "      <td>-36.4</td>\n",
       "      <td>4.857</td>\n",
       "      <td>5191.0</td>\n",
       "      <td>0</td>\n",
       "      <td>...</td>\n",
       "      <td>0</td>\n",
       "      <td>0</td>\n",
       "      <td>0</td>\n",
       "      <td>1</td>\n",
       "      <td>0</td>\n",
       "      <td>0</td>\n",
       "      <td>0</td>\n",
       "      <td>0</td>\n",
       "      <td>1</td>\n",
       "      <td>0</td>\n",
       "    </tr>\n",
       "    <tr>\n",
       "      <th>1</th>\n",
       "      <td>57</td>\n",
       "      <td>1</td>\n",
       "      <td>999</td>\n",
       "      <td>0</td>\n",
       "      <td>1.1</td>\n",
       "      <td>93.994</td>\n",
       "      <td>-36.4</td>\n",
       "      <td>4.857</td>\n",
       "      <td>5191.0</td>\n",
       "      <td>0</td>\n",
       "      <td>...</td>\n",
       "      <td>0</td>\n",
       "      <td>0</td>\n",
       "      <td>0</td>\n",
       "      <td>1</td>\n",
       "      <td>0</td>\n",
       "      <td>0</td>\n",
       "      <td>0</td>\n",
       "      <td>0</td>\n",
       "      <td>1</td>\n",
       "      <td>0</td>\n",
       "    </tr>\n",
       "    <tr>\n",
       "      <th>2</th>\n",
       "      <td>37</td>\n",
       "      <td>1</td>\n",
       "      <td>999</td>\n",
       "      <td>0</td>\n",
       "      <td>1.1</td>\n",
       "      <td>93.994</td>\n",
       "      <td>-36.4</td>\n",
       "      <td>4.857</td>\n",
       "      <td>5191.0</td>\n",
       "      <td>0</td>\n",
       "      <td>...</td>\n",
       "      <td>0</td>\n",
       "      <td>0</td>\n",
       "      <td>0</td>\n",
       "      <td>1</td>\n",
       "      <td>0</td>\n",
       "      <td>0</td>\n",
       "      <td>0</td>\n",
       "      <td>0</td>\n",
       "      <td>1</td>\n",
       "      <td>0</td>\n",
       "    </tr>\n",
       "    <tr>\n",
       "      <th>3</th>\n",
       "      <td>40</td>\n",
       "      <td>1</td>\n",
       "      <td>999</td>\n",
       "      <td>0</td>\n",
       "      <td>1.1</td>\n",
       "      <td>93.994</td>\n",
       "      <td>-36.4</td>\n",
       "      <td>4.857</td>\n",
       "      <td>5191.0</td>\n",
       "      <td>0</td>\n",
       "      <td>...</td>\n",
       "      <td>0</td>\n",
       "      <td>0</td>\n",
       "      <td>0</td>\n",
       "      <td>1</td>\n",
       "      <td>0</td>\n",
       "      <td>0</td>\n",
       "      <td>0</td>\n",
       "      <td>0</td>\n",
       "      <td>1</td>\n",
       "      <td>0</td>\n",
       "    </tr>\n",
       "    <tr>\n",
       "      <th>4</th>\n",
       "      <td>56</td>\n",
       "      <td>1</td>\n",
       "      <td>999</td>\n",
       "      <td>0</td>\n",
       "      <td>1.1</td>\n",
       "      <td>93.994</td>\n",
       "      <td>-36.4</td>\n",
       "      <td>4.857</td>\n",
       "      <td>5191.0</td>\n",
       "      <td>0</td>\n",
       "      <td>...</td>\n",
       "      <td>0</td>\n",
       "      <td>0</td>\n",
       "      <td>0</td>\n",
       "      <td>1</td>\n",
       "      <td>0</td>\n",
       "      <td>0</td>\n",
       "      <td>0</td>\n",
       "      <td>0</td>\n",
       "      <td>1</td>\n",
       "      <td>0</td>\n",
       "    </tr>\n",
       "    <tr>\n",
       "      <th>5</th>\n",
       "      <td>45</td>\n",
       "      <td>1</td>\n",
       "      <td>999</td>\n",
       "      <td>0</td>\n",
       "      <td>1.1</td>\n",
       "      <td>93.994</td>\n",
       "      <td>-36.4</td>\n",
       "      <td>4.857</td>\n",
       "      <td>5191.0</td>\n",
       "      <td>0</td>\n",
       "      <td>...</td>\n",
       "      <td>0</td>\n",
       "      <td>0</td>\n",
       "      <td>0</td>\n",
       "      <td>1</td>\n",
       "      <td>0</td>\n",
       "      <td>0</td>\n",
       "      <td>0</td>\n",
       "      <td>0</td>\n",
       "      <td>1</td>\n",
       "      <td>0</td>\n",
       "    </tr>\n",
       "    <tr>\n",
       "      <th>6</th>\n",
       "      <td>59</td>\n",
       "      <td>1</td>\n",
       "      <td>999</td>\n",
       "      <td>0</td>\n",
       "      <td>1.1</td>\n",
       "      <td>93.994</td>\n",
       "      <td>-36.4</td>\n",
       "      <td>4.857</td>\n",
       "      <td>5191.0</td>\n",
       "      <td>0</td>\n",
       "      <td>...</td>\n",
       "      <td>0</td>\n",
       "      <td>0</td>\n",
       "      <td>0</td>\n",
       "      <td>1</td>\n",
       "      <td>0</td>\n",
       "      <td>0</td>\n",
       "      <td>0</td>\n",
       "      <td>0</td>\n",
       "      <td>1</td>\n",
       "      <td>0</td>\n",
       "    </tr>\n",
       "    <tr>\n",
       "      <th>7</th>\n",
       "      <td>41</td>\n",
       "      <td>1</td>\n",
       "      <td>999</td>\n",
       "      <td>0</td>\n",
       "      <td>1.1</td>\n",
       "      <td>93.994</td>\n",
       "      <td>-36.4</td>\n",
       "      <td>4.857</td>\n",
       "      <td>5191.0</td>\n",
       "      <td>0</td>\n",
       "      <td>...</td>\n",
       "      <td>0</td>\n",
       "      <td>0</td>\n",
       "      <td>0</td>\n",
       "      <td>1</td>\n",
       "      <td>0</td>\n",
       "      <td>0</td>\n",
       "      <td>0</td>\n",
       "      <td>0</td>\n",
       "      <td>1</td>\n",
       "      <td>0</td>\n",
       "    </tr>\n",
       "    <tr>\n",
       "      <th>8</th>\n",
       "      <td>24</td>\n",
       "      <td>1</td>\n",
       "      <td>999</td>\n",
       "      <td>0</td>\n",
       "      <td>1.1</td>\n",
       "      <td>93.994</td>\n",
       "      <td>-36.4</td>\n",
       "      <td>4.857</td>\n",
       "      <td>5191.0</td>\n",
       "      <td>0</td>\n",
       "      <td>...</td>\n",
       "      <td>0</td>\n",
       "      <td>0</td>\n",
       "      <td>0</td>\n",
       "      <td>1</td>\n",
       "      <td>0</td>\n",
       "      <td>0</td>\n",
       "      <td>0</td>\n",
       "      <td>0</td>\n",
       "      <td>1</td>\n",
       "      <td>0</td>\n",
       "    </tr>\n",
       "    <tr>\n",
       "      <th>9</th>\n",
       "      <td>25</td>\n",
       "      <td>1</td>\n",
       "      <td>999</td>\n",
       "      <td>0</td>\n",
       "      <td>1.1</td>\n",
       "      <td>93.994</td>\n",
       "      <td>-36.4</td>\n",
       "      <td>4.857</td>\n",
       "      <td>5191.0</td>\n",
       "      <td>0</td>\n",
       "      <td>...</td>\n",
       "      <td>0</td>\n",
       "      <td>0</td>\n",
       "      <td>0</td>\n",
       "      <td>1</td>\n",
       "      <td>0</td>\n",
       "      <td>0</td>\n",
       "      <td>0</td>\n",
       "      <td>0</td>\n",
       "      <td>1</td>\n",
       "      <td>0</td>\n",
       "    </tr>\n",
       "  </tbody>\n",
       "</table>\n",
       "<p>10 rows × 62 columns</p>\n",
       "</div>"
      ],
      "text/plain": [
       "   age  campaign  pdays  previous  emp.var.rate  cons.price.idx  \\\n",
       "0   56         1    999         0           1.1          93.994   \n",
       "1   57         1    999         0           1.1          93.994   \n",
       "2   37         1    999         0           1.1          93.994   \n",
       "3   40         1    999         0           1.1          93.994   \n",
       "4   56         1    999         0           1.1          93.994   \n",
       "5   45         1    999         0           1.1          93.994   \n",
       "6   59         1    999         0           1.1          93.994   \n",
       "7   41         1    999         0           1.1          93.994   \n",
       "8   24         1    999         0           1.1          93.994   \n",
       "9   25         1    999         0           1.1          93.994   \n",
       "\n",
       "   cons.conf.idx  euribor3m  nr.employed  y  ...  month_oct  month_sep  \\\n",
       "0          -36.4      4.857       5191.0  0  ...          0          0   \n",
       "1          -36.4      4.857       5191.0  0  ...          0          0   \n",
       "2          -36.4      4.857       5191.0  0  ...          0          0   \n",
       "3          -36.4      4.857       5191.0  0  ...          0          0   \n",
       "4          -36.4      4.857       5191.0  0  ...          0          0   \n",
       "5          -36.4      4.857       5191.0  0  ...          0          0   \n",
       "6          -36.4      4.857       5191.0  0  ...          0          0   \n",
       "7          -36.4      4.857       5191.0  0  ...          0          0   \n",
       "8          -36.4      4.857       5191.0  0  ...          0          0   \n",
       "9          -36.4      4.857       5191.0  0  ...          0          0   \n",
       "\n",
       "   day_of_week_fri  day_of_week_mon  day_of_week_thu  day_of_week_tue  \\\n",
       "0                0                1                0                0   \n",
       "1                0                1                0                0   \n",
       "2                0                1                0                0   \n",
       "3                0                1                0                0   \n",
       "4                0                1                0                0   \n",
       "5                0                1                0                0   \n",
       "6                0                1                0                0   \n",
       "7                0                1                0                0   \n",
       "8                0                1                0                0   \n",
       "9                0                1                0                0   \n",
       "\n",
       "   day_of_week_wed  poutcome_failure  poutcome_nonexistent  poutcome_success  \n",
       "0                0                 0                     1                 0  \n",
       "1                0                 0                     1                 0  \n",
       "2                0                 0                     1                 0  \n",
       "3                0                 0                     1                 0  \n",
       "4                0                 0                     1                 0  \n",
       "5                0                 0                     1                 0  \n",
       "6                0                 0                     1                 0  \n",
       "7                0                 0                     1                 0  \n",
       "8                0                 0                     1                 0  \n",
       "9                0                 0                     1                 0  \n",
       "\n",
       "[10 rows x 62 columns]"
      ]
     },
     "execution_count": 15,
     "metadata": {},
     "output_type": "execute_result"
    }
   ],
   "source": [
    "df_ohc.head(10)"
   ]
  },
  {
   "cell_type": "markdown",
   "metadata": {
    "colab_type": "text",
    "id": "svlB2MEhTPmT"
   },
   "source": [
    "### Feature selection"
   ]
  },
  {
   "cell_type": "markdown",
   "metadata": {
    "colab_type": "text",
    "id": "mJznD4OHTTKy"
   },
   "source": [
    "#### ANOVA F-value For Feature Selection"
   ]
  },
  {
   "cell_type": "code",
   "execution_count": 16,
   "metadata": {
    "colab": {
     "base_uri": "https://localhost:8080/",
     "height": 204
    },
    "colab_type": "code",
    "executionInfo": {
     "elapsed": 697,
     "status": "error",
     "timestamp": 1580049597454,
     "user": {
      "displayName": "Katarzyna Kryńska",
      "photoUrl": "",
      "userId": "01933405320100170098"
     },
     "user_tz": -60
    },
    "id": "rhgicH8phw_u",
    "outputId": "63541f76-b974-4b38-9109-ac095a75ad41"
   },
   "outputs": [],
   "source": [
    "from sklearn.feature_selection import f_classif\n",
    "from sklearn.feature_selection import SelectKBest, chi2\n",
    "\n",
    "# Seperate the features from the target variable and choose only categorical variables\n",
    "y = df_ohc.y\n",
    "X = df_ohc.drop('y', axis=1)\n",
    "\n",
    "numCols.remove('y')"
   ]
  },
  {
   "cell_type": "code",
   "execution_count": 17,
   "metadata": {
    "colab": {
     "base_uri": "https://localhost:8080/",
     "height": 312
    },
    "colab_type": "code",
    "executionInfo": {
     "elapsed": 933,
     "status": "ok",
     "timestamp": 1580049602196,
     "user": {
      "displayName": "Katarzyna Kryńska",
      "photoUrl": "",
      "userId": "01933405320100170098"
     },
     "user_tz": -60
    },
    "id": "fNPGbvCOhy4R",
    "outputId": "ed665e90-36d5-4886-846a-bd1d14b5e818"
   },
   "outputs": [
    {
     "data": {
      "image/png": "[encoded data removed]",
      "text/plain": [
       "<Figure size 432x288 with 1 Axes>"
      ]
     },
     "metadata": {
      "needs_background": "light"
     },
     "output_type": "display_data"
    }
   ],
   "source": [
    "X_numerical = X[numCols]\n",
    "\n",
    "# Divide dataset into training and testing subsets\n",
    "X_train, X_test, y_train, y_test = train_test_split(X_numerical, y, test_size=0.3, random_state=58)\n",
    "\n",
    "fs = SelectKBest(f_classif, k='all')\n",
    "fs.fit(X_train, y_train)\n",
    "X_train_fs = fs.transform(X_train)\n",
    "X_test_fs = fs.transform(X_test)\n",
    "\n",
    "# plot the scores\n",
    "labels = X_numerical.columns[np.argsort(fs.scores_)]\n",
    "fs.scores_.sort()\n",
    "fig1, ax = plt.subplots()\n",
    "plt.bar([i for i in range(len(fs.scores_))], fs.scores_)\n",
    "plt.xticks(np.arange(len(labels)),labels, rotation=45)\n",
    "plt.show()"
   ]
  },
  {
   "cell_type": "markdown",
   "metadata": {
    "colab_type": "text",
    "id": "bN9iJb_KTIAT"
   },
   "source": [
    "We can see that variable age does not seem very significant. Right now it is treated as a continous variable - before deleteing it, we will try changing it into nominal variable. Therefore we will create age categories: 15-25, 25-35, etc. up to 65+."
   ]
  },
  {
   "cell_type": "code",
   "execution_count": 18,
   "metadata": {
    "colab": {},
    "colab_type": "code",
    "id": "RYhNScUlU0Hc"
   },
   "outputs": [],
   "source": [
    "df['age_cat'] = np.zeros(len(df))\n",
    "df.loc[df.age>15, 'age_cat'] = '1'\n",
    "df.loc[df.age>25, 'age_cat'] = '2'\n",
    "df.loc[df.age>35, 'age_cat'] = '3'\n",
    "df.loc[df.age>45, 'age_cat'] = '4'\n",
    "df.loc[df.age>55, 'age_cat'] = '5'\n",
    "df.loc[df.age>65, 'age_cat'] = '6'\n",
    "# one hot encoding - again\n",
    "levCols = []\n",
    "numCols = []\n",
    "for col in df.columns:\n",
    "    if df[col].dtype==object:\n",
    "        levCols.append(col)\n",
    "    else:\n",
    "        numCols.append(col)\n",
    "dummLev = pd.get_dummies(df[levCols])\n",
    "df_ohc = pd.concat([df[numCols], dummLev], axis=1)"
   ]
  },
  {
   "cell_type": "code",
   "execution_count": 19,
   "metadata": {
    "colab": {},
    "colab_type": "code",
    "id": "43LOwIXCXO5J"
   },
   "outputs": [],
   "source": [
    "y = df_ohc.y\n",
    "X = df_ohc.drop('y', axis=1)\n",
    "\n",
    "numCols.remove('y')"
   ]
  },
  {
   "cell_type": "code",
   "execution_count": 20,
   "metadata": {
    "colab": {
     "base_uri": "https://localhost:8080/",
     "height": 70
    },
    "colab_type": "code",
    "executionInfo": {
     "elapsed": 1045,
     "status": "ok",
     "timestamp": 1580050759212,
     "user": {
      "displayName": "Katarzyna Kryńska",
      "photoUrl": "",
      "userId": "01933405320100170098"
     },
     "user_tz": -60
    },
    "id": "2V2H-OhviZJR",
    "outputId": "8f802556-5756-4d48-8038-c40514ecd6cb"
   },
   "outputs": [
    {
     "name": "stdout",
     "output_type": "stream",
     "text": [
      "Index(['pdays', 'previous', 'emp.var.rate', 'cons.price.idx', 'euribor3m',\n",
      "       'nr.employed'],\n",
      "      dtype='object')\n"
     ]
    }
   ],
   "source": [
    "count = sum(map(lambda x : x > 200, fs.scores_))\n",
    "bestfeatures  = SelectKBest(score_func=f_classif, k=count)\n",
    "fit = bestfeatures.fit(X_train, y_train)\n",
    "mask = bestfeatures.get_support()\n",
    "cols_numerical = X_numerical.columns[mask]\n",
    "print(cols_numerical)"
   ]
  },
  {
   "cell_type": "markdown",
   "metadata": {
    "colab_type": "text",
    "id": "ZUetsARhiLzK"
   },
   "source": [
    "Best numerical features are 'pdays', 'previous', 'emp.var.rate', cons.price.idx', 'euribor3m', 'nr.employed'."
   ]
  },
  {
   "cell_type": "markdown",
   "metadata": {
    "colab_type": "text",
    "id": "xw_xcjNzVKqd"
   },
   "source": [
    "#### Chi-Squared Feature Selection"
   ]
  },
  {
   "cell_type": "markdown",
   "metadata": {
    "colab_type": "text",
    "id": "lbZJz8SoXnPQ"
   },
   "source": [
    "For categorical variables, we will use chi-squared feature selection."
   ]
  },
  {
   "cell_type": "code",
   "execution_count": 21,
   "metadata": {
    "colab": {},
    "colab_type": "code",
    "id": "X1TCUj_9VPUZ"
   },
   "outputs": [],
   "source": [
    "# Seperate the features from the target variable and choose only categorical variables\n",
    "y = df_ohc.y\n",
    "X = df_ohc.drop('y', axis=1)\n",
    "X_categorical = X.drop(numCols, axis=1)\n",
    "\n",
    "# Divide dataset into training and testing subsets\n",
    "X_train, X_test, y_train, y_test = train_test_split(X_categorical, y, test_size=0.3, random_state=58)"
   ]
  },
  {
   "cell_type": "code",
   "execution_count": 22,
   "metadata": {
    "colab": {
     "base_uri": "https://localhost:8080/",
     "height": 266
    },
    "colab_type": "code",
    "executionInfo": {
     "elapsed": 1122,
     "status": "ok",
     "timestamp": 1580050895613,
     "user": {
      "displayName": "Katarzyna Kryńska",
      "photoUrl": "",
      "userId": "01933405320100170098"
     },
     "user_tz": -60
    },
    "id": "jksTbRvJVMk9",
    "outputId": "6ce431b5-d139-4085-8d0c-4b37bd9f398b"
   },
   "outputs": [
    {
     "data": {
      "image/png": "[encoded data removed]",
      "text/plain": [
       "<Figure size 432x288 with 1 Axes>"
      ]
     },
     "metadata": {
      "needs_background": "light"
     },
     "output_type": "display_data"
    }
   ],
   "source": [
    "fs = SelectKBest(score_func=chi2, k='all')\n",
    "fs.fit(X_train, y_train)\n",
    "X_train_fs = fs.transform(X_train)\n",
    "X_test_fs = fs.transform(X_test)\n",
    "\n",
    "# plot the scores\n",
    "fs.scores_.sort()\n",
    "plt.bar([i for i in range(len(fs.scores_))], fs.scores_)\n",
    "plt.show()"
   ]
  },
  {
   "cell_type": "markdown",
   "metadata": {
    "colab_type": "text",
    "id": "yy3t9U5yazTp"
   },
   "source": [
    "We decided to leave features for which score is above 5."
   ]
  },
  {
   "cell_type": "code",
   "execution_count": 23,
   "metadata": {
    "colab": {
     "base_uri": "https://localhost:8080/",
     "height": 195
    },
    "colab_type": "code",
    "executionInfo": {
     "elapsed": 700,
     "status": "ok",
     "timestamp": 1580050901096,
     "user": {
      "displayName": "Katarzyna Kryńska",
      "photoUrl": "",
      "userId": "01933405320100170098"
     },
     "user_tz": -60
    },
    "id": "TA3UfJ-tcH1L",
    "outputId": "add96827-441e-41b8-8e63-9ac1afbc69cb"
   },
   "outputs": [
    {
     "name": "stdout",
     "output_type": "stream",
     "text": [
      "Index(['job_admin.', 'job_blue-collar', 'job_entrepreneur', 'job_retired',\n",
      "       'job_services', 'job_student', 'job_unemployed', 'marital_married',\n",
      "       'marital_single', 'education_basic.6y', 'education_basic.9y',\n",
      "       'education_university.degree', 'education_unknown', 'default_no',\n",
      "       'default_unknown', 'contact_cellular', 'contact_telephone', 'month_apr',\n",
      "       'month_dec', 'month_jul', 'month_mar', 'month_may', 'month_nov',\n",
      "       'month_oct', 'month_sep', 'day_of_week_mon', 'poutcome_failure',\n",
      "       'poutcome_nonexistent', 'poutcome_success', 'age_cat_1', 'age_cat_3',\n",
      "       'age_cat_4', 'age_cat_5', 'age_cat_6'],\n",
      "      dtype='object')\n"
     ]
    }
   ],
   "source": [
    "count = sum(map(lambda x : x > 5, fs.scores_))\n",
    "bestfeatures  = SelectKBest(score_func=chi2, k=count)\n",
    "fit = bestfeatures.fit(X_train, y_train)\n",
    "mask = bestfeatures.get_support()\n",
    "cols_categorical = X_categorical.columns[mask]\n",
    "print(cols_categorical)"
   ]
  },
  {
   "cell_type": "code",
   "execution_count": 24,
   "metadata": {
    "colab": {
     "base_uri": "https://localhost:8080/",
     "height": 241
    },
    "colab_type": "code",
    "executionInfo": {
     "elapsed": 817,
     "status": "ok",
     "timestamp": 1580050910436,
     "user": {
      "displayName": "Katarzyna Kryńska",
      "photoUrl": "",
      "userId": "01933405320100170098"
     },
     "user_tz": -60
    },
    "id": "K_ft78Zjilex",
    "outputId": "143c7d08-4eb4-4f91-8f9d-2172a40d774f"
   },
   "outputs": [
    {
     "data": {
      "text/html": [
       "<div>\n",
       "<style scoped>\n",
       "    .dataframe tbody tr th:only-of-type {\n",
       "        vertical-align: middle;\n",
       "    }\n",
       "\n",
       "    .dataframe tbody tr th {\n",
       "        vertical-align: top;\n",
       "    }\n",
       "\n",
       "    .dataframe thead th {\n",
       "        text-align: right;\n",
       "    }\n",
       "</style>\n",
       "<table border=\"1\" class=\"dataframe\">\n",
       "  <thead>\n",
       "    <tr style=\"text-align: right;\">\n",
       "      <th></th>\n",
       "      <th>pdays</th>\n",
       "      <th>previous</th>\n",
       "      <th>emp.var.rate</th>\n",
       "      <th>cons.price.idx</th>\n",
       "      <th>euribor3m</th>\n",
       "      <th>nr.employed</th>\n",
       "      <th>job_admin.</th>\n",
       "      <th>job_blue-collar</th>\n",
       "      <th>job_entrepreneur</th>\n",
       "      <th>job_retired</th>\n",
       "      <th>...</th>\n",
       "      <th>day_of_week_mon</th>\n",
       "      <th>poutcome_failure</th>\n",
       "      <th>poutcome_nonexistent</th>\n",
       "      <th>poutcome_success</th>\n",
       "      <th>age_cat_1</th>\n",
       "      <th>age_cat_3</th>\n",
       "      <th>age_cat_4</th>\n",
       "      <th>age_cat_5</th>\n",
       "      <th>age_cat_6</th>\n",
       "      <th>y</th>\n",
       "    </tr>\n",
       "  </thead>\n",
       "  <tbody>\n",
       "    <tr>\n",
       "      <th>0</th>\n",
       "      <td>999</td>\n",
       "      <td>0</td>\n",
       "      <td>1.1</td>\n",
       "      <td>93.994</td>\n",
       "      <td>4.857</td>\n",
       "      <td>5191.0</td>\n",
       "      <td>0</td>\n",
       "      <td>0</td>\n",
       "      <td>0</td>\n",
       "      <td>0</td>\n",
       "      <td>...</td>\n",
       "      <td>1</td>\n",
       "      <td>0</td>\n",
       "      <td>1</td>\n",
       "      <td>0</td>\n",
       "      <td>0</td>\n",
       "      <td>0</td>\n",
       "      <td>0</td>\n",
       "      <td>1</td>\n",
       "      <td>0</td>\n",
       "      <td>0</td>\n",
       "    </tr>\n",
       "    <tr>\n",
       "      <th>1</th>\n",
       "      <td>999</td>\n",
       "      <td>0</td>\n",
       "      <td>1.1</td>\n",
       "      <td>93.994</td>\n",
       "      <td>4.857</td>\n",
       "      <td>5191.0</td>\n",
       "      <td>0</td>\n",
       "      <td>0</td>\n",
       "      <td>0</td>\n",
       "      <td>0</td>\n",
       "      <td>...</td>\n",
       "      <td>1</td>\n",
       "      <td>0</td>\n",
       "      <td>1</td>\n",
       "      <td>0</td>\n",
       "      <td>0</td>\n",
       "      <td>0</td>\n",
       "      <td>0</td>\n",
       "      <td>1</td>\n",
       "      <td>0</td>\n",
       "      <td>0</td>\n",
       "    </tr>\n",
       "    <tr>\n",
       "      <th>2</th>\n",
       "      <td>999</td>\n",
       "      <td>0</td>\n",
       "      <td>1.1</td>\n",
       "      <td>93.994</td>\n",
       "      <td>4.857</td>\n",
       "      <td>5191.0</td>\n",
       "      <td>0</td>\n",
       "      <td>0</td>\n",
       "      <td>0</td>\n",
       "      <td>0</td>\n",
       "      <td>...</td>\n",
       "      <td>1</td>\n",
       "      <td>0</td>\n",
       "      <td>1</td>\n",
       "      <td>0</td>\n",
       "      <td>0</td>\n",
       "      <td>1</td>\n",
       "      <td>0</td>\n",
       "      <td>0</td>\n",
       "      <td>0</td>\n",
       "      <td>0</td>\n",
       "    </tr>\n",
       "    <tr>\n",
       "      <th>3</th>\n",
       "      <td>999</td>\n",
       "      <td>0</td>\n",
       "      <td>1.1</td>\n",
       "      <td>93.994</td>\n",
       "      <td>4.857</td>\n",
       "      <td>5191.0</td>\n",
       "      <td>1</td>\n",
       "      <td>0</td>\n",
       "      <td>0</td>\n",
       "      <td>0</td>\n",
       "      <td>...</td>\n",
       "      <td>1</td>\n",
       "      <td>0</td>\n",
       "      <td>1</td>\n",
       "      <td>0</td>\n",
       "      <td>0</td>\n",
       "      <td>1</td>\n",
       "      <td>0</td>\n",
       "      <td>0</td>\n",
       "      <td>0</td>\n",
       "      <td>0</td>\n",
       "    </tr>\n",
       "    <tr>\n",
       "      <th>4</th>\n",
       "      <td>999</td>\n",
       "      <td>0</td>\n",
       "      <td>1.1</td>\n",
       "      <td>93.994</td>\n",
       "      <td>4.857</td>\n",
       "      <td>5191.0</td>\n",
       "      <td>0</td>\n",
       "      <td>0</td>\n",
       "      <td>0</td>\n",
       "      <td>0</td>\n",
       "      <td>...</td>\n",
       "      <td>1</td>\n",
       "      <td>0</td>\n",
       "      <td>1</td>\n",
       "      <td>0</td>\n",
       "      <td>0</td>\n",
       "      <td>0</td>\n",
       "      <td>0</td>\n",
       "      <td>1</td>\n",
       "      <td>0</td>\n",
       "      <td>0</td>\n",
       "    </tr>\n",
       "  </tbody>\n",
       "</table>\n",
       "<p>5 rows × 41 columns</p>\n",
       "</div>"
      ],
      "text/plain": [
       "   pdays  previous  emp.var.rate  cons.price.idx  euribor3m  nr.employed  \\\n",
       "0    999         0           1.1          93.994      4.857       5191.0   \n",
       "1    999         0           1.1          93.994      4.857       5191.0   \n",
       "2    999         0           1.1          93.994      4.857       5191.0   \n",
       "3    999         0           1.1          93.994      4.857       5191.0   \n",
       "4    999         0           1.1          93.994      4.857       5191.0   \n",
       "\n",
       "   job_admin.  job_blue-collar  job_entrepreneur  job_retired  ...  \\\n",
       "0           0                0                 0            0  ...   \n",
       "1           0                0                 0            0  ...   \n",
       "2           0                0                 0            0  ...   \n",
       "3           1                0                 0            0  ...   \n",
       "4           0                0                 0            0  ...   \n",
       "\n",
       "   day_of_week_mon  poutcome_failure  poutcome_nonexistent  poutcome_success  \\\n",
       "0                1                 0                     1                 0   \n",
       "1                1                 0                     1                 0   \n",
       "2                1                 0                     1                 0   \n",
       "3                1                 0                     1                 0   \n",
       "4                1                 0                     1                 0   \n",
       "\n",
       "   age_cat_1  age_cat_3  age_cat_4  age_cat_5  age_cat_6  y  \n",
       "0          0          0          0          1          0  0  \n",
       "1          0          0          0          1          0  0  \n",
       "2          0          1          0          0          0  0  \n",
       "3          0          1          0          0          0  0  \n",
       "4          0          0          0          1          0  0  \n",
       "\n",
       "[5 rows x 41 columns]"
      ]
     },
     "execution_count": 24,
     "metadata": {},
     "output_type": "execute_result"
    }
   ],
   "source": [
    "df_feat = df_ohc[cols_numerical.to_list() + cols_categorical.to_list () + ['y']]\n",
    "df_feat.head(5)"
   ]
  },
  {
   "cell_type": "markdown",
   "metadata": {},
   "source": [
    "In the end, our dataset contains 40 features."
   ]
  },
  {
   "cell_type": "markdown",
   "metadata": {
    "colab_type": "text",
    "id": "sWRY_M2xcioR"
   },
   "source": [
    "## Performance Metrics"
   ]
  },
  {
   "cell_type": "markdown",
   "metadata": {
    "colab_type": "text",
    "id": "Ydsib7y_ZkYy"
   },
   "source": [
    "Because our data is imbalanced, using Accuracy can be misleading. In perspective of business needs, we need to have a small False Negative ratio (because these are the clients who would have be interested in making a deposit if we called them) and a high True Positive ratio. Therefore the metrics that we will be most interested in is Sensitivity (Recall).\n"
   ]
  },
  {
   "cell_type": "markdown",
   "metadata": {
    "colab_type": "text",
    "id": "FvxXbcp1cvzX"
   },
   "source": [
    "![alt text](https://raw.githubusercontent.com/kasiakry/ml2-big-dataset/master/confusion_matrix.PNG)"
   ]
  },
  {
   "cell_type": "markdown",
   "metadata": {
    "colab_type": "text",
    "id": "h63R2nHje0qw"
   },
   "source": [
    "To make plots, we will use function provided by [wagnerbhbr](https://github.com/wcipriano/pretty-print-confusion-matrix), slightly modified to suit our needs.\n",
    "\n"
   ]
  },
  {
   "cell_type": "code",
   "execution_count": 25,
   "metadata": {
    "colab": {},
    "colab_type": "code",
    "id": "_k7Pe_cq4ymC"
   },
   "outputs": [],
   "source": [
    "#import sys, importlib\n",
    "#importlib.reload(sys.modules['confusion_matrix_pretty_print'])\n",
    "from confusion_matrix_pretty_print import plot_confusion_matrix_from_data\n",
    "def plot_conf_m(y_train, y_train_pred, y_test, y_test_pred):\n",
    "  fig, axs = plt.subplots(1, 2)\n",
    "  plot_confusion_matrix_from_data(y_train, y_train_pred, figsize=[6,6], columns=['No','Yes'], pred_val_axis='y', ax1=axs[0], title='Training dataset')\n",
    "  plot_confusion_matrix_from_data(y_test, y_test_pred, figsize=[6,6], columns=['No','Yes'], pred_val_axis='y', ax1=fig.axes[1], title='Testing dataset')\n",
    "  fig.set_size_inches(12, 6)\n",
    "  fig.tight_layout()\n",
    "  fig.show();"
   ]
  },
  {
   "cell_type": "markdown",
   "metadata": {
    "colab_type": "text",
    "id": "VkTL76i9kSAZ"
   },
   "source": [
    "## Logistic regression"
   ]
  },
  {
   "cell_type": "markdown",
   "metadata": {
    "colab_type": "text",
    "id": "Uamm1A4j_Dh8"
   },
   "source": [
    "Logistic regression is an excellent baseline algorithm and it can serve as a benchmark to our later models. Python library scikit-learn offers five different solvers algorithms - in our analysis we chose 'lbfgs', as it is usually faster for bigger datasets than 'liblinear' and it does not need scaling the features. We increased the maximum number of iterations to 1000, as the algorithm failed to converge with default 100 iterations. "
   ]
  },
  {
   "cell_type": "markdown",
   "metadata": {
    "colab_type": "text",
    "id": "_TYQblLyZdJS"
   },
   "source": [
    "### Logistic regression on full dataset"
   ]
  },
  {
   "cell_type": "code",
   "execution_count": 31,
   "metadata": {
    "colab": {},
    "colab_type": "code",
    "id": "hj0pdqdJkZYE"
   },
   "outputs": [],
   "source": [
    "# Seperate the features from the target variable\n",
    "y = df_ohc.y\n",
    "X = df_ohc.drop('y', axis=1)\n",
    "\n",
    "# Divide dataset into training and testing subsets\n",
    "X_train, X_test, y_train, y_test = train_test_split(X, y, test_size=0.3, random_state=58)\n",
    "\n",
    "# Train model\n",
    "log_reg = LogisticRegression(solver='lbfgs', max_iter=1000).fit(X_train, y_train)\n",
    "\n",
    "# Predict on training dataset\n",
    "y_train_pred_lr = log_reg.predict(X_train)\n",
    "\n",
    "# Predict on testing dataset\n",
    "y_pred_lr = log_reg.predict(X_test)"
   ]
  },
  {
   "cell_type": "code",
   "execution_count": 32,
   "metadata": {
    "colab": {
     "base_uri": "https://localhost:8080/",
     "height": 441
    },
    "colab_type": "code",
    "executionInfo": {
     "elapsed": 2245,
     "status": "ok",
     "timestamp": 1580052769430,
     "user": {
      "displayName": "Katarzyna Kryńska",
      "photoUrl": "",
      "userId": "01933405320100170098"
     },
     "user_tz": -60
    },
    "id": "qUd6Zf-oBX-5",
    "outputId": "56d09e17-05fe-4f76-8f3d-b80ace469ad1"
   },
   "outputs": [
    {
     "name": "stderr",
     "output_type": "stream",
     "text": [
      "C:\\Users\\xx\\Anaconda3\\lib\\site-packages\\matplotlib\\figure.py:457: UserWarning: matplotlib is currently using a non-GUI backend, so cannot show the figure\n",
      "  \"matplotlib is currently using a non-GUI backend, \"\n"
     ]
    },
    {
     "data": {
      "image/png": "[encoded data removed]",
      "text/plain": [
       "<Figure size 864x432 with 2 Axes>"
      ]
     },
     "metadata": {
      "needs_background": "light"
     },
     "output_type": "display_data"
    }
   ],
   "source": [
    "plot_conf_m(y_train, y_train_pred_lr,y_test, y_pred_lr)"
   ]
  },
  {
   "cell_type": "markdown",
   "metadata": {},
   "source": [
    "Recall on testing dataset is **20.49%**. "
   ]
  },
  {
   "cell_type": "markdown",
   "metadata": {
    "colab_type": "text",
    "id": "icH8kCHde_Rz"
   },
   "source": [
    "### Logistic regression on feature-selected dataset "
   ]
  },
  {
   "cell_type": "code",
   "execution_count": 147,
   "metadata": {
    "colab": {
     "base_uri": "https://localhost:8080/",
     "height": 441
    },
    "colab_type": "code",
    "executionInfo": {
     "elapsed": 3580,
     "status": "ok",
     "timestamp": 1580052796847,
     "user": {
      "displayName": "Katarzyna Kryńska",
      "photoUrl": "",
      "userId": "01933405320100170098"
     },
     "user_tz": -60
    },
    "id": "Fzh336J3kaaJ",
    "outputId": "ea89c32d-141b-4a56-8c56-06e1a41d24c8"
   },
   "outputs": [
    {
     "name": "stderr",
     "output_type": "stream",
     "text": [
      "C:\\Users\\xx\\Anaconda3\\lib\\site-packages\\matplotlib\\figure.py:457: UserWarning: matplotlib is currently using a non-GUI backend, so cannot show the figure\n",
      "  \"matplotlib is currently using a non-GUI backend, \"\n"
     ]
    },
    {
     "data": {
      "image/png": "[encoded data removed]",
      "text/plain": [
       "<Figure size 864x432 with 2 Axes>"
      ]
     },
     "metadata": {
      "needs_background": "light"
     },
     "output_type": "display_data"
    }
   ],
   "source": [
    "# Seperate the features from the target variable\n",
    "y = df_feat.y\n",
    "X = df_feat.drop('y', axis=1)\n",
    "\n",
    "# Divide dataset into training and testing subsets\n",
    "X_train, X_test, y_train, y_test = train_test_split(X, y, test_size=0.3, random_state=58)\n",
    "\n",
    "# Train model\n",
    "log_reg = LogisticRegression(solver='lbfgs', max_iter=1000).fit(X_train, y_train)\n",
    "\n",
    "# Predict on training dataset\n",
    "y_train_pred_lr = log_reg.predict(X_train)\n",
    "\n",
    "# Predict on testing dataset\n",
    "y_pred_lr = log_reg.predict(X_test)\n",
    "\n",
    "plot_conf_m(y_train, y_train_pred_lr,y_test, y_pred_lr)"
   ]
  },
  {
   "cell_type": "markdown",
   "metadata": {},
   "source": [
    "We can see that logistic regression on our feature-selected dataset is slightly better - recall on test dataset equals to **21.17%**. "
   ]
  },
  {
   "cell_type": "markdown",
   "metadata": {
    "colab_type": "text",
    "id": "4NlfVSlt-hU-"
   },
   "source": [
    "## Decision tree"
   ]
  },
  {
   "cell_type": "markdown",
   "metadata": {
    "colab_type": "text",
    "id": "sAbbepmSXKN6"
   },
   "source": [
    "Decision trees are a non-parametric supervised learning method. They are simple to understand and interpret and, what more, they are easy to visualize. Decision trees frequently perform well on imbalanced data. However, they are prone to overfitting - to avoid this problem we can use following solutions:\n",
    "1. Pre-pruning by setting appropriate stopping criterion,\n",
    "2. Post-pruning the large tree.\n",
    "\n",
    "Python library scikit learn provides parameters *min_samples_leaf*, *max_depth* to prevent a tree from overfitting. It also provides cost complexity parameter parameter *alpha*, which is used in a pruning technique called cost complexity pruning. In our project, we will use this technique. To set adequate alpha, we will divide our training dataset into training and validation samples and apply best performing tree to our test data."
   ]
  },
  {
   "cell_type": "code",
   "execution_count": 150,
   "metadata": {
    "colab": {},
    "colab_type": "code",
    "id": "70rdDcssmQ0R"
   },
   "outputs": [],
   "source": [
    "from sklearn.tree import DecisionTreeClassifier"
   ]
  },
  {
   "cell_type": "code",
   "execution_count": 32,
   "metadata": {
    "colab": {
     "base_uri": "https://localhost:8080/",
     "height": 35
    },
    "colab_type": "code",
    "executionInfo": {
     "elapsed": 213912,
     "status": "ok",
     "timestamp": 1580053319945,
     "user": {
      "displayName": "Katarzyna Kryńska",
      "photoUrl": "",
      "userId": "01933405320100170098"
     },
     "user_tz": -60
    },
    "id": "vV_TaJpjmRRm",
    "outputId": "8dec02cc-259b-44bf-8783-96b0f1cf752a"
   },
   "outputs": [
    {
     "name": "stdout",
     "output_type": "stream",
     "text": [
      "Number of nodes in the last tree is: 3 with ccp_alpha: 0.030137787434358354\n"
     ]
    }
   ],
   "source": [
    "# Seperate the features from the target variable\n",
    "y = df_ohc.y\n",
    "X = df_ohc.drop('y', axis=1)\n",
    "\n",
    "# Divide dataset into training and testing subsets\n",
    "X_train, X_test, y_train, y_test = train_test_split(X, y, test_size=0.3, random_state=58)\n",
    "\n",
    "# Divide train dataset into training and validation subsets\n",
    "X_train, X_validate, y_train, y_validate = train_test_split(X_train, y_train, random_state=58)\n",
    "\n",
    "# Create Decision Tree classifer object\n",
    "clf = DecisionTreeClassifier(random_state=58)\n",
    "path = clf.cost_complexity_pruning_path(X_train, y_train)\n",
    "ccp_alphas, impurities = path.ccp_alphas, path.impurities\n",
    "\n",
    "clfs = []\n",
    "for ccp_alpha in ccp_alphas:\n",
    "    clf = DecisionTreeClassifier(random_state=0, ccp_alpha=ccp_alpha)\n",
    "    clf.fit(X_train, y_train)\n",
    "    clfs.append(clf)\n",
    "print(\"Number of nodes in the last tree is: {} with ccp_alpha: {}\".format(\n",
    "      clfs[-1].tree_.node_count, ccp_alphas[-1]))\n"
   ]
  },
  {
   "cell_type": "code",
   "execution_count": 33,
   "metadata": {
    "colab": {
     "base_uri": "https://localhost:8080/",
     "height": 295
    },
    "colab_type": "code",
    "executionInfo": {
     "elapsed": 15537,
     "status": "ok",
     "timestamp": 1580053347598,
     "user": {
      "displayName": "Katarzyna Kryńska",
      "photoUrl": "",
      "userId": "01933405320100170098"
     },
     "user_tz": -60
    },
    "id": "UhQ8U-gWJCDw",
    "outputId": "90ceeaa2-6da6-4c6d-b6fa-ea6b74518815"
   },
   "outputs": [
    {
     "data": {
      "image/png": "[encoded data removed]",
      "text/plain": [
       "<Figure size 432x288 with 1 Axes>"
      ]
     },
     "metadata": {
      "needs_background": "light"
     },
     "output_type": "display_data"
    }
   ],
   "source": [
    "train_scores = [clf.score(X_train, y_train) for clf in clfs]\n",
    "validate_scores = [clf.score(X_validate, y_validate) for clf in clfs]\n",
    "\n",
    "fig, ax = plt.subplots()\n",
    "ax.set_xlabel(\"alpha\")\n",
    "ax.set_ylabel(\"accuracy\")\n",
    "ax.set_title(\"Accuracy vs alpha for training and validating sets\")\n",
    "ax.plot(ccp_alphas, train_scores, marker='o', label=\"train\",\n",
    "        drawstyle=\"steps-post\")\n",
    "ax.plot(ccp_alphas, validate_scores, marker='o', label=\"validate\",\n",
    "        drawstyle=\"steps-post\")\n",
    "ax.legend()\n",
    "plt.show()"
   ]
  },
  {
   "cell_type": "markdown",
   "metadata": {},
   "source": [
    "We can see that when alpha is set to 0, tree overfits, resulting in 100% accuracy for train and only 84% for validate set. Alpha that maximizes accuracy is somewhere around 0.003."
   ]
  },
  {
   "cell_type": "code",
   "execution_count": 151,
   "metadata": {
    "colab": {},
    "colab_type": "code",
    "id": "AyKbu2g5KHjf"
   },
   "outputs": [],
   "source": [
    "clf = DecisionTreeClassifier(random_state=58, ccp_alpha=0.003)\n",
    "\n",
    "# Seperate the features from the target variable\n",
    "y = df_ohc.y\n",
    "X = df_ohc.drop('y', axis=1)\n",
    "\n",
    "# Divide dataset into training and testing subsets\n",
    "X_train, X_test, y_train, y_test = train_test_split(X, y, test_size=0.3, random_state=58)\n",
    "\n",
    "clf.fit(X_train, y_train)\n",
    "\n",
    "# Predict on training dataset\n",
    "y_train_pred_dt = clf.predict(X_train)\n",
    "\n",
    "# Predict on testing dataset\n",
    "y_pred_dt = clf.predict(X_test)"
   ]
  },
  {
   "cell_type": "code",
   "execution_count": 35,
   "metadata": {
    "colab": {
     "base_uri": "https://localhost:8080/",
     "height": 441
    },
    "colab_type": "code",
    "executionInfo": {
     "elapsed": 1676,
     "status": "ok",
     "timestamp": 1580054155315,
     "user": {
      "displayName": "Katarzyna Kryńska",
      "photoUrl": "",
      "userId": "01933405320100170098"
     },
     "user_tz": -60
    },
    "id": "2DJWu5yOmmtl",
    "outputId": "b3cd63a4-ffab-40f4-e096-e1dc97ef0eaa"
   },
   "outputs": [
    {
     "name": "stderr",
     "output_type": "stream",
     "text": [
      "C:\\Users\\xx\\Anaconda3\\lib\\site-packages\\matplotlib\\figure.py:457: UserWarning: matplotlib is currently using a non-GUI backend, so cannot show the figure\n",
      "  \"matplotlib is currently using a non-GUI backend, \"\n"
     ]
    },
    {
     "data": {
      "image/png": "[encoded data removed]",
      "text/plain": [
       "<Figure size 864x432 with 2 Axes>"
      ]
     },
     "metadata": {
      "needs_background": "light"
     },
     "output_type": "display_data"
    }
   ],
   "source": [
    "plot_conf_m(y_train, y_train_pred_dt,y_test, y_pred_dt)"
   ]
  },
  {
   "cell_type": "markdown",
   "metadata": {},
   "source": [
    "Unfortunately, decision tree on testing dataset achieves only **17.50%** recall score."
   ]
  },
  {
   "cell_type": "code",
   "execution_count": 36,
   "metadata": {
    "colab": {
     "base_uri": "https://localhost:8080/",
     "height": 439
    },
    "colab_type": "code",
    "executionInfo": {
     "elapsed": 546,
     "status": "ok",
     "timestamp": 1580054156156,
     "user": {
      "displayName": "Katarzyna Kryńska",
      "photoUrl": "",
      "userId": "01933405320100170098"
     },
     "user_tz": -60
    },
    "id": "BxQZU860ifnx",
    "outputId": "d047711d-604d-4246-d960-c800dcedfa56"
   },
   "outputs": [
    {
     "data": {
      "image/svg+xml": [
       "<?xml version=\"1.0\" encoding=\"UTF-8\" standalone=\"no\"?>\r\n",
       "<!DOCTYPE svg PUBLIC \"-//W3C//DTD SVG 1.1//EN\"\r\n",
       " \"http://www.w3.org/Graphics/SVG/1.1/DTD/svg11.dtd\">\r\n",
       "<!-- Generated by graphviz version 2.38.0 (20140413.2041)\r\n",
       " -->\r\n",
       "<!-- Title: Tree Pages: 1 -->\r\n",
       "<svg width=\"396pt\" height=\"314pt\"\r\n",
       " viewBox=\"0.00 0.00 395.50 314.00\" xmlns=\"http://www.w3.org/2000/svg\" xmlns:xlink=\"http://www.w3.org/1999/xlink\">\r\n",
       "<g id=\"graph0\" class=\"graph\" transform=\"scale(1 1) rotate(0) translate(4 310)\">\r\n",
       "<title>Tree</title>\r\n",
       "<polygon fill=\"white\" stroke=\"none\" points=\"-4,4 -4,-310 391.5,-310 391.5,4 -4,4\"/>\r\n",
       "<!-- 0 -->\r\n",
       "<g id=\"node1\" class=\"node\"><title>0</title>\r\n",
       "<path fill=\"#e89153\" stroke=\"black\" d=\"M295,-306C295,-306 155,-306 155,-306 149,-306 143,-300 143,-294 143,-294 143,-235 143,-235 143,-229 149,-223 155,-223 155,-223 295,-223 295,-223 301,-223 307,-229 307,-235 307,-235 307,-294 307,-294 307,-300 301,-306 295,-306\"/>\r\n",
       "<text text-anchor=\"start\" x=\"151\" y=\"-290.8\" font-family=\"Helvetica,sans-Serif\" font-size=\"14.00\">nr.employed ≤ 5087.65</text>\r\n",
       "<text text-anchor=\"start\" x=\"187.5\" y=\"-275.8\" font-family=\"Helvetica,sans-Serif\" font-size=\"14.00\">gini = 0.203</text>\r\n",
       "<text text-anchor=\"start\" x=\"169\" y=\"-260.8\" font-family=\"Helvetica,sans-Serif\" font-size=\"14.00\">samples = 28831</text>\r\n",
       "<text text-anchor=\"start\" x=\"155.5\" y=\"-245.8\" font-family=\"Helvetica,sans-Serif\" font-size=\"14.00\">value = [25528, 3303]</text>\r\n",
       "<text text-anchor=\"start\" x=\"192.5\" y=\"-230.8\" font-family=\"Helvetica,sans-Serif\" font-size=\"14.00\">class = no</text>\r\n",
       "</g>\r\n",
       "<!-- 1 -->\r\n",
       "<g id=\"node2\" class=\"node\"><title>1</title>\r\n",
       "<path fill=\"#fae6d8\" stroke=\"black\" d=\"M202,-187C202,-187 80,-187 80,-187 74,-187 68,-181 68,-175 68,-175 68,-116 68,-116 68,-110 74,-104 80,-104 80,-104 202,-104 202,-104 208,-104 214,-110 214,-116 214,-116 214,-175 214,-175 214,-181 208,-187 202,-187\"/>\r\n",
       "<text text-anchor=\"start\" x=\"100\" y=\"-171.8\" font-family=\"Helvetica,sans-Serif\" font-size=\"14.00\">pdays ≤ 15.5</text>\r\n",
       "<text text-anchor=\"start\" x=\"103.5\" y=\"-156.8\" font-family=\"Helvetica,sans-Serif\" font-size=\"14.00\">gini = 0.494</text>\r\n",
       "<text text-anchor=\"start\" x=\"89.5\" y=\"-141.8\" font-family=\"Helvetica,sans-Serif\" font-size=\"14.00\">samples = 3480</text>\r\n",
       "<text text-anchor=\"start\" x=\"76\" y=\"-126.8\" font-family=\"Helvetica,sans-Serif\" font-size=\"14.00\">value = [1930, 1550]</text>\r\n",
       "<text text-anchor=\"start\" x=\"108.5\" y=\"-111.8\" font-family=\"Helvetica,sans-Serif\" font-size=\"14.00\">class = no</text>\r\n",
       "</g>\r\n",
       "<!-- 0&#45;&gt;1 -->\r\n",
       "<g id=\"edge1\" class=\"edge\"><title>0&#45;&gt;1</title>\r\n",
       "<path fill=\"none\" stroke=\"black\" d=\"M195.857,-222.907C189.471,-214.014 182.648,-204.509 176.058,-195.331\"/>\r\n",
       "<polygon fill=\"black\" stroke=\"black\" points=\"178.767,-193.103 170.092,-187.021 173.081,-197.185 178.767,-193.103\"/>\r\n",
       "<text text-anchor=\"middle\" x=\"166.042\" y=\"-207.991\" font-family=\"Helvetica,sans-Serif\" font-size=\"14.00\">True</text>\r\n",
       "</g>\r\n",
       "<!-- 4 -->\r\n",
       "<g id=\"node5\" class=\"node\"><title>4</title>\r\n",
       "<path fill=\"#e78a48\" stroke=\"black\" d=\"M375.5,-179.5C375.5,-179.5 244.5,-179.5 244.5,-179.5 238.5,-179.5 232.5,-173.5 232.5,-167.5 232.5,-167.5 232.5,-123.5 232.5,-123.5 232.5,-117.5 238.5,-111.5 244.5,-111.5 244.5,-111.5 375.5,-111.5 375.5,-111.5 381.5,-111.5 387.5,-117.5 387.5,-123.5 387.5,-123.5 387.5,-167.5 387.5,-167.5 387.5,-173.5 381.5,-179.5 375.5,-179.5\"/>\r\n",
       "<text text-anchor=\"start\" x=\"272.5\" y=\"-164.3\" font-family=\"Helvetica,sans-Serif\" font-size=\"14.00\">gini = 0.129</text>\r\n",
       "<text text-anchor=\"start\" x=\"254\" y=\"-149.3\" font-family=\"Helvetica,sans-Serif\" font-size=\"14.00\">samples = 25351</text>\r\n",
       "<text text-anchor=\"start\" x=\"240.5\" y=\"-134.3\" font-family=\"Helvetica,sans-Serif\" font-size=\"14.00\">value = [23598, 1753]</text>\r\n",
       "<text text-anchor=\"start\" x=\"277.5\" y=\"-119.3\" font-family=\"Helvetica,sans-Serif\" font-size=\"14.00\">class = no</text>\r\n",
       "</g>\r\n",
       "<!-- 0&#45;&gt;4 -->\r\n",
       "<g id=\"edge4\" class=\"edge\"><title>0&#45;&gt;4</title>\r\n",
       "<path fill=\"none\" stroke=\"black\" d=\"M254.49,-222.907C262.747,-211.542 271.729,-199.178 280.015,-187.774\"/>\r\n",
       "<polygon fill=\"black\" stroke=\"black\" points=\"282.858,-189.814 285.904,-179.667 277.195,-185.7 282.858,-189.814\"/>\r\n",
       "<text text-anchor=\"middle\" x=\"289.816\" y=\"-200.659\" font-family=\"Helvetica,sans-Serif\" font-size=\"14.00\">False</text>\r\n",
       "</g>\r\n",
       "<!-- 2 -->\r\n",
       "<g id=\"node3\" class=\"node\"><title>2</title>\r\n",
       "<path fill=\"#85c3ef\" stroke=\"black\" d=\"M118,-68C118,-68 12,-68 12,-68 6,-68 0,-62 0,-56 0,-56 0,-12 0,-12 0,-6 6,-0 12,-0 12,-0 118,-0 118,-0 124,-0 130,-6 130,-12 130,-12 130,-56 130,-56 130,-62 124,-68 118,-68\"/>\r\n",
       "<text text-anchor=\"start\" x=\"27.5\" y=\"-52.8\" font-family=\"Helvetica,sans-Serif\" font-size=\"14.00\">gini = 0.401</text>\r\n",
       "<text text-anchor=\"start\" x=\"17.5\" y=\"-37.8\" font-family=\"Helvetica,sans-Serif\" font-size=\"14.00\">samples = 857</text>\r\n",
       "<text text-anchor=\"start\" x=\"8\" y=\"-22.8\" font-family=\"Helvetica,sans-Serif\" font-size=\"14.00\">value = [238, 619]</text>\r\n",
       "<text text-anchor=\"start\" x=\"29\" y=\"-7.8\" font-family=\"Helvetica,sans-Serif\" font-size=\"14.00\">class = yes</text>\r\n",
       "</g>\r\n",
       "<!-- 1&#45;&gt;2 -->\r\n",
       "<g id=\"edge2\" class=\"edge\"><title>1&#45;&gt;2</title>\r\n",
       "<path fill=\"none\" stroke=\"black\" d=\"M112.7,-103.726C106.56,-94.879 100.057,-85.51 93.8941,-76.6303\"/>\r\n",
       "<polygon fill=\"black\" stroke=\"black\" points=\"96.6893,-74.5191 88.1121,-68.2996 90.9386,-78.5104 96.6893,-74.5191\"/>\r\n",
       "</g>\r\n",
       "<!-- 3 -->\r\n",
       "<g id=\"node4\" class=\"node\"><title>3</title>\r\n",
       "<path fill=\"#f3c6a6\" stroke=\"black\" d=\"M274,-68C274,-68 160,-68 160,-68 154,-68 148,-62 148,-56 148,-56 148,-12 148,-12 148,-6 154,-0 160,-0 160,-0 274,-0 274,-0 280,-0 286,-6 286,-12 286,-12 286,-56 286,-56 286,-62 280,-68 274,-68\"/>\r\n",
       "<text text-anchor=\"start\" x=\"179.5\" y=\"-52.8\" font-family=\"Helvetica,sans-Serif\" font-size=\"14.00\">gini = 0.458</text>\r\n",
       "<text text-anchor=\"start\" x=\"165.5\" y=\"-37.8\" font-family=\"Helvetica,sans-Serif\" font-size=\"14.00\">samples = 2623</text>\r\n",
       "<text text-anchor=\"start\" x=\"156\" y=\"-22.8\" font-family=\"Helvetica,sans-Serif\" font-size=\"14.00\">value = [1692, 931]</text>\r\n",
       "<text text-anchor=\"start\" x=\"184.5\" y=\"-7.8\" font-family=\"Helvetica,sans-Serif\" font-size=\"14.00\">class = no</text>\r\n",
       "</g>\r\n",
       "<!-- 1&#45;&gt;3 -->\r\n",
       "<g id=\"edge3\" class=\"edge\"><title>1&#45;&gt;3</title>\r\n",
       "<path fill=\"none\" stroke=\"black\" d=\"M169.3,-103.726C175.44,-94.879 181.943,-85.51 188.106,-76.6303\"/>\r\n",
       "<polygon fill=\"black\" stroke=\"black\" points=\"191.061,-78.5104 193.888,-68.2996 185.311,-74.5191 191.061,-78.5104\"/>\r\n",
       "</g>\r\n",
       "</g>\r\n",
       "</svg>\r\n"
      ],
      "text/plain": [
       "<graphviz.files.Source at 0x1cc8b973710>"
      ]
     },
     "execution_count": 36,
     "metadata": {},
     "output_type": "execute_result"
    }
   ],
   "source": [
    "from sklearn import tree\n",
    "import graphviz \n",
    "import os\n",
    "os.environ[\"PATH\"] += os.pathsep + 'C:/Program Files (x86)/Graphviz2.38/bin/'\n",
    "dot_data = tree.export_graphviz(clf, out_file=None,\n",
    "                                feature_names=X_train.columns,\n",
    "                                class_names=['no','yes'],\n",
    "                                filled=True, rounded=True,\n",
    "                                special_characters=True) \n",
    "graph = graphviz.Source(dot_data)\n",
    "graph"
   ]
  },
  {
   "cell_type": "markdown",
   "metadata": {
    "colab_type": "text",
    "id": "e1ngW8o6jZWm"
   },
   "source": [
    "Decision tree classifies true if the number of employees is less than 5087.65 and number of days since last contact is less than 15.5."
   ]
  },
  {
   "cell_type": "markdown",
   "metadata": {
    "colab_type": "text",
    "id": "Us_IGVo6lBnd"
   },
   "source": [
    "## Random Forest"
   ]
  },
  {
   "cell_type": "markdown",
   "metadata": {},
   "source": [
    "Random decision forests are an ensemble learning method for classification. They operate by constructing a multitude of decision trees at training time and outputting the class that is the mode of the classes. Therefore we expect that they will have better prediction power than simple decision tree. To implement Random Forest, we will use python package sk-learn."
   ]
  },
  {
   "cell_type": "code",
   "execution_count": 37,
   "metadata": {
    "colab": {},
    "colab_type": "code",
    "id": "un2081VslHWK"
   },
   "outputs": [],
   "source": [
    "from sklearn.ensemble import RandomForestClassifier\n",
    "from sklearn.model_selection import GridSearchCV"
   ]
  },
  {
   "cell_type": "markdown",
   "metadata": {
    "colab_type": "text",
    "id": "DzMfVlXOm0SB"
   },
   "source": [
    "Random Forests are robust to over-fittng effect, thus we will perform Random Forest on whole dataset - not the feature-selected one."
   ]
  },
  {
   "cell_type": "code",
   "execution_count": 27,
   "metadata": {
    "colab": {},
    "colab_type": "code",
    "id": "cUuQSPzQmiss"
   },
   "outputs": [],
   "source": [
    "rf = RandomForestClassifier(random_state=58)\n",
    "\n",
    "# Seperate the features from the target variable\n",
    "y = df_ohc.y\n",
    "X = df_ohc.drop('y', axis=1)\n",
    "\n",
    "# Divide dataset into training and testing subsets\n",
    "X_train, X_test, y_train, y_test = train_test_split(X, y, test_size=0.3, random_state=58)"
   ]
  },
  {
   "cell_type": "markdown",
   "metadata": {
    "colab_type": "text",
    "id": "I-jxhH_8pBJS"
   },
   "source": [
    "To tune up the parameters, we will use Hyperparameter Tuning. We will firstly create a Random Hyperparameter Grid and then randomly sample from the grid, performing K-Fold CV with Scikit-Learn's RandomizedSearchCV method."
   ]
  },
  {
   "cell_type": "code",
   "execution_count": 39,
   "metadata": {
    "colab": {},
    "colab_type": "code",
    "id": "5PDYVGmUpIHq"
   },
   "outputs": [],
   "source": [
    "from sklearn.model_selection import RandomizedSearchCV\n",
    "# Number of trees in random forest\n",
    "n_estimators = [int(x) for x in np.linspace(start = 200, stop = 2000, num = 10)]\n",
    "# Number of features to consider at every split\n",
    "max_features = ['auto', 'sqrt']\n",
    "# Maximum number of levels in tree\n",
    "max_depth = [int(x) for x in np.linspace(10, 110, num = 11)]\n",
    "max_depth.append(None)\n",
    "# Minimum number of samples required to split a node\n",
    "min_samples_split = [2, 5, 10]\n",
    "# Minimum number of samples required at each leaf node\n",
    "min_samples_leaf = [1, 2, 4]\n",
    "# Method of selecting samples for training each tree\n",
    "bootstrap = [True, False]\n",
    "# Create the random grid\n",
    "random_grid = {'n_estimators': n_estimators,\n",
    "               'max_features': max_features,\n",
    "               'max_depth': max_depth,\n",
    "               'min_samples_split': min_samples_split,\n",
    "               'min_samples_leaf': min_samples_leaf,\n",
    "               'bootstrap': bootstrap}"
   ]
  },
  {
   "cell_type": "code",
   "execution_count": 40,
   "metadata": {
    "colab": {
     "base_uri": "https://localhost:8080/",
     "height": 106
    },
    "colab_type": "code",
    "id": "HrkIOoyYpQBq",
    "outputId": "8a99de46-b149-4c3b-9026-0a9604f2b670"
   },
   "outputs": [
    {
     "name": "stdout",
     "output_type": "stream",
     "text": [
      "Fitting 3 folds for each of 100 candidates, totalling 300 fits\n"
     ]
    },
    {
     "name": "stderr",
     "output_type": "stream",
     "text": [
      "[Parallel(n_jobs=-1)]: Using backend LokyBackend with 8 concurrent workers.\n",
      "[Parallel(n_jobs=-1)]: Done  25 tasks      | elapsed:  3.5min\n",
      "[Parallel(n_jobs=-1)]: Done 146 tasks      | elapsed: 27.5min\n",
      "[Parallel(n_jobs=-1)]: Done 300 out of 300 | elapsed: 57.2min finished\n"
     ]
    },
    {
     "data": {
      "text/plain": [
       "RandomizedSearchCV(cv=3, error_score=nan,\n",
       "                   estimator=RandomForestClassifier(bootstrap=True,\n",
       "                                                    ccp_alpha=0.0,\n",
       "                                                    class_weight=None,\n",
       "                                                    criterion='gini',\n",
       "                                                    max_depth=None,\n",
       "                                                    max_features='auto',\n",
       "                                                    max_leaf_nodes=None,\n",
       "                                                    max_samples=None,\n",
       "                                                    min_impurity_decrease=0.0,\n",
       "                                                    min_impurity_split=None,\n",
       "                                                    min_samples_leaf=1,\n",
       "                                                    min_samples_split=2,\n",
       "                                                    min_weight_fraction_leaf=0.0,\n",
       "                                                    n_estimators=100,\n",
       "                                                    n_jobs...\n",
       "                   param_distributions={'bootstrap': [True, False],\n",
       "                                        'max_depth': [10, 20, 30, 40, 50, 60,\n",
       "                                                      70, 80, 90, 100, 110,\n",
       "                                                      None],\n",
       "                                        'max_features': ['auto', 'sqrt'],\n",
       "                                        'min_samples_leaf': [1, 2, 4],\n",
       "                                        'min_samples_split': [2, 5, 10],\n",
       "                                        'n_estimators': [200, 400, 600, 800,\n",
       "                                                         1000, 1200, 1400, 1600,\n",
       "                                                         1800, 2000]},\n",
       "                   pre_dispatch='2*n_jobs', random_state=58, refit=True,\n",
       "                   return_train_score=False, scoring=None, verbose=2)"
      ]
     },
     "execution_count": 40,
     "metadata": {},
     "output_type": "execute_result"
    }
   ],
   "source": [
    "# Random search of parameters, using 3 fold cross validation, \n",
    "# search across 100 different combinations, and use all available cores\n",
    "rf_random = RandomizedSearchCV(estimator = rf, param_distributions = random_grid, n_iter = 100, cv = 3, verbose=2, random_state=58, n_jobs = -1)\n",
    "# Fit the random search model\n",
    "rf_random.fit(X_train, y_train)"
   ]
  },
  {
   "cell_type": "markdown",
   "metadata": {
    "colab_type": "text",
    "id": "KpaSMbZ2tVo7"
   },
   "source": [
    "We can view the best parameters from fitting the random search:"
   ]
  },
  {
   "cell_type": "code",
   "execution_count": 41,
   "metadata": {
    "colab": {
     "base_uri": "https://localhost:8080/",
     "height": 169
    },
    "colab_type": "code",
    "executionInfo": {
     "elapsed": 953,
     "status": "error",
     "timestamp": 1580056189269,
     "user": {
      "displayName": "Katarzyna Kryńska",
      "photoUrl": "",
      "userId": "01933405320100170098"
     },
     "user_tz": -60
    },
    "id": "GJEtHSv1peqM",
    "outputId": "6071ed21-f2d7-45d4-8a5d-7b09aa6ab226"
   },
   "outputs": [
    {
     "name": "stdout",
     "output_type": "stream",
     "text": [
      "{'n_estimators': 1600, 'min_samples_split': 2, 'min_samples_leaf': 4, 'max_features': 'auto', 'max_depth': 10, 'bootstrap': True}\n"
     ]
    }
   ],
   "source": [
    "print(rf_random.best_params_)"
   ]
  },
  {
   "cell_type": "markdown",
   "metadata": {
    "colab_type": "text",
    "id": "hA9m4yqitpKe"
   },
   "source": [
    "With random search, we narrowed down the range for each hyperparameter. Now we will do GridSearchCV which evaluates not randomply sampled combinations but all combinations."
   ]
  },
  {
   "cell_type": "code",
   "execution_count": 35,
   "metadata": {
    "colab": {},
    "colab_type": "code",
    "id": "aifiu15XpgBc"
   },
   "outputs": [],
   "source": [
    "# Create the parameter grid based on the results of random search \n",
    "param_grid = {\n",
    "    'bootstrap': [True],\n",
    "    'max_depth': [5, 10, 15],\n",
    "    'max_features': ['auto'],\n",
    "    'min_samples_leaf': [3, 4, 5, 7],\n",
    "    'min_samples_split': [2, 3],\n",
    "    'n_estimators': [1500, 1600, 1700]\n",
    "}\n",
    "# Create a based model\n",
    "rf = RandomForestClassifier()\n",
    "# Instantiate the grid search model\n",
    "grid_search = GridSearchCV(estimator = rf, param_grid = param_grid, \n",
    "                          cv = 3, n_jobs = -1, verbose = 10)"
   ]
  },
  {
   "cell_type": "code",
   "execution_count": 36,
   "metadata": {
    "colab": {},
    "colab_type": "code",
    "id": "wEXzOUb3uBfy"
   },
   "outputs": [
    {
     "name": "stdout",
     "output_type": "stream",
     "text": [
      "Fitting 3 folds for each of 72 candidates, totalling 216 fits\n"
     ]
    },
    {
     "name": "stderr",
     "output_type": "stream",
     "text": [
      "[Parallel(n_jobs=-1)]: Using backend LokyBackend with 8 concurrent workers.\n",
      "[Parallel(n_jobs=-1)]: Done   2 tasks      | elapsed:   31.5s\n",
      "[Parallel(n_jobs=-1)]: Done   9 tasks      | elapsed:  1.0min\n",
      "[Parallel(n_jobs=-1)]: Done  16 tasks      | elapsed:  1.2min\n",
      "[Parallel(n_jobs=-1)]: Done  25 tasks      | elapsed:  2.0min\n",
      "[Parallel(n_jobs=-1)]: Done  34 tasks      | elapsed:  2.6min\n",
      "[Parallel(n_jobs=-1)]: Done  45 tasks      | elapsed:  3.1min\n",
      "[Parallel(n_jobs=-1)]: Done  56 tasks      | elapsed:  3.7min\n",
      "[Parallel(n_jobs=-1)]: Done  69 tasks      | elapsed:  4.7min\n",
      "[Parallel(n_jobs=-1)]: Done  82 tasks      | elapsed:  6.4min\n",
      "[Parallel(n_jobs=-1)]: Done  97 tasks      | elapsed:  8.3min\n",
      "[Parallel(n_jobs=-1)]: Done 112 tasks      | elapsed:  9.6min\n",
      "[Parallel(n_jobs=-1)]: Done 129 tasks      | elapsed: 12.1min\n",
      "[Parallel(n_jobs=-1)]: Done 146 tasks      | elapsed: 14.3min\n",
      "[Parallel(n_jobs=-1)]: Done 165 tasks      | elapsed: 17.2min\n",
      "[Parallel(n_jobs=-1)]: Done 184 tasks      | elapsed: 20.2min\n",
      "[Parallel(n_jobs=-1)]: Done 216 out of 216 | elapsed: 25.1min finished\n"
     ]
    },
    {
     "data": {
      "text/plain": [
       "{'bootstrap': True,\n",
       " 'max_depth': 10,\n",
       " 'max_features': 'auto',\n",
       " 'min_samples_leaf': 4,\n",
       " 'min_samples_split': 3,\n",
       " 'n_estimators': 1500}"
      ]
     },
     "execution_count": 36,
     "metadata": {},
     "output_type": "execute_result"
    }
   ],
   "source": [
    "# Fit the grid search to the data\n",
    "grid_search.fit(X_train, y_train)\n",
    "grid_search.best_params_"
   ]
  },
  {
   "cell_type": "markdown",
   "metadata": {},
   "source": [
    "We can see that 2 parameters were boundaries of the grid, so to be sure they're the optimal parameters, we will do Grid Search once again, just for these 2 parameters."
   ]
  },
  {
   "cell_type": "code",
   "execution_count": 44,
   "metadata": {},
   "outputs": [
    {
     "name": "stdout",
     "output_type": "stream",
     "text": [
      "Fitting 3 folds for each of 12 candidates, totalling 36 fits\n"
     ]
    },
    {
     "name": "stderr",
     "output_type": "stream",
     "text": [
      "[Parallel(n_jobs=-1)]: Using backend LokyBackend with 8 concurrent workers.\n",
      "[Parallel(n_jobs=-1)]: Done   2 tasks      | elapsed:   44.2s\n",
      "[Parallel(n_jobs=-1)]: Done   9 tasks      | elapsed:  1.5min\n",
      "[Parallel(n_jobs=-1)]: Done  16 tasks      | elapsed:  1.8min\n",
      "[Parallel(n_jobs=-1)]: Done  25 out of  36 | elapsed:  3.3min remaining:  1.4min\n",
      "[Parallel(n_jobs=-1)]: Done  29 out of  36 | elapsed:  3.4min remaining:   48.9s\n",
      "[Parallel(n_jobs=-1)]: Done  33 out of  36 | elapsed:  3.9min remaining:   21.3s\n",
      "[Parallel(n_jobs=-1)]: Done  36 out of  36 | elapsed:  4.0min finished\n"
     ]
    },
    {
     "data": {
      "text/plain": [
       "{'bootstrap': True,\n",
       " 'max_depth': 10,\n",
       " 'max_features': 'auto',\n",
       " 'min_samples_leaf': 4,\n",
       " 'min_samples_split': 4,\n",
       " 'n_estimators': 1600}"
      ]
     },
     "execution_count": 44,
     "metadata": {},
     "output_type": "execute_result"
    }
   ],
   "source": [
    "# Create the parameter grid based on the results of random search \n",
    "param_grid = {\n",
    "    'bootstrap': [True],\n",
    "    'max_depth': [10],\n",
    "    'max_features': ['auto'],\n",
    "    'min_samples_leaf': [4],\n",
    "    'min_samples_split': [3,4,5,6],\n",
    "    'n_estimators': [1400,1500,1600]\n",
    "}\n",
    "# Create a based model\n",
    "rf = RandomForestClassifier()\n",
    "# Instantiate the grid search model\n",
    "grid_search = GridSearchCV(estimator = rf, param_grid = param_grid, \n",
    "                          cv = 3, n_jobs = -1, verbose = 10)\n",
    "grid_search.fit(X_train, y_train)\n",
    "grid_search.best_params_"
   ]
  },
  {
   "cell_type": "markdown",
   "metadata": {},
   "source": [
    "Finally, we can make predictions using best parameters."
   ]
  },
  {
   "cell_type": "code",
   "execution_count": 47,
   "metadata": {
    "colab": {},
    "colab_type": "code",
    "id": "qJbQY8R3nS2h"
   },
   "outputs": [
    {
     "name": "stderr",
     "output_type": "stream",
     "text": [
      "C:\\Users\\xx\\Anaconda3\\lib\\site-packages\\matplotlib\\figure.py:457: UserWarning: matplotlib is currently using a non-GUI backend, so cannot show the figure\n",
      "  \"matplotlib is currently using a non-GUI backend, \"\n"
     ]
    },
    {
     "data": {
      "image/png": "[encoded data removed]",
      "text/plain": [
       "<Figure size 864x432 with 2 Axes>"
      ]
     },
     "metadata": {
      "needs_background": "light"
     },
     "output_type": "display_data"
    }
   ],
   "source": [
    "# Predict on training dataset\n",
    "y_train_pred_gsrf = grid_search.predict(X_train)\n",
    "\n",
    "# Predict on testing dataset\n",
    "y_pred_gsrf = grid_search.predict(X_test)\n",
    "\n",
    "plot_conf_m(y_train, y_train_pred_gsrf,y_test, y_pred_gsrf)"
   ]
  },
  {
   "cell_type": "markdown",
   "metadata": {},
   "source": [
    "We can see that random forest has **21.24%** recall score, which is much better than decision tree."
   ]
  },
  {
   "cell_type": "markdown",
   "metadata": {},
   "source": [
    "## XGBoost"
   ]
  },
  {
   "cell_type": "markdown",
   "metadata": {},
   "source": [
    "Boosting is a sequential technique which works on the principle of an ensemble. It combines a set of weak learners and delivers improved prediction accuracy.\n",
    "\n",
    "XGBoost is well known to provide better solutions than other machine learning algorithms and we expect it to have much better recall score than previously used methods."
   ]
  },
  {
   "cell_type": "code",
   "execution_count": 60,
   "metadata": {},
   "outputs": [],
   "source": [
    "import xgboost as xgb\n",
    "from xgboost.sklearn import XGBClassifier"
   ]
  },
  {
   "cell_type": "code",
   "execution_count": 67,
   "metadata": {},
   "outputs": [],
   "source": [
    "def my_xgboost_fit(xgb1, X_train, y_train, cv_folds=5, early_stopping_rounds=50):\n",
    "    xgb_param = xgb1.get_xgb_params()\n",
    "    xgtrain = xgb.DMatrix(X_train, y_train)\n",
    "    cvresult = xgb.cv(xgb_param, xgtrain, num_boost_round=xgb1.get_params()['n_estimators'], nfold=cv_folds,\n",
    "            metrics='aucpr', early_stopping_rounds=early_stopping_rounds, seed=58)\n",
    "    xgb1.set_params(n_estimators=cvresult.shape[0])\n",
    "    \n",
    "     #Fit the algorithm on the data\n",
    "    xgb1.fit(X_train, y_train, eval_metric='aucpr')\n",
    "    \n",
    "    # Predict on testing dataset\n",
    "    y_pred_xgb1 = xgb1.predict(X_train)\n",
    "    \n",
    "    print(\"Accuracy (Train): %.4g\" % accuracy_score(y_train, y_pred_xgb1))\n",
    "    print(\"Recall Score (Train): %f\" % recall_score(y_train, y_pred_xgb1))"
   ]
  },
  {
   "cell_type": "code",
   "execution_count": 140,
   "metadata": {},
   "outputs": [],
   "source": [
    "# Seperate the features from the target variable\n",
    "y = df_feat.y\n",
    "X = df_feat.drop('y', axis=1)\n",
    "\n",
    "# Divide dataset into training and testing subsets\n",
    "X_train, X_test, y_train, y_test = train_test_split(X, y, test_size=0.3, random_state=58)"
   ]
  },
  {
   "cell_type": "markdown",
   "metadata": {},
   "source": [
    "We will set objective to reg:logistic as it's classification problems with only decision, colsample_bytree (percentage of features used per tree) to 0.8 (but we keep in mind that high values can lead to overfitting), learning rate (step size shrinkage used to prevent overfitting) to 0.1, max depth of tree to 10, gamma to 0 and number of trees we want to build to 100."
   ]
  },
  {
   "cell_type": "code",
   "execution_count": 71,
   "metadata": {},
   "outputs": [
    {
     "name": "stdout",
     "output_type": "stream",
     "text": [
      "Accuracy (Train): 0.9145\n",
      "Recall Score (Train): 0.348168\n"
     ]
    }
   ],
   "source": [
    "xgb1 = XGBClassifier(learning_rate =0.1, n_estimators=100, max_depth=10, min_child_weight=1,\n",
    " gamma=0, subsample=0.8, colsample_bytree=0.8, objective= 'reg:logistic', nthread=4, scale_pos_weight=1, seed=58)\n",
    "\n",
    "my_xgboost_fit(xgb1, X_train, y_train)"
   ]
  },
  {
   "cell_type": "markdown",
   "metadata": {},
   "source": [
    "Now we will perform hyperparameter boosting. Our evaluation metrics will be the area under the curve of Precision-Recall curve to get the best Recall score. In contrast to parameter tuning for Random Forests, here we will look for best parameters one by one instead of doing random search."
   ]
  },
  {
   "cell_type": "code",
   "execution_count": 72,
   "metadata": {},
   "outputs": [
    {
     "name": "stdout",
     "output_type": "stream",
     "text": [
      "Fitting 5 folds for each of 18 candidates, totalling 90 fits\n"
     ]
    },
    {
     "name": "stderr",
     "output_type": "stream",
     "text": [
      "[Parallel(n_jobs=-1)]: Using backend LokyBackend with 8 concurrent workers.\n",
      "[Parallel(n_jobs=-1)]: Done   2 tasks      | elapsed:    9.8s\n",
      "[Parallel(n_jobs=-1)]: Done   9 tasks      | elapsed:   15.9s\n",
      "[Parallel(n_jobs=-1)]: Done  16 tasks      | elapsed:   22.5s\n",
      "[Parallel(n_jobs=-1)]: Done  25 tasks      | elapsed:   44.1s\n",
      "[Parallel(n_jobs=-1)]: Done  34 tasks      | elapsed:   59.8s\n",
      "[Parallel(n_jobs=-1)]: Done  45 tasks      | elapsed:  1.3min\n",
      "[Parallel(n_jobs=-1)]: Done  56 tasks      | elapsed:  2.1min\n",
      "[Parallel(n_jobs=-1)]: Done  69 tasks      | elapsed:  2.8min\n",
      "[Parallel(n_jobs=-1)]: Done  85 out of  90 | elapsed:  4.3min remaining:   15.0s\n",
      "[Parallel(n_jobs=-1)]: Done  90 out of  90 | elapsed:  4.3min finished\n",
      "C:\\Users\\xx\\Anaconda3\\lib\\site-packages\\sklearn\\model_selection\\_search.py:823: FutureWarning: The parameter 'iid' is deprecated in 0.22 and will be removed in 0.24.\n",
      "  \"removed in 0.24.\", FutureWarning\n"
     ]
    },
    {
     "data": {
      "text/plain": [
       "({'max_depth': 13, 'min_child_weight': 1}, 0.3024558749369642)"
      ]
     },
     "execution_count": 72,
     "metadata": {},
     "output_type": "execute_result"
    }
   ],
   "source": [
    "param_test1 = {\n",
    " 'max_depth':range(3,15,2),\n",
    " 'min_child_weight':range(1,6,2)\n",
    "}\n",
    "gsearch1 = GridSearchCV(estimator = XGBClassifier(learning_rate =0.1, n_estimators=100, max_depth=10,\n",
    " min_child_weight=1, gamma=0, subsample=0.8, colsample_bytree=0.8, objective= 'reg:logistic', nthread=4, scale_pos_weight=1, seed=58), \n",
    " param_grid = param_test1, scoring='recall',n_jobs=-1,iid=False, cv=5, verbose = 10)\n",
    "gsearch1.fit(X_train,y_train)\n",
    "gsearch1.best_params_, gsearch1.best_score_"
   ]
  },
  {
   "cell_type": "markdown",
   "metadata": {},
   "source": [
    "Now we will try parameters around 13 for max_depth and 1 for min_child_weight to be sure that we have the optimal ones."
   ]
  },
  {
   "cell_type": "code",
   "execution_count": 73,
   "metadata": {},
   "outputs": [
    {
     "name": "stdout",
     "output_type": "stream",
     "text": [
      "Fitting 5 folds for each of 9 candidates, totalling 45 fits\n"
     ]
    },
    {
     "name": "stderr",
     "output_type": "stream",
     "text": [
      "[Parallel(n_jobs=-1)]: Using backend LokyBackend with 8 concurrent workers.\n",
      "[Parallel(n_jobs=-1)]: Done   2 tasks      | elapsed:   30.8s\n",
      "[Parallel(n_jobs=-1)]: Done   9 tasks      | elapsed:  1.1min\n",
      "[Parallel(n_jobs=-1)]: Done  16 tasks      | elapsed:  1.5min\n",
      "[Parallel(n_jobs=-1)]: Done  25 tasks      | elapsed:  3.0min\n",
      "[Parallel(n_jobs=-1)]: Done  35 out of  45 | elapsed:  3.8min remaining:  1.1min\n",
      "[Parallel(n_jobs=-1)]: Done  40 out of  45 | elapsed:  4.3min remaining:   31.9s\n",
      "[Parallel(n_jobs=-1)]: Done  45 out of  45 | elapsed:  4.5min remaining:    0.0s\n",
      "[Parallel(n_jobs=-1)]: Done  45 out of  45 | elapsed:  4.5min finished\n",
      "C:\\Users\\xx\\Anaconda3\\lib\\site-packages\\sklearn\\model_selection\\_search.py:823: FutureWarning: The parameter 'iid' is deprecated in 0.22 and will be removed in 0.24.\n",
      "  \"removed in 0.24.\", FutureWarning\n"
     ]
    },
    {
     "data": {
      "text/plain": [
       "({'max_depth': 14, 'min_child_weight': 1}, 0.307296566267822)"
      ]
     },
     "execution_count": 73,
     "metadata": {},
     "output_type": "execute_result"
    }
   ],
   "source": [
    "param_test2 = {\n",
    " 'max_depth':[12,13,14],\n",
    " 'min_child_weight':[1,2,3]\n",
    "}\n",
    "gsearch2 = GridSearchCV(estimator = XGBClassifier(learning_rate =0.1, n_estimators=140, max_depth=13,\n",
    " min_child_weight=1, gamma=0, subsample=0.8, colsample_bytree=0.8,\n",
    " objective= 'reg:logistic', nthread=4, scale_pos_weight=1, seed=58), \n",
    " param_grid = param_test2, scoring='recall',n_jobs=-1,iid=False, cv=5, verbose = 10)\n",
    "gsearch2.fit(X_train,y_train)\n",
    "gsearch2.best_params_, gsearch2.best_score_"
   ]
  },
  {
   "cell_type": "code",
   "execution_count": 74,
   "metadata": {},
   "outputs": [
    {
     "name": "stdout",
     "output_type": "stream",
     "text": [
      "Fitting 5 folds for each of 3 candidates, totalling 15 fits\n"
     ]
    },
    {
     "name": "stderr",
     "output_type": "stream",
     "text": [
      "[Parallel(n_jobs=-1)]: Using backend LokyBackend with 8 concurrent workers.\n",
      "[Parallel(n_jobs=-1)]: Done   2 out of  15 | elapsed:   39.5s remaining:  4.3min\n",
      "[Parallel(n_jobs=-1)]: Done   4 out of  15 | elapsed:   40.0s remaining:  1.8min\n",
      "[Parallel(n_jobs=-1)]: Done   6 out of  15 | elapsed:   41.2s remaining:  1.0min\n",
      "[Parallel(n_jobs=-1)]: Done   8 out of  15 | elapsed:   44.3s remaining:   38.8s\n",
      "[Parallel(n_jobs=-1)]: Done  10 out of  15 | elapsed:  1.5min remaining:   44.6s\n",
      "[Parallel(n_jobs=-1)]: Done  12 out of  15 | elapsed:  1.5min remaining:   23.0s\n",
      "[Parallel(n_jobs=-1)]: Done  15 out of  15 | elapsed:  1.5min finished\n",
      "C:\\Users\\xx\\Anaconda3\\lib\\site-packages\\sklearn\\model_selection\\_search.py:823: FutureWarning: The parameter 'iid' is deprecated in 0.22 and will be removed in 0.24.\n",
      "  \"removed in 0.24.\", FutureWarning\n"
     ]
    },
    {
     "data": {
      "text/plain": [
       "({'max_depth': 14}, 0.3088112593407601)"
      ]
     },
     "execution_count": 74,
     "metadata": {},
     "output_type": "execute_result"
    }
   ],
   "source": [
    "param_test2b = {\n",
    " 'max_depth':[14,15,16]\n",
    "}\n",
    "gsearch2b = GridSearchCV(estimator = XGBClassifier( learning_rate=0.1, n_estimators=100, max_depth=14,\n",
    " min_child_weight=1, gamma=0, subsample=0.8, colsample_bytree=0.8, objective= 'reg:logistic', nthread=4, scale_pos_weight=1,seed=58), \n",
    " param_grid = param_test2b, scoring='recall',n_jobs=-1,iid=False, cv=5, verbose = 10)\n",
    "gsearch2b.fit(X_train,y_train)\n",
    "gsearch2b.best_params_, gsearch2b.best_score_"
   ]
  },
  {
   "cell_type": "markdown",
   "metadata": {},
   "source": [
    "It seems that the optimal max_depth is 14. Now we will tune gamma."
   ]
  },
  {
   "cell_type": "code",
   "execution_count": 78,
   "metadata": {},
   "outputs": [
    {
     "name": "stdout",
     "output_type": "stream",
     "text": [
      "Fitting 5 folds for each of 10 candidates, totalling 50 fits\n"
     ]
    },
    {
     "name": "stderr",
     "output_type": "stream",
     "text": [
      "[Parallel(n_jobs=-1)]: Using backend LokyBackend with 8 concurrent workers.\n",
      "[Parallel(n_jobs=-1)]: Done   2 tasks      | elapsed:   31.7s\n",
      "[Parallel(n_jobs=-1)]: Done   9 tasks      | elapsed:   50.4s\n",
      "[Parallel(n_jobs=-1)]: Done  16 tasks      | elapsed:  1.1min\n",
      "[Parallel(n_jobs=-1)]: Done  25 tasks      | elapsed:  2.2min\n",
      "[Parallel(n_jobs=-1)]: Done  34 tasks      | elapsed:  3.1min\n",
      "[Parallel(n_jobs=-1)]: Done  41 out of  50 | elapsed:  3.4min remaining:   45.0s\n",
      "[Parallel(n_jobs=-1)]: Done  47 out of  50 | elapsed:  3.7min remaining:   14.1s\n",
      "[Parallel(n_jobs=-1)]: Done  50 out of  50 | elapsed:  3.8min finished\n",
      "C:\\Users\\xx\\Anaconda3\\lib\\site-packages\\sklearn\\model_selection\\_search.py:823: FutureWarning: The parameter 'iid' is deprecated in 0.22 and will be removed in 0.24.\n",
      "  \"removed in 0.24.\", FutureWarning\n"
     ]
    },
    {
     "data": {
      "text/plain": [
       "({'gamma': 0.0}, 0.3088112593407601)"
      ]
     },
     "execution_count": 78,
     "metadata": {},
     "output_type": "execute_result"
    }
   ],
   "source": [
    "param_test3 = {\n",
    " 'gamma':[i/10.0 for i in range(0,50,5)]\n",
    "}\n",
    "gsearch3 = GridSearchCV(estimator = XGBClassifier( learning_rate =0.1, n_estimators=100, max_depth=14,\n",
    " min_child_weight=1, gamma=0, subsample=0.8, colsample_bytree=0.8, objective= 'reg:logistic', nthread=4, scale_pos_weight=1,seed=58), \n",
    " param_grid = param_test3, scoring='recall',n_jobs=-1,iid=False, cv=5, verbose = 10)\n",
    "gsearch3.fit(X_train,y_train)\n",
    "gsearch3.best_params_, gsearch3.best_score_"
   ]
  },
  {
   "cell_type": "markdown",
   "metadata": {},
   "source": [
    "The best gamma value seems to be our initial value, 0."
   ]
  },
  {
   "cell_type": "code",
   "execution_count": 102,
   "metadata": {},
   "outputs": [
    {
     "name": "stderr",
     "output_type": "stream",
     "text": [
      "C:\\Users\\xx\\Anaconda3\\lib\\site-packages\\xgboost\\core.py:587: FutureWarning: Series.base is deprecated and will be removed in a future version\n",
      "  if getattr(data, 'base', None) is not None and \\\n"
     ]
    },
    {
     "name": "stdout",
     "output_type": "stream",
     "text": [
      "Accuracy (Train): 0.9197\n",
      "Recall Score (Train): 0.385104\n"
     ]
    }
   ],
   "source": [
    "xgb2 = XGBClassifier(learning_rate =0.1, n_estimators=150, max_depth=14, min_child_weight=1, gamma=0,\n",
    " subsample=0.8, colsample_bytree=0.8, objective= 'reg:logistic', nthread=-1, scale_pos_weight=1,\n",
    " seed=58, verbose = 10)\n",
    "my_xgboost_fit(xgb2, X_train, y_train)"
   ]
  },
  {
   "cell_type": "markdown",
   "metadata": {},
   "source": [
    "The next step is to try different subsample and colsample_bytree parameters."
   ]
  },
  {
   "cell_type": "code",
   "execution_count": 103,
   "metadata": {},
   "outputs": [
    {
     "name": "stdout",
     "output_type": "stream",
     "text": [
      "Fitting 5 folds for each of 16 candidates, totalling 80 fits\n"
     ]
    },
    {
     "name": "stderr",
     "output_type": "stream",
     "text": [
      "[Parallel(n_jobs=-1)]: Using backend LokyBackend with 8 concurrent workers.\n",
      "[Parallel(n_jobs=-1)]: Done   2 tasks      | elapsed:   36.8s\n",
      "[Parallel(n_jobs=-1)]: Done   9 tasks      | elapsed:  1.3min\n",
      "[Parallel(n_jobs=-1)]: Done  16 tasks      | elapsed:  1.3min\n",
      "[Parallel(n_jobs=-1)]: Done  25 tasks      | elapsed:  2.6min\n",
      "[Parallel(n_jobs=-1)]: Done  34 tasks      | elapsed:  3.4min\n",
      "[Parallel(n_jobs=-1)]: Done  45 tasks      | elapsed:  4.2min\n",
      "[Parallel(n_jobs=-1)]: Done  56 tasks      | elapsed:  5.2min\n",
      "[Parallel(n_jobs=-1)]: Done  74 out of  80 | elapsed:  8.1min remaining:   39.4s\n",
      "[Parallel(n_jobs=-1)]: Done  80 out of  80 | elapsed:  8.2min finished\n",
      "C:\\Users\\xx\\Anaconda3\\lib\\site-packages\\sklearn\\model_selection\\_search.py:823: FutureWarning: The parameter 'iid' is deprecated in 0.22 and will be removed in 0.24.\n",
      "  \"removed in 0.24.\", FutureWarning\n"
     ]
    },
    {
     "data": {
      "text/plain": [
       "({'colsample_bytree': 0.9, 'subsample': 0.9}, 0.31062714894787513)"
      ]
     },
     "execution_count": 103,
     "metadata": {},
     "output_type": "execute_result"
    }
   ],
   "source": [
    "param_test4 = {\n",
    " 'subsample':[i/10.0 for i in range(6,10)],\n",
    " 'colsample_bytree':[i/10.0 for i in range(6,10)]\n",
    "}\n",
    "\n",
    "gsearch4 = GridSearchCV(estimator = XGBClassifier(learning_rate =0.1, n_estimators=150, max_depth=14,\n",
    " min_child_weight=1, gamma=0, subsample=0.8, colsample_bytree=0.8,\n",
    " objective= 'reg:logistic', nthread=-1, scale_pos_weight=1,seed=58), \n",
    " param_grid = param_test4, scoring='recall',n_jobs=-1,iid=False, cv=5, verbose = 10)\n",
    "\n",
    "gsearch4.fit(X_train,y_train)\n",
    "gsearch4.best_params_, gsearch4.best_score_"
   ]
  },
  {
   "cell_type": "code",
   "execution_count": 105,
   "metadata": {},
   "outputs": [
    {
     "name": "stdout",
     "output_type": "stream",
     "text": [
      "Fitting 5 folds for each of 9 candidates, totalling 45 fits\n"
     ]
    },
    {
     "name": "stderr",
     "output_type": "stream",
     "text": [
      "[Parallel(n_jobs=-1)]: Using backend LokyBackend with 8 concurrent workers.\n",
      "[Parallel(n_jobs=-1)]: Done   2 tasks      | elapsed:   45.3s\n",
      "[Parallel(n_jobs=-1)]: Done   9 tasks      | elapsed:  1.6min\n",
      "[Parallel(n_jobs=-1)]: Done  16 tasks      | elapsed:  1.7min\n",
      "[Parallel(n_jobs=-1)]: Done  25 tasks      | elapsed:  3.4min\n",
      "[Parallel(n_jobs=-1)]: Done  35 out of  45 | elapsed:  4.4min remaining:  1.3min\n",
      "[Parallel(n_jobs=-1)]: Done  40 out of  45 | elapsed:  4.6min remaining:   34.6s\n",
      "[Parallel(n_jobs=-1)]: Done  45 out of  45 | elapsed:  5.2min remaining:    0.0s\n",
      "[Parallel(n_jobs=-1)]: Done  45 out of  45 | elapsed:  5.2min finished\n",
      "C:\\Users\\xx\\Anaconda3\\lib\\site-packages\\sklearn\\model_selection\\_search.py:823: FutureWarning: The parameter 'iid' is deprecated in 0.22 and will be removed in 0.24.\n",
      "  \"removed in 0.24.\", FutureWarning\n"
     ]
    },
    {
     "data": {
      "text/plain": [
       "({'colsample_bytree': 0.95, 'subsample': 0.85}, 0.31305093292990416)"
      ]
     },
     "execution_count": 105,
     "metadata": {},
     "output_type": "execute_result"
    }
   ],
   "source": [
    "param_test5 = {\n",
    " 'subsample':[i/100.0 for i in range(85,100,5)],\n",
    " 'colsample_bytree':[i/100.0 for i in range(85,100,5)]\n",
    "}\n",
    "\n",
    "gsearch5 = GridSearchCV(estimator = XGBClassifier( learning_rate =0.1, n_estimators=150, max_depth=14,\n",
    " min_child_weight=1, gamma=0, subsample=0.8, colsample_bytree=0.8,\n",
    " objective= 'reg:logistic', nthread=-1, scale_pos_weight=1,seed=58), \n",
    " param_grid = param_test5, scoring='recall',n_jobs=-1,iid=False, cv=5, verbose = 10)\n",
    "\n",
    "gsearch5.fit(X_train,y_train)\n",
    "gsearch5.best_params_, gsearch5.best_score_"
   ]
  },
  {
   "cell_type": "markdown",
   "metadata": {},
   "source": [
    "After that, we will apply regulazation to reduce overfitting. "
   ]
  },
  {
   "cell_type": "code",
   "execution_count": 106,
   "metadata": {},
   "outputs": [
    {
     "name": "stdout",
     "output_type": "stream",
     "text": [
      "Fitting 5 folds for each of 25 candidates, totalling 125 fits\n"
     ]
    },
    {
     "name": "stderr",
     "output_type": "stream",
     "text": [
      "[Parallel(n_jobs=-1)]: Using backend LokyBackend with 8 concurrent workers.\n",
      "[Parallel(n_jobs=-1)]: Done   2 tasks      | elapsed:   54.9s\n",
      "[Parallel(n_jobs=-1)]: Done   9 tasks      | elapsed:  1.9min\n",
      "[Parallel(n_jobs=-1)]: Done  16 tasks      | elapsed:  2.1min\n",
      "[Parallel(n_jobs=-1)]: Done  25 tasks      | elapsed:  4.1min\n",
      "[Parallel(n_jobs=-1)]: Done  34 tasks      | elapsed:  5.2min\n",
      "[Parallel(n_jobs=-1)]: Done  45 tasks      | elapsed:  6.4min\n",
      "[Parallel(n_jobs=-1)]: Done  56 tasks      | elapsed:  7.6min\n",
      "[Parallel(n_jobs=-1)]: Done  69 tasks      | elapsed:  9.6min\n",
      "[Parallel(n_jobs=-1)]: Done  82 tasks      | elapsed: 11.5min\n",
      "[Parallel(n_jobs=-1)]: Done  97 tasks      | elapsed: 13.1min\n",
      "[Parallel(n_jobs=-1)]: Done 123 out of 125 | elapsed: 14.4min remaining:   13.9s\n",
      "[Parallel(n_jobs=-1)]: Done 125 out of 125 | elapsed: 14.4min finished\n",
      "C:\\Users\\xx\\Anaconda3\\lib\\site-packages\\sklearn\\model_selection\\_search.py:823: FutureWarning: The parameter 'iid' is deprecated in 0.22 and will be removed in 0.24.\n",
      "  \"removed in 0.24.\", FutureWarning\n"
     ]
    },
    {
     "data": {
      "text/plain": [
       "({'reg_alpha': 1e-05, 'reg_lambda': 0}, 0.3160803190757805)"
      ]
     },
     "execution_count": 106,
     "metadata": {},
     "output_type": "execute_result"
    }
   ],
   "source": [
    "param_test6 = {\n",
    " 'reg_alpha':[1e-5, 1e-2, 0.1, 1, 100],\n",
    " 'reg_lambda':[0,0.5,1,1.5,2]\n",
    "}\n",
    "\n",
    "gsearch6 = GridSearchCV(estimator = XGBClassifier( learning_rate =0.1, n_estimators=150, max_depth=14,\n",
    " min_child_weight=1, gamma=0, subsample=0.85, colsample_bytree=0.95,\n",
    " objective= 'reg:logistic', nthread=-1, scale_pos_weight=1,seed=58), \n",
    " param_grid = param_test6, scoring='recall',n_jobs=-1,iid=False, cv=5, verbose = 10)\n",
    "\n",
    "gsearch6.fit(X_train,y_train)\n",
    "gsearch6.best_params_, gsearch6.best_score_"
   ]
  },
  {
   "cell_type": "code",
   "execution_count": 107,
   "metadata": {},
   "outputs": [
    {
     "name": "stdout",
     "output_type": "stream",
     "text": [
      "Fitting 5 folds for each of 8 candidates, totalling 40 fits\n"
     ]
    },
    {
     "name": "stderr",
     "output_type": "stream",
     "text": [
      "[Parallel(n_jobs=-1)]: Using backend LokyBackend with 8 concurrent workers.\n",
      "[Parallel(n_jobs=-1)]: Done   2 tasks      | elapsed:   46.4s\n",
      "[Parallel(n_jobs=-1)]: Done   9 tasks      | elapsed:  1.6min\n",
      "[Parallel(n_jobs=-1)]: Done  16 tasks      | elapsed:  1.7min\n",
      "[Parallel(n_jobs=-1)]: Done  25 tasks      | elapsed:  3.4min\n",
      "[Parallel(n_jobs=-1)]: Done  30 out of  40 | elapsed:  3.5min remaining:  1.2min\n",
      "[Parallel(n_jobs=-1)]: Done  35 out of  40 | elapsed:  4.3min remaining:   37.1s\n",
      "[Parallel(n_jobs=-1)]: Done  40 out of  40 | elapsed:  4.4min remaining:    0.0s\n",
      "[Parallel(n_jobs=-1)]: Done  40 out of  40 | elapsed:  4.4min finished\n",
      "C:\\Users\\xx\\Anaconda3\\lib\\site-packages\\sklearn\\model_selection\\_search.py:823: FutureWarning: The parameter 'iid' is deprecated in 0.22 and will be removed in 0.24.\n",
      "  \"removed in 0.24.\", FutureWarning\n"
     ]
    },
    {
     "data": {
      "text/plain": [
       "({'reg_alpha': 1e-05, 'reg_lambda': 0}, 0.3160803190757805)"
      ]
     },
     "execution_count": 107,
     "metadata": {},
     "output_type": "execute_result"
    }
   ],
   "source": [
    "param_test7 = {\n",
    " 'reg_alpha':[0, 5e-6, 1e-5, 1e-4],\n",
    " 'reg_lambda':[0,0.5]\n",
    "}\n",
    "gsearch7 = GridSearchCV(estimator = XGBClassifier( learning_rate =0.1, n_estimators=150, max_depth=14,\n",
    " min_child_weight=1, gamma=0, subsample=0.85, colsample_bytree=0.95,\n",
    " objective= 'reg:logistic', nthread=-1, scale_pos_weight=1,seed=58), \n",
    " param_grid = param_test7, scoring='recall',n_jobs=-1,iid=False, cv=5, verbose = 10)\n",
    "gsearch7.fit(X_train,y_train)\n",
    "gsearch7.best_params_, gsearch7.best_score_"
   ]
  },
  {
   "cell_type": "code",
   "execution_count": 108,
   "metadata": {},
   "outputs": [
    {
     "name": "stderr",
     "output_type": "stream",
     "text": [
      "C:\\Users\\xx\\Anaconda3\\lib\\site-packages\\xgboost\\core.py:587: FutureWarning: Series.base is deprecated and will be removed in a future version\n",
      "  if getattr(data, 'base', None) is not None and \\\n"
     ]
    },
    {
     "name": "stdout",
     "output_type": "stream",
     "text": [
      "Accuracy (Train): 0.9218\n",
      "Recall Score (Train): 0.408417\n"
     ]
    }
   ],
   "source": [
    "xgb3 = XGBClassifier(learning_rate =0.1, n_estimators=500, max_depth=14, min_child_weight=1, gamma=0,\n",
    " subsample=0.85, colsample_bytree=0.95, objective= 'reg:logistic', nthread=-1, scale_pos_weight=1,\n",
    " seed=58, verbose = 10,reg_alpha=1e-05,reg_lambda=0)\n",
    "my_xgboost_fit(xgb3, X_train, y_train)"
   ]
  },
  {
   "cell_type": "markdown",
   "metadata": {},
   "source": [
    "Lastly, we should lower the learning rate and add more trees. Lets use the cv function of XGBoost to do the job again"
   ]
  },
  {
   "cell_type": "code",
   "execution_count": 109,
   "metadata": {},
   "outputs": [
    {
     "name": "stdout",
     "output_type": "stream",
     "text": [
      "Accuracy (Train): 0.923\n",
      "Recall Score (Train): 0.409930\n"
     ]
    }
   ],
   "source": [
    "xgb4 = XGBClassifier( learning_rate =0.05, n_estimators=5000, max_depth=14, min_child_weight=1, gamma=0,\n",
    " subsample=0.85, colsample_bytree=0.95, objective= 'reg:logistic', nthread=-1, scale_pos_weight=1,\n",
    " seed=58, verbose = 10,reg_alpha=1e-05,reg_lambda=0)\n",
    "my_xgboost_fit(xgb4, X_train, y_train)"
   ]
  },
  {
   "cell_type": "code",
   "execution_count": 110,
   "metadata": {},
   "outputs": [
    {
     "name": "stderr",
     "output_type": "stream",
     "text": [
      "C:\\Users\\xx\\Anaconda3\\lib\\site-packages\\matplotlib\\figure.py:457: UserWarning: matplotlib is currently using a non-GUI backend, so cannot show the figure\n",
      "  \"matplotlib is currently using a non-GUI backend, \"\n"
     ]
    },
    {
     "data": {
      "image/png": "[encoded data removed]",
      "text/plain": [
       "<Figure size 864x432 with 2 Axes>"
      ]
     },
     "metadata": {
      "needs_background": "light"
     },
     "output_type": "display_data"
    }
   ],
   "source": [
    "# Predict on training dataset\n",
    "y_train_pred_xgb = xgb4.predict(X_train)\n",
    "\n",
    "# Predict on testing dataset\n",
    "y_pred_xgb = xgb4.predict(X_test)\n",
    "\n",
    "plot_conf_m(y_train, y_train_pred_xgb,y_test, y_pred_xgb)"
   ]
  },
  {
   "cell_type": "markdown",
   "metadata": {},
   "source": [
    "Our model seems to be overfitting, but with the recall score **27.97%** it has the best results so far."
   ]
  },
  {
   "cell_type": "markdown",
   "metadata": {},
   "source": [
    "Even though our final model is xgb4, we will show how accuracy and recall changed with each step (from model xgb1 to xgb4)"
   ]
  },
  {
   "cell_type": "code",
   "execution_count": 141,
   "metadata": {},
   "outputs": [
    {
     "data": {
      "image/png": "[encoded data removed]",
      "text/plain": [
       "<Figure size 432x288 with 2 Axes>"
      ]
     },
     "metadata": {},
     "output_type": "display_data"
    }
   ],
   "source": [
    "accuracy = list()\n",
    "accuracy.append(accuracy_score(y_train,xgb1.predict(X_train)))\n",
    "accuracy.append(accuracy_score(y_train,xgb2.predict(X_train)))\n",
    "accuracy.append(accuracy_score(y_train,xgb3.predict(X_train)))\n",
    "accuracy.append(accuracy_score(y_train,xgb4.predict(X_train)))\n",
    "\n",
    "recall = list()\n",
    "recall.append(recall_score(y_train,xgb1.predict(X_train)))\n",
    "recall.append(recall_score(y_train,xgb2.predict(X_train)))\n",
    "recall.append(recall_score(y_train,xgb3.predict(X_train)))\n",
    "recall.append(recall_score(y_train,xgb4.predict(X_train)))\n",
    "\n",
    "x = [1,2,3,4]\n",
    "\n",
    "fig, ax1 = plt.subplots()\n",
    "#plt.plot(x, accuracy, marker='o', linestyle='dashed', label='accuracy')\n",
    "#plt.plot(x, recall, marker='o', linestyle='dashed', label='recall')\n",
    "\n",
    "color = 'tab:orange'\n",
    "ax1.set_xlabel('step')\n",
    "ax1.set_ylabel('', color=color)\n",
    "ax1.plot(x, accuracy, color=color, marker='o', linestyle='dashed', label='accuracy')\n",
    "ax1.tick_params(axis='y', labelcolor=color)\n",
    "\n",
    "ax2 = ax1.twinx()  # instantiate a second axes that shares the same x-axis\n",
    "\n",
    "color = 'tab:blue'\n",
    "ax2.set_ylabel('', color=color)  # we already handled the x-label with ax1\n",
    "ax2.plot(x, recall, color=color, marker='o', linestyle='dashed', label='recall')\n",
    "ax2.tick_params(axis='y', labelcolor=color)\n",
    "fig.legend()\n",
    "plt.title('Accuracy and recall at each step (training data)')\n",
    "\n",
    "plt.xticks(np.arange(1, 4, step=1))\n",
    "\n",
    "plt.show()"
   ]
  },
  {
   "cell_type": "markdown",
   "metadata": {},
   "source": [
    "We can see that with each step both accuracy and recall increased, but the most significant increase was at first step - unfortunately later steps didn't bring much improvement."
   ]
  },
  {
   "cell_type": "code",
   "execution_count": 144,
   "metadata": {},
   "outputs": [
    {
     "data": {
      "image/png": "[encoded data removed]",
      "text/plain": [
       "<Figure size 432x288 with 2 Axes>"
      ]
     },
     "metadata": {},
     "output_type": "display_data"
    }
   ],
   "source": [
    "accuracy = list()\n",
    "accuracy.append(accuracy_score(y_test,xgb1.predict(X_test)))\n",
    "accuracy.append(accuracy_score(y_test,xgb2.predict(X_test)))\n",
    "accuracy.append(accuracy_score(y_test,xgb3.predict(X_test)))\n",
    "accuracy.append(accuracy_score(y_test,xgb4.predict(X_test)))\n",
    "\n",
    "recall = list()\n",
    "recall.append(recall_score(y_test,xgb1.predict(X_test)))\n",
    "recall.append(recall_score(y_test,xgb2.predict(X_test)))\n",
    "recall.append(recall_score(y_test,xgb3.predict(X_test)))\n",
    "recall.append(recall_score(y_test,xgb4.predict(X_test)))\n",
    "\n",
    "x = [1,2,3,4]\n",
    "\n",
    "fig, ax1 = plt.subplots()\n",
    "#plt.plot(x, accuracy, marker='o', linestyle='dashed', label='accuracy')\n",
    "#plt.plot(x, recall, marker='o', linestyle='dashed', label='recall')\n",
    "\n",
    "color = 'tab:orange'\n",
    "ax1.set_xlabel('step')\n",
    "ax1.set_ylabel('', color=color)\n",
    "ax1.plot(x, accuracy, color=color, marker='o', linestyle='dashed', label='accuracy')\n",
    "ax1.tick_params(axis='y', labelcolor=color)\n",
    "\n",
    "ax2 = ax1.twinx()  # instantiate a second axes that shares the same x-axis\n",
    "\n",
    "color = 'tab:blue'\n",
    "ax2.set_ylabel('', color=color)  # we already handled the x-label with ax1\n",
    "ax2.plot(x, recall, color=color, marker='o', linestyle='dashed', label='recall')\n",
    "ax2.tick_params(axis='y', labelcolor=color)\n",
    "fig.legend()\n",
    "plt.title('Accuracy and recall at each step (testing data)')\n",
    "\n",
    "plt.xticks(np.arange(1, 4, step=1))\n",
    "\n",
    "plt.show()"
   ]
  },
  {
   "cell_type": "markdown",
   "metadata": {},
   "source": [
    "Interestingly, regarding testing data, both recall and accuracy scores were the best at first step. It seems like autotuning hyperparameters might have caused overfitting."
   ]
  },
  {
   "cell_type": "markdown",
   "metadata": {},
   "source": [
    "## Neural network"
   ]
  },
  {
   "cell_type": "code",
   "execution_count": 0,
   "metadata": {
    "colab": {},
    "colab_type": "code",
    "id": "u12yC6uBAUWI"
   },
   "outputs": [],
   "source": [
    "from keras.models import Sequential\n",
    "from keras.layers import Dense"
   ]
  },
  {
   "cell_type": "markdown",
   "metadata": {},
   "source": [
    "Finally, we will try neural network with keras package. We will standardize our data (train and test datasets seperately to avoid any possibility of data leakage). Our input layer will have 40 variables, so input_dim argument will be 40. The number of hidden neurons should be 2/3 the size of the input layer, plus the size of the output layer. Firstly, we will try one hidden layer."
   ]
  },
  {
   "cell_type": "code",
   "execution_count": 0,
   "metadata": {
    "colab": {},
    "colab_type": "code",
    "id": "y9xd2a6GBEj-"
   },
   "outputs": [],
   "source": [
    "# Seperate the features from the target variable\n",
    "y = df_feat.y\n",
    "X = df_feat.drop('y', axis=1)\n",
    "\n",
    "# Divide dataset into training and testing subsets\n",
    "X_train, X_test, y_train, y_test = train_test_split(X, y, test_size=0.3, random_state=58)"
   ]
  },
  {
   "cell_type": "code",
   "execution_count": 0,
   "metadata": {
    "colab": {},
    "colab_type": "code",
    "id": "YSZzpb1MAiz-"
   },
   "outputs": [],
   "source": [
    "# define the keras model\n",
    "model = Sequential()\n",
    "model.add(Dense(12, input_dim=40, activation='relu'))\n",
    "model.add(Dense(23, activation='relu'))\n",
    "model.add(Dense(1, activation='sigmoid'))"
   ]
  },
  {
   "cell_type": "code",
   "execution_count": 0,
   "metadata": {
    "colab": {},
    "colab_type": "code",
    "id": "N6T7GMgcApwa"
   },
   "outputs": [],
   "source": [
    "model.compile(loss='binary_crossentropy', optimizer='adam', metrics=['accuracy'])"
   ]
  },
  {
   "cell_type": "code",
   "execution_count": 0,
   "metadata": {
    "colab": {},
    "colab_type": "code",
    "id": "DM4bkGIYA8Rr"
   },
   "outputs": [],
   "source": [
    "from sklearn.preprocessing import StandardScaler\n",
    "sc = StandardScaler()\n",
    "X_train = sc.fit_transform(X_train)\n",
    "X_test = sc.fit_transform(X_test)"
   ]
  },
  {
   "cell_type": "code",
   "execution_count": 50,
   "metadata": {
    "colab": {
     "base_uri": "https://localhost:8080/",
     "height": 1000
    },
    "colab_type": "code",
    "executionInfo": {
     "elapsed": 577307,
     "status": "ok",
     "timestamp": 1581610026633,
     "user": {
      "displayName": "Katarzyna Kryńska",
      "photoUrl": "",
      "userId": "01933405320100170098"
     },
     "user_tz": -60
    },
    "id": "UzcogQ_qA3qe",
    "outputId": "60d02aba-95b1-40ad-ba07-bc1c1170bbe3"
   },
   "outputs": [
    {
     "name": "stdout",
     "output_type": "stream",
     "text": [
      "Epoch 1/150\n",
      "28831/28831 [==============================] - 5s 156us/step - loss: 0.2969 - acc: 0.8951\n",
      "Epoch 2/150\n",
      "28831/28831 [==============================] - 4s 134us/step - loss: 0.2812 - acc: 0.8981\n",
      "Epoch 3/150\n",
      "28831/28831 [==============================] - 4s 132us/step - loss: 0.2787 - acc: 0.8992\n",
      "Epoch 4/150\n",
      "28831/28831 [==============================] - 4s 132us/step - loss: 0.2776 - acc: 0.8992\n",
      "Epoch 5/150\n",
      "28831/28831 [==============================] - 4s 133us/step - loss: 0.2762 - acc: 0.8999\n",
      "Epoch 6/150\n",
      "28831/28831 [==============================] - 4s 132us/step - loss: 0.2747 - acc: 0.9001\n",
      "Epoch 7/150\n",
      "28831/28831 [==============================] - 4s 131us/step - loss: 0.2746 - acc: 0.9004\n",
      "Epoch 8/150\n",
      "28831/28831 [==============================] - 4s 133us/step - loss: 0.2740 - acc: 0.9013\n",
      "Epoch 9/150\n",
      "28831/28831 [==============================] - 4s 130us/step - loss: 0.2736 - acc: 0.9016\n",
      "Epoch 10/150\n",
      "28831/28831 [==============================] - 4s 131us/step - loss: 0.2732 - acc: 0.9021\n",
      "Epoch 11/150\n",
      "28831/28831 [==============================] - 4s 129us/step - loss: 0.2726 - acc: 0.9021\n",
      "Epoch 12/150\n",
      "28831/28831 [==============================] - 4s 133us/step - loss: 0.2719 - acc: 0.9021\n",
      "Epoch 13/150\n",
      "28831/28831 [==============================] - 4s 131us/step - loss: 0.2718 - acc: 0.9014\n",
      "Epoch 14/150\n",
      "28831/28831 [==============================] - 4s 129us/step - loss: 0.2717 - acc: 0.9015\n",
      "Epoch 15/150\n",
      "28831/28831 [==============================] - 4s 133us/step - loss: 0.2711 - acc: 0.9030\n",
      "Epoch 16/150\n",
      "28831/28831 [==============================] - 4s 131us/step - loss: 0.2709 - acc: 0.9033\n",
      "Epoch 17/150\n",
      "28831/28831 [==============================] - 4s 131us/step - loss: 0.2704 - acc: 0.9029\n",
      "Epoch 18/150\n",
      "28831/28831 [==============================] - 4s 131us/step - loss: 0.2701 - acc: 0.9025\n",
      "Epoch 19/150\n",
      "28831/28831 [==============================] - 4s 131us/step - loss: 0.2700 - acc: 0.9024\n",
      "Epoch 20/150\n",
      "28831/28831 [==============================] - 4s 132us/step - loss: 0.2696 - acc: 0.9026\n",
      "Epoch 21/150\n",
      "28831/28831 [==============================] - 4s 131us/step - loss: 0.2694 - acc: 0.9039\n",
      "Epoch 22/150\n",
      "28831/28831 [==============================] - 4s 132us/step - loss: 0.2694 - acc: 0.9031\n",
      "Epoch 23/150\n",
      "28831/28831 [==============================] - 4s 129us/step - loss: 0.2691 - acc: 0.9023\n",
      "Epoch 24/150\n",
      "28831/28831 [==============================] - 4s 130us/step - loss: 0.2688 - acc: 0.9036\n",
      "Epoch 25/150\n",
      "28831/28831 [==============================] - 4s 129us/step - loss: 0.2687 - acc: 0.9036\n",
      "Epoch 26/150\n",
      "28831/28831 [==============================] - 4s 129us/step - loss: 0.2684 - acc: 0.9031\n",
      "Epoch 27/150\n",
      "28831/28831 [==============================] - 4s 127us/step - loss: 0.2683 - acc: 0.9038\n",
      "Epoch 28/150\n",
      "28831/28831 [==============================] - 4s 130us/step - loss: 0.2683 - acc: 0.9033\n",
      "Epoch 29/150\n",
      "28831/28831 [==============================] - 4s 132us/step - loss: 0.2676 - acc: 0.9036\n",
      "Epoch 30/150\n",
      "28831/28831 [==============================] - 4s 131us/step - loss: 0.2678 - acc: 0.9037\n",
      "Epoch 31/150\n",
      "28831/28831 [==============================] - 4s 149us/step - loss: 0.2676 - acc: 0.9041\n",
      "Epoch 32/150\n",
      "28831/28831 [==============================] - 4s 149us/step - loss: 0.2678 - acc: 0.9037\n",
      "Epoch 33/150\n",
      "28831/28831 [==============================] - 4s 140us/step - loss: 0.2671 - acc: 0.9042\n",
      "Epoch 34/150\n",
      "28831/28831 [==============================] - 4s 131us/step - loss: 0.2670 - acc: 0.9040\n",
      "Epoch 35/150\n",
      "28831/28831 [==============================] - 4s 132us/step - loss: 0.2670 - acc: 0.9038\n",
      "Epoch 36/150\n",
      "28831/28831 [==============================] - 4s 136us/step - loss: 0.2671 - acc: 0.9035\n",
      "Epoch 37/150\n",
      "28831/28831 [==============================] - 4s 133us/step - loss: 0.2667 - acc: 0.9037\n",
      "Epoch 38/150\n",
      "28831/28831 [==============================] - 4s 132us/step - loss: 0.2663 - acc: 0.9049\n",
      "Epoch 39/150\n",
      "28831/28831 [==============================] - 4s 131us/step - loss: 0.2665 - acc: 0.9039\n",
      "Epoch 40/150\n",
      "28831/28831 [==============================] - 4s 133us/step - loss: 0.2657 - acc: 0.9035\n",
      "Epoch 41/150\n",
      "28831/28831 [==============================] - 4s 131us/step - loss: 0.2661 - acc: 0.9041\n",
      "Epoch 42/150\n",
      "28831/28831 [==============================] - 4s 129us/step - loss: 0.2660 - acc: 0.9040\n",
      "Epoch 43/150\n",
      "28831/28831 [==============================] - 4s 130us/step - loss: 0.2656 - acc: 0.9044\n",
      "Epoch 44/150\n",
      "28831/28831 [==============================] - 4s 132us/step - loss: 0.2655 - acc: 0.9041\n",
      "Epoch 45/150\n",
      "28831/28831 [==============================] - 4s 130us/step - loss: 0.2653 - acc: 0.9034\n",
      "Epoch 46/150\n",
      "28831/28831 [==============================] - 4s 131us/step - loss: 0.2653 - acc: 0.9040\n",
      "Epoch 47/150\n",
      "28831/28831 [==============================] - 4s 133us/step - loss: 0.2651 - acc: 0.9035\n",
      "Epoch 48/150\n",
      "28831/28831 [==============================] - 4s 131us/step - loss: 0.2653 - acc: 0.9041\n",
      "Epoch 49/150\n",
      "28831/28831 [==============================] - 4s 130us/step - loss: 0.2649 - acc: 0.9039\n",
      "Epoch 50/150\n",
      "28831/28831 [==============================] - 4s 130us/step - loss: 0.2647 - acc: 0.9045\n",
      "Epoch 51/150\n",
      "28831/28831 [==============================] - 4s 130us/step - loss: 0.2645 - acc: 0.9050\n",
      "Epoch 52/150\n",
      "28831/28831 [==============================] - 4s 131us/step - loss: 0.2646 - acc: 0.9038\n",
      "Epoch 53/150\n",
      "28831/28831 [==============================] - 4s 132us/step - loss: 0.2645 - acc: 0.9041\n",
      "Epoch 54/150\n",
      "28831/28831 [==============================] - 4s 131us/step - loss: 0.2641 - acc: 0.9054\n",
      "Epoch 55/150\n",
      "28831/28831 [==============================] - 4s 131us/step - loss: 0.2641 - acc: 0.9039\n",
      "Epoch 56/150\n",
      "28831/28831 [==============================] - 4s 131us/step - loss: 0.2638 - acc: 0.9044\n",
      "Epoch 57/150\n",
      "28831/28831 [==============================] - 4s 132us/step - loss: 0.2641 - acc: 0.9046\n",
      "Epoch 58/150\n",
      "28831/28831 [==============================] - 4s 129us/step - loss: 0.2639 - acc: 0.9045\n",
      "Epoch 59/150\n",
      "28831/28831 [==============================] - 4s 128us/step - loss: 0.2636 - acc: 0.9043\n",
      "Epoch 60/150\n",
      "28831/28831 [==============================] - 4s 131us/step - loss: 0.2634 - acc: 0.9051\n",
      "Epoch 61/150\n",
      "28831/28831 [==============================] - 4s 132us/step - loss: 0.2638 - acc: 0.9051\n",
      "Epoch 62/150\n",
      "28831/28831 [==============================] - 4s 131us/step - loss: 0.2634 - acc: 0.9047\n",
      "Epoch 63/150\n",
      "28831/28831 [==============================] - 4s 132us/step - loss: 0.2633 - acc: 0.9048\n",
      "Epoch 64/150\n",
      "28831/28831 [==============================] - 4s 131us/step - loss: 0.2630 - acc: 0.9051\n",
      "Epoch 65/150\n",
      "28831/28831 [==============================] - 4s 130us/step - loss: 0.2628 - acc: 0.9054\n",
      "Epoch 66/150\n",
      "28831/28831 [==============================] - 4s 132us/step - loss: 0.2631 - acc: 0.9049\n",
      "Epoch 67/150\n",
      "28831/28831 [==============================] - 4s 131us/step - loss: 0.2628 - acc: 0.9063\n",
      "Epoch 68/150\n",
      "28831/28831 [==============================] - 4s 132us/step - loss: 0.2631 - acc: 0.9056\n",
      "Epoch 69/150\n",
      "28831/28831 [==============================] - 4s 133us/step - loss: 0.2630 - acc: 0.9053\n",
      "Epoch 70/150\n",
      "28831/28831 [==============================] - 4s 131us/step - loss: 0.2627 - acc: 0.9049\n",
      "Epoch 71/150\n",
      "28831/28831 [==============================] - 4s 131us/step - loss: 0.2623 - acc: 0.9060\n",
      "Epoch 72/150\n",
      "28831/28831 [==============================] - 4s 131us/step - loss: 0.2626 - acc: 0.9061\n",
      "Epoch 73/150\n",
      "28831/28831 [==============================] - 4s 133us/step - loss: 0.2627 - acc: 0.9061\n",
      "Epoch 74/150\n",
      "28831/28831 [==============================] - 4s 131us/step - loss: 0.2625 - acc: 0.9052\n",
      "Epoch 75/150\n",
      "28831/28831 [==============================] - 4s 132us/step - loss: 0.2626 - acc: 0.9052\n",
      "Epoch 76/150\n",
      "28831/28831 [==============================] - 4s 133us/step - loss: 0.2624 - acc: 0.9056\n",
      "Epoch 77/150\n",
      "28831/28831 [==============================] - 4s 130us/step - loss: 0.2621 - acc: 0.9056\n",
      "Epoch 78/150\n",
      "28831/28831 [==============================] - 4s 132us/step - loss: 0.2621 - acc: 0.9058\n",
      "Epoch 79/150\n",
      "28831/28831 [==============================] - 4s 132us/step - loss: 0.2619 - acc: 0.9053\n",
      "Epoch 80/150\n",
      "28831/28831 [==============================] - 4s 133us/step - loss: 0.2621 - acc: 0.9060\n",
      "Epoch 81/150\n",
      "28831/28831 [==============================] - 4s 133us/step - loss: 0.2622 - acc: 0.9057\n",
      "Epoch 82/150\n",
      "28831/28831 [==============================] - 4s 152us/step - loss: 0.2622 - acc: 0.9057\n",
      "Epoch 83/150\n",
      "28831/28831 [==============================] - 4s 141us/step - loss: 0.2620 - acc: 0.9051\n",
      "Epoch 84/150\n",
      "28831/28831 [==============================] - 4s 131us/step - loss: 0.2622 - acc: 0.9059\n",
      "Epoch 85/150\n",
      "28831/28831 [==============================] - 4s 132us/step - loss: 0.2619 - acc: 0.9054\n",
      "Epoch 86/150\n",
      "28831/28831 [==============================] - 4s 133us/step - loss: 0.2617 - acc: 0.9061\n",
      "Epoch 87/150\n",
      "28831/28831 [==============================] - 4s 134us/step - loss: 0.2618 - acc: 0.9059\n",
      "Epoch 88/150\n",
      "28831/28831 [==============================] - 4s 131us/step - loss: 0.2618 - acc: 0.9053\n",
      "Epoch 89/150\n",
      "28831/28831 [==============================] - 4s 132us/step - loss: 0.2613 - acc: 0.9068\n",
      "Epoch 90/150\n",
      "28831/28831 [==============================] - 4s 131us/step - loss: 0.2616 - acc: 0.9059\n",
      "Epoch 91/150\n",
      "28831/28831 [==============================] - 4s 133us/step - loss: 0.2613 - acc: 0.9060\n",
      "Epoch 92/150\n",
      "28831/28831 [==============================] - 4s 132us/step - loss: 0.2614 - acc: 0.9050\n",
      "Epoch 93/150\n",
      "28831/28831 [==============================] - 4s 131us/step - loss: 0.2616 - acc: 0.9059\n",
      "Epoch 94/150\n",
      "28831/28831 [==============================] - 4s 134us/step - loss: 0.2613 - acc: 0.9059\n",
      "Epoch 95/150\n",
      "28831/28831 [==============================] - 4s 135us/step - loss: 0.2613 - acc: 0.9059\n",
      "Epoch 96/150\n",
      "28831/28831 [==============================] - 4s 134us/step - loss: 0.2614 - acc: 0.9058\n",
      "Epoch 97/150\n",
      "28831/28831 [==============================] - 4s 134us/step - loss: 0.2613 - acc: 0.9057\n",
      "Epoch 98/150\n",
      "28831/28831 [==============================] - 4s 133us/step - loss: 0.2613 - acc: 0.9058\n",
      "Epoch 99/150\n",
      "28831/28831 [==============================] - 4s 135us/step - loss: 0.2611 - acc: 0.9061\n",
      "Epoch 100/150\n",
      "28831/28831 [==============================] - 4s 134us/step - loss: 0.2612 - acc: 0.9070\n",
      "Epoch 101/150\n",
      "28831/28831 [==============================] - 4s 134us/step - loss: 0.2610 - acc: 0.9063\n",
      "Epoch 102/150\n",
      "28831/28831 [==============================] - 4s 133us/step - loss: 0.2611 - acc: 0.9058\n",
      "Epoch 103/150\n",
      "28831/28831 [==============================] - 4s 132us/step - loss: 0.2609 - acc: 0.9068\n",
      "Epoch 104/150\n",
      "28831/28831 [==============================] - 4s 132us/step - loss: 0.2611 - acc: 0.9061\n",
      "Epoch 105/150\n",
      "28831/28831 [==============================] - 4s 131us/step - loss: 0.2605 - acc: 0.9067\n",
      "Epoch 106/150\n",
      "28831/28831 [==============================] - 4s 129us/step - loss: 0.2609 - acc: 0.9064\n",
      "Epoch 107/150\n",
      "28831/28831 [==============================] - 4s 133us/step - loss: 0.2609 - acc: 0.9061\n",
      "Epoch 108/150\n",
      "28831/28831 [==============================] - 4s 133us/step - loss: 0.2605 - acc: 0.9061\n",
      "Epoch 109/150\n",
      "28831/28831 [==============================] - 4s 133us/step - loss: 0.2607 - acc: 0.9067\n",
      "Epoch 110/150\n",
      "28831/28831 [==============================] - 4s 133us/step - loss: 0.2607 - acc: 0.9062\n",
      "Epoch 111/150\n",
      "28831/28831 [==============================] - 4s 133us/step - loss: 0.2601 - acc: 0.9060\n",
      "Epoch 112/150\n",
      "28831/28831 [==============================] - 4s 141us/step - loss: 0.2605 - acc: 0.9070\n",
      "Epoch 113/150\n",
      "28831/28831 [==============================] - 4s 149us/step - loss: 0.2601 - acc: 0.9067\n",
      "Epoch 114/150\n",
      "28831/28831 [==============================] - 4s 150us/step - loss: 0.2605 - acc: 0.9061\n",
      "Epoch 115/150\n",
      "28831/28831 [==============================] - 4s 147us/step - loss: 0.2606 - acc: 0.9058\n",
      "Epoch 116/150\n",
      "28831/28831 [==============================] - 4s 153us/step - loss: 0.2604 - acc: 0.9066\n",
      "Epoch 117/150\n",
      "28831/28831 [==============================] - 4s 150us/step - loss: 0.2605 - acc: 0.9059\n",
      "Epoch 118/150\n",
      "28831/28831 [==============================] - 4s 133us/step - loss: 0.2602 - acc: 0.9062\n",
      "Epoch 119/150\n",
      "28831/28831 [==============================] - 4s 132us/step - loss: 0.2602 - acc: 0.9069\n",
      "Epoch 120/150\n",
      "28831/28831 [==============================] - 4s 132us/step - loss: 0.2600 - acc: 0.9063\n",
      "Epoch 121/150\n",
      "28831/28831 [==============================] - 4s 134us/step - loss: 0.2598 - acc: 0.9073\n",
      "Epoch 122/150\n",
      "28831/28831 [==============================] - 4s 134us/step - loss: 0.2599 - acc: 0.9061\n",
      "Epoch 123/150\n",
      "28831/28831 [==============================] - 4s 132us/step - loss: 0.2601 - acc: 0.9061\n",
      "Epoch 124/150\n",
      "28831/28831 [==============================] - 4s 133us/step - loss: 0.2596 - acc: 0.9069\n",
      "Epoch 125/150\n",
      "28831/28831 [==============================] - 4s 134us/step - loss: 0.2603 - acc: 0.9064\n",
      "Epoch 126/150\n",
      "28831/28831 [==============================] - 4s 133us/step - loss: 0.2599 - acc: 0.9069\n",
      "Epoch 127/150\n",
      "28831/28831 [==============================] - 4s 132us/step - loss: 0.2596 - acc: 0.9060\n",
      "Epoch 128/150\n",
      "28831/28831 [==============================] - 4s 132us/step - loss: 0.2599 - acc: 0.9060\n",
      "Epoch 129/150\n",
      "28831/28831 [==============================] - 4s 142us/step - loss: 0.2597 - acc: 0.9069\n",
      "Epoch 130/150\n",
      "28831/28831 [==============================] - 4s 136us/step - loss: 0.2597 - acc: 0.9073\n",
      "Epoch 131/150\n",
      "28831/28831 [==============================] - 4s 142us/step - loss: 0.2596 - acc: 0.9068\n",
      "Epoch 132/150\n",
      "28831/28831 [==============================] - 4s 139us/step - loss: 0.2596 - acc: 0.9069\n",
      "Epoch 133/150\n",
      "28831/28831 [==============================] - 4s 136us/step - loss: 0.2591 - acc: 0.9066\n",
      "Epoch 134/150\n",
      "28831/28831 [==============================] - 4s 132us/step - loss: 0.2591 - acc: 0.9066\n",
      "Epoch 135/150\n",
      "28831/28831 [==============================] - 4s 131us/step - loss: 0.2593 - acc: 0.9064\n",
      "Epoch 136/150\n",
      "28831/28831 [==============================] - 4s 130us/step - loss: 0.2594 - acc: 0.9070\n",
      "Epoch 137/150\n",
      "28831/28831 [==============================] - 4s 133us/step - loss: 0.2596 - acc: 0.9064\n",
      "Epoch 138/150\n",
      "28831/28831 [==============================] - 4s 132us/step - loss: 0.2593 - acc: 0.9069\n",
      "Epoch 139/150\n",
      "28831/28831 [==============================] - 4s 131us/step - loss: 0.2592 - acc: 0.9070\n",
      "Epoch 140/150\n",
      "28831/28831 [==============================] - 4s 131us/step - loss: 0.2589 - acc: 0.9066\n",
      "Epoch 141/150\n",
      "28831/28831 [==============================] - 4s 131us/step - loss: 0.2585 - acc: 0.9068\n",
      "Epoch 142/150\n",
      "28831/28831 [==============================] - 4s 131us/step - loss: 0.2590 - acc: 0.9058\n",
      "Epoch 143/150\n",
      "28831/28831 [==============================] - 4s 131us/step - loss: 0.2591 - acc: 0.9067\n",
      "Epoch 144/150\n",
      "28831/28831 [==============================] - 4s 132us/step - loss: 0.2589 - acc: 0.9074\n",
      "Epoch 145/150\n",
      "28831/28831 [==============================] - 4s 132us/step - loss: 0.2588 - acc: 0.9061\n",
      "Epoch 146/150\n",
      "28831/28831 [==============================] - 4s 131us/step - loss: 0.2585 - acc: 0.9066\n",
      "Epoch 147/150\n",
      "28831/28831 [==============================] - 4s 132us/step - loss: 0.2591 - acc: 0.9072\n",
      "Epoch 148/150\n",
      "28831/28831 [==============================] - 4s 133us/step - loss: 0.2589 - acc: 0.9063\n",
      "Epoch 149/150\n",
      "28831/28831 [==============================] - 4s 132us/step - loss: 0.2585 - acc: 0.9074\n",
      "Epoch 150/150\n",
      "28831/28831 [==============================] - 4s 131us/step - loss: 0.2585 - acc: 0.9071\n"
     ]
    },
    {
     "data": {
      "text/plain": [
       "<keras.callbacks.History at 0x7f3eebdfceb8>"
      ]
     },
     "execution_count": 50,
     "metadata": {
      "tags": []
     },
     "output_type": "execute_result"
    }
   ],
   "source": [
    "model.fit(X_train, y_train, epochs=150, batch_size=10)"
   ]
  },
  {
   "cell_type": "code",
   "execution_count": 54,
   "metadata": {
    "colab": {
     "base_uri": "https://localhost:8080/",
     "height": 441
    },
    "colab_type": "code",
    "executionInfo": {
     "elapsed": 2018,
     "status": "ok",
     "timestamp": 1581628404579,
     "user": {
      "displayName": "Katarzyna Kryńska",
      "photoUrl": "",
      "userId": "01933405320100170098"
     },
     "user_tz": -60
    },
    "id": "U2dUPPnfEYqd",
    "outputId": "4b17ddad-7f5f-4fb5-83b2-5ba5886c806d"
   },
   "outputs": [
    {
     "data": {
      "image/png": "[encoded data removed]",
      "text/plain": [
       "<Figure size 864x432 with 2 Axes>"
      ]
     },
     "metadata": {
      "tags": []
     },
     "output_type": "display_data"
    }
   ],
   "source": [
    "# Predict on training dataset\n",
    "y_train_pred_nn = model.predict(X_train)\n",
    "y_train_pred_nn = (y_train_pred_nn>0.5)\n",
    "\n",
    "# Predict on testing dataset\n",
    "y_pred_nn = model.predict(X_test)\n",
    "y_pred_nn = (y_pred_nn>0.5)\n",
    "\n",
    "plot_conf_m(y_train, y_train_pred_nn,y_test, y_pred_nn)"
   ]
  },
  {
   "cell_type": "markdown",
   "metadata": {},
   "source": [
    "We can see that neural network with 1 hidden layer achieved **35.76%** recall score for training dataset. Now we will try to beat this score with 2 hidden layers."
   ]
  },
  {
   "cell_type": "code",
   "execution_count": 0,
   "metadata": {
    "colab": {},
    "colab_type": "code",
    "id": "yXWntMGrTlxG"
   },
   "outputs": [],
   "source": [
    "# define the keras model\n",
    "model2 = Sequential()\n",
    "model2.add(Dense(12, input_dim=40, activation='relu'))\n",
    "model2.add(Dense(23, activation='relu'))\n",
    "model2.add(Dense(23, activation='relu'))\n",
    "model2.add(Dense(1, activation='sigmoid'))"
   ]
  },
  {
   "cell_type": "code",
   "execution_count": 0,
   "metadata": {
    "colab": {},
    "colab_type": "code",
    "id": "9TEfCtW-Z0ER"
   },
   "outputs": [],
   "source": [
    "model2.compile(loss='binary_crossentropy', optimizer='adam', metrics=['accuracy'])"
   ]
  },
  {
   "cell_type": "code",
   "execution_count": 59,
   "metadata": {
    "colab": {
     "base_uri": "https://localhost:8080/",
     "height": 1000
    },
    "colab_type": "code",
    "executionInfo": {
     "elapsed": 617143,
     "status": "ok",
     "timestamp": 1581629126099,
     "user": {
      "displayName": "Katarzyna Kryńska",
      "photoUrl": "",
      "userId": "01933405320100170098"
     },
     "user_tz": -60
    },
    "id": "V4rc9RSfZ4Nn",
    "outputId": "8bb574a1-41f2-4dc5-fed1-d0f641cc4e21"
   },
   "outputs": [
    {
     "name": "stdout",
     "output_type": "stream",
     "text": [
      "Epoch 1/150\n",
      "28831/28831 [==============================] - 4s 152us/step - loss: 0.3108 - acc: 0.8833\n",
      "Epoch 2/150\n",
      "28831/28831 [==============================] - 4s 136us/step - loss: 0.2824 - acc: 0.8970\n",
      "Epoch 3/150\n",
      "28831/28831 [==============================] - 4s 138us/step - loss: 0.2800 - acc: 0.8984\n",
      "Epoch 4/150\n",
      "28831/28831 [==============================] - 4s 142us/step - loss: 0.2780 - acc: 0.8988\n",
      "Epoch 5/150\n",
      "28831/28831 [==============================] - 4s 142us/step - loss: 0.2770 - acc: 0.8995\n",
      "Epoch 6/150\n",
      "28831/28831 [==============================] - 4s 141us/step - loss: 0.2758 - acc: 0.8997\n",
      "Epoch 7/150\n",
      "28831/28831 [==============================] - 4s 142us/step - loss: 0.2754 - acc: 0.8999\n",
      "Epoch 8/150\n",
      "28831/28831 [==============================] - 4s 145us/step - loss: 0.2748 - acc: 0.9011\n",
      "Epoch 9/150\n",
      "28831/28831 [==============================] - 4s 147us/step - loss: 0.2738 - acc: 0.9016\n",
      "Epoch 10/150\n",
      "28831/28831 [==============================] - 4s 145us/step - loss: 0.2731 - acc: 0.9008\n",
      "Epoch 11/150\n",
      "28831/28831 [==============================] - 4s 142us/step - loss: 0.2723 - acc: 0.9020\n",
      "Epoch 12/150\n",
      "28831/28831 [==============================] - 4s 142us/step - loss: 0.2721 - acc: 0.9023\n",
      "Epoch 13/150\n",
      "28831/28831 [==============================] - 4s 139us/step - loss: 0.2716 - acc: 0.9020\n",
      "Epoch 14/150\n",
      "28831/28831 [==============================] - 4s 140us/step - loss: 0.2715 - acc: 0.9030\n",
      "Epoch 15/150\n",
      "28831/28831 [==============================] - 4s 139us/step - loss: 0.2712 - acc: 0.9026\n",
      "Epoch 16/150\n",
      "28831/28831 [==============================] - 4s 141us/step - loss: 0.2705 - acc: 0.9037\n",
      "Epoch 17/150\n",
      "28831/28831 [==============================] - 4s 145us/step - loss: 0.2700 - acc: 0.9032\n",
      "Epoch 18/150\n",
      "28831/28831 [==============================] - 5s 160us/step - loss: 0.2693 - acc: 0.9033\n",
      "Epoch 19/150\n",
      "28831/28831 [==============================] - 4s 143us/step - loss: 0.2693 - acc: 0.9038\n",
      "Epoch 20/150\n",
      "28831/28831 [==============================] - 4s 142us/step - loss: 0.2689 - acc: 0.9047\n",
      "Epoch 21/150\n",
      "28831/28831 [==============================] - 4s 142us/step - loss: 0.2685 - acc: 0.9037\n",
      "Epoch 22/150\n",
      "28831/28831 [==============================] - 4s 142us/step - loss: 0.2682 - acc: 0.9046\n",
      "Epoch 23/150\n",
      "28831/28831 [==============================] - 4s 146us/step - loss: 0.2678 - acc: 0.9037\n",
      "Epoch 24/150\n",
      "28831/28831 [==============================] - 4s 144us/step - loss: 0.2680 - acc: 0.9043\n",
      "Epoch 25/150\n",
      "28831/28831 [==============================] - 4s 142us/step - loss: 0.2670 - acc: 0.9058\n",
      "Epoch 26/150\n",
      "28831/28831 [==============================] - 4s 141us/step - loss: 0.2670 - acc: 0.9042\n",
      "Epoch 27/150\n",
      "28831/28831 [==============================] - 4s 143us/step - loss: 0.2666 - acc: 0.9054\n",
      "Epoch 28/150\n",
      "28831/28831 [==============================] - 4s 139us/step - loss: 0.2665 - acc: 0.9041\n",
      "Epoch 29/150\n",
      "28831/28831 [==============================] - 4s 139us/step - loss: 0.2662 - acc: 0.9044\n",
      "Epoch 30/150\n",
      "28831/28831 [==============================] - 4s 137us/step - loss: 0.2659 - acc: 0.9055\n",
      "Epoch 31/150\n",
      "28831/28831 [==============================] - 4s 140us/step - loss: 0.2655 - acc: 0.9049\n",
      "Epoch 32/150\n",
      "28831/28831 [==============================] - 4s 138us/step - loss: 0.2654 - acc: 0.9051\n",
      "Epoch 33/150\n",
      "28831/28831 [==============================] - 4s 140us/step - loss: 0.2646 - acc: 0.9059\n",
      "Epoch 34/150\n",
      "28831/28831 [==============================] - 4s 143us/step - loss: 0.2648 - acc: 0.9060\n",
      "Epoch 35/150\n",
      "28831/28831 [==============================] - 4s 141us/step - loss: 0.2647 - acc: 0.9060\n",
      "Epoch 36/150\n",
      "28831/28831 [==============================] - 4s 142us/step - loss: 0.2644 - acc: 0.9056\n",
      "Epoch 37/150\n",
      "28831/28831 [==============================] - 4s 142us/step - loss: 0.2642 - acc: 0.9057\n",
      "Epoch 38/150\n",
      "28831/28831 [==============================] - 4s 146us/step - loss: 0.2637 - acc: 0.9060\n",
      "Epoch 39/150\n",
      "28831/28831 [==============================] - 4s 144us/step - loss: 0.2637 - acc: 0.9064\n",
      "Epoch 40/150\n",
      "28831/28831 [==============================] - 4s 142us/step - loss: 0.2634 - acc: 0.9058\n",
      "Epoch 41/150\n",
      "28831/28831 [==============================] - 4s 143us/step - loss: 0.2633 - acc: 0.9067\n",
      "Epoch 42/150\n",
      "28831/28831 [==============================] - 4s 141us/step - loss: 0.2631 - acc: 0.9067\n",
      "Epoch 43/150\n",
      "28831/28831 [==============================] - 4s 140us/step - loss: 0.2628 - acc: 0.9071\n",
      "Epoch 44/150\n",
      "28831/28831 [==============================] - 4s 146us/step - loss: 0.2625 - acc: 0.9068\n",
      "Epoch 45/150\n",
      "28831/28831 [==============================] - 4s 154us/step - loss: 0.2625 - acc: 0.9069\n",
      "Epoch 46/150\n",
      "28831/28831 [==============================] - 4s 153us/step - loss: 0.2618 - acc: 0.9073\n",
      "Epoch 47/150\n",
      "28831/28831 [==============================] - 4s 138us/step - loss: 0.2618 - acc: 0.9077\n",
      "Epoch 48/150\n",
      "28831/28831 [==============================] - 4s 142us/step - loss: 0.2613 - acc: 0.9076\n",
      "Epoch 49/150\n",
      "28831/28831 [==============================] - 4s 142us/step - loss: 0.2617 - acc: 0.9079\n",
      "Epoch 50/150\n",
      "28831/28831 [==============================] - 4s 143us/step - loss: 0.2607 - acc: 0.9073\n",
      "Epoch 51/150\n",
      "28831/28831 [==============================] - 4s 142us/step - loss: 0.2607 - acc: 0.9081\n",
      "Epoch 52/150\n",
      "28831/28831 [==============================] - 4s 143us/step - loss: 0.2611 - acc: 0.9073\n",
      "Epoch 53/150\n",
      "28831/28831 [==============================] - 4s 143us/step - loss: 0.2606 - acc: 0.9081\n",
      "Epoch 54/150\n",
      "28831/28831 [==============================] - 4s 143us/step - loss: 0.2604 - acc: 0.9083\n",
      "Epoch 55/150\n",
      "28831/28831 [==============================] - 4s 143us/step - loss: 0.2600 - acc: 0.9080\n",
      "Epoch 56/150\n",
      "28831/28831 [==============================] - 4s 142us/step - loss: 0.2597 - acc: 0.9089\n",
      "Epoch 57/150\n",
      "28831/28831 [==============================] - 4s 139us/step - loss: 0.2597 - acc: 0.9085\n",
      "Epoch 58/150\n",
      "28831/28831 [==============================] - 4s 142us/step - loss: 0.2599 - acc: 0.9075\n",
      "Epoch 59/150\n",
      "28831/28831 [==============================] - 4s 136us/step - loss: 0.2597 - acc: 0.9083\n",
      "Epoch 60/150\n",
      "28831/28831 [==============================] - 4s 142us/step - loss: 0.2591 - acc: 0.9089\n",
      "Epoch 61/150\n",
      "28831/28831 [==============================] - 4s 140us/step - loss: 0.2592 - acc: 0.9084\n",
      "Epoch 62/150\n",
      "28831/28831 [==============================] - 4s 140us/step - loss: 0.2587 - acc: 0.9084\n",
      "Epoch 63/150\n",
      "28831/28831 [==============================] - 4s 142us/step - loss: 0.2584 - acc: 0.9084\n",
      "Epoch 64/150\n",
      "28831/28831 [==============================] - 4s 140us/step - loss: 0.2591 - acc: 0.9083\n",
      "Epoch 65/150\n",
      "28831/28831 [==============================] - 4s 143us/step - loss: 0.2587 - acc: 0.9085\n",
      "Epoch 66/150\n",
      "28831/28831 [==============================] - 4s 141us/step - loss: 0.2588 - acc: 0.9076\n",
      "Epoch 67/150\n",
      "28831/28831 [==============================] - 4s 143us/step - loss: 0.2580 - acc: 0.9075\n",
      "Epoch 68/150\n",
      "28831/28831 [==============================] - 4s 144us/step - loss: 0.2581 - acc: 0.9092\n",
      "Epoch 69/150\n",
      "28831/28831 [==============================] - 4s 144us/step - loss: 0.2582 - acc: 0.9084\n",
      "Epoch 70/150\n",
      "28831/28831 [==============================] - 4s 142us/step - loss: 0.2579 - acc: 0.9090\n",
      "Epoch 71/150\n",
      "28831/28831 [==============================] - 4s 142us/step - loss: 0.2577 - acc: 0.9084\n",
      "Epoch 72/150\n",
      "28831/28831 [==============================] - 4s 140us/step - loss: 0.2574 - acc: 0.9082\n",
      "Epoch 73/150\n",
      "28831/28831 [==============================] - 4s 139us/step - loss: 0.2568 - acc: 0.9090\n",
      "Epoch 74/150\n",
      "28831/28831 [==============================] - 4s 138us/step - loss: 0.2569 - acc: 0.9094\n",
      "Epoch 75/150\n",
      "28831/28831 [==============================] - 4s 141us/step - loss: 0.2571 - acc: 0.9094\n",
      "Epoch 76/150\n",
      "28831/28831 [==============================] - 4s 139us/step - loss: 0.2561 - acc: 0.9094\n",
      "Epoch 77/150\n",
      "28831/28831 [==============================] - 4s 142us/step - loss: 0.2561 - acc: 0.9102\n",
      "Epoch 78/150\n",
      "28831/28831 [==============================] - 4s 142us/step - loss: 0.2568 - acc: 0.9095\n",
      "Epoch 79/150\n",
      "28831/28831 [==============================] - 4s 142us/step - loss: 0.2557 - acc: 0.9095\n",
      "Epoch 80/150\n",
      "28831/28831 [==============================] - 4s 143us/step - loss: 0.2568 - acc: 0.9086\n",
      "Epoch 81/150\n",
      "28831/28831 [==============================] - 4s 143us/step - loss: 0.2554 - acc: 0.9093\n",
      "Epoch 82/150\n",
      "28831/28831 [==============================] - 4s 145us/step - loss: 0.2562 - acc: 0.9088\n",
      "Epoch 83/150\n",
      "28831/28831 [==============================] - 4s 143us/step - loss: 0.2562 - acc: 0.9085\n",
      "Epoch 84/150\n",
      "28831/28831 [==============================] - 4s 142us/step - loss: 0.2563 - acc: 0.9090\n",
      "Epoch 85/150\n",
      "28831/28831 [==============================] - 4s 142us/step - loss: 0.2559 - acc: 0.9098\n",
      "Epoch 86/150\n",
      "28831/28831 [==============================] - 4s 140us/step - loss: 0.2557 - acc: 0.9095\n",
      "Epoch 87/150\n",
      "28831/28831 [==============================] - 4s 143us/step - loss: 0.2551 - acc: 0.9095\n",
      "Epoch 88/150\n",
      "28831/28831 [==============================] - 4s 138us/step - loss: 0.2559 - acc: 0.9099\n",
      "Epoch 89/150\n",
      "28831/28831 [==============================] - 4s 141us/step - loss: 0.2551 - acc: 0.9088\n",
      "Epoch 90/150\n",
      "28831/28831 [==============================] - 4s 141us/step - loss: 0.2547 - acc: 0.9086\n",
      "Epoch 91/150\n",
      "28831/28831 [==============================] - 4s 139us/step - loss: 0.2544 - acc: 0.9092\n",
      "Epoch 92/150\n",
      "28831/28831 [==============================] - 4s 146us/step - loss: 0.2544 - acc: 0.9096\n",
      "Epoch 93/150\n",
      "28831/28831 [==============================] - 5s 159us/step - loss: 0.2547 - acc: 0.9104\n",
      "Epoch 94/150\n",
      "28831/28831 [==============================] - 4s 144us/step - loss: 0.2543 - acc: 0.9096\n",
      "Epoch 95/150\n",
      "28831/28831 [==============================] - 4s 142us/step - loss: 0.2549 - acc: 0.9094\n",
      "Epoch 96/150\n",
      "28831/28831 [==============================] - 4s 145us/step - loss: 0.2552 - acc: 0.9087\n",
      "Epoch 97/150\n",
      "28831/28831 [==============================] - 4s 143us/step - loss: 0.2547 - acc: 0.9090\n",
      "Epoch 98/150\n",
      "28831/28831 [==============================] - 4s 143us/step - loss: 0.2539 - acc: 0.9089\n",
      "Epoch 99/150\n",
      "28831/28831 [==============================] - 4s 144us/step - loss: 0.2543 - acc: 0.9086\n",
      "Epoch 100/150\n",
      "28831/28831 [==============================] - 4s 141us/step - loss: 0.2542 - acc: 0.9099\n",
      "Epoch 101/150\n",
      "28831/28831 [==============================] - 4s 139us/step - loss: 0.2540 - acc: 0.9103\n",
      "Epoch 102/150\n",
      "28831/28831 [==============================] - 4s 141us/step - loss: 0.2543 - acc: 0.9094\n",
      "Epoch 103/150\n",
      "28831/28831 [==============================] - 4s 136us/step - loss: 0.2541 - acc: 0.9090\n",
      "Epoch 104/150\n",
      "28831/28831 [==============================] - 4s 142us/step - loss: 0.2532 - acc: 0.9103\n",
      "Epoch 105/150\n",
      "28831/28831 [==============================] - 4s 139us/step - loss: 0.2538 - acc: 0.9100\n",
      "Epoch 106/150\n",
      "28831/28831 [==============================] - 4s 141us/step - loss: 0.2540 - acc: 0.9097\n",
      "Epoch 107/150\n",
      "28831/28831 [==============================] - 4s 142us/step - loss: 0.2535 - acc: 0.9100\n",
      "Epoch 108/150\n",
      "28831/28831 [==============================] - 4s 142us/step - loss: 0.2540 - acc: 0.9099\n",
      "Epoch 109/150\n",
      "28831/28831 [==============================] - 4s 143us/step - loss: 0.2537 - acc: 0.9106\n",
      "Epoch 110/150\n",
      "28831/28831 [==============================] - 4s 141us/step - loss: 0.2539 - acc: 0.9096\n",
      "Epoch 111/150\n",
      "28831/28831 [==============================] - 4s 146us/step - loss: 0.2535 - acc: 0.9101\n",
      "Epoch 112/150\n",
      "28831/28831 [==============================] - 4s 142us/step - loss: 0.2537 - acc: 0.9093\n",
      "Epoch 113/150\n",
      "28831/28831 [==============================] - 4s 142us/step - loss: 0.2528 - acc: 0.9100\n",
      "Epoch 114/150\n",
      "28831/28831 [==============================] - 4s 144us/step - loss: 0.2529 - acc: 0.9098\n",
      "Epoch 115/150\n",
      "28831/28831 [==============================] - 4s 143us/step - loss: 0.2529 - acc: 0.9099\n",
      "Epoch 116/150\n",
      "28831/28831 [==============================] - 4s 141us/step - loss: 0.2527 - acc: 0.9107\n",
      "Epoch 117/150\n",
      "28831/28831 [==============================] - 4s 140us/step - loss: 0.2530 - acc: 0.9104\n",
      "Epoch 118/150\n",
      "28831/28831 [==============================] - 4s 138us/step - loss: 0.2527 - acc: 0.9105\n",
      "Epoch 119/150\n",
      "28831/28831 [==============================] - 4s 141us/step - loss: 0.2520 - acc: 0.9108\n",
      "Epoch 120/150\n",
      "28831/28831 [==============================] - 4s 146us/step - loss: 0.2524 - acc: 0.9104\n",
      "Epoch 121/150\n",
      "28831/28831 [==============================] - 4s 155us/step - loss: 0.2524 - acc: 0.9101\n",
      "Epoch 122/150\n",
      "28831/28831 [==============================] - 4s 154us/step - loss: 0.2525 - acc: 0.9113\n",
      "Epoch 123/150\n",
      "28831/28831 [==============================] - 4s 143us/step - loss: 0.2521 - acc: 0.9104\n",
      "Epoch 124/150\n",
      "28831/28831 [==============================] - 4s 141us/step - loss: 0.2521 - acc: 0.9105\n",
      "Epoch 125/150\n",
      "28831/28831 [==============================] - 4s 143us/step - loss: 0.2523 - acc: 0.9112\n",
      "Epoch 126/150\n",
      "28831/28831 [==============================] - 4s 142us/step - loss: 0.2519 - acc: 0.9110\n",
      "Epoch 127/150\n",
      "28831/28831 [==============================] - 4s 141us/step - loss: 0.2520 - acc: 0.9093\n",
      "Epoch 128/150\n",
      "28831/28831 [==============================] - 4s 142us/step - loss: 0.2515 - acc: 0.9105\n",
      "Epoch 129/150\n",
      "28831/28831 [==============================] - 4s 143us/step - loss: 0.2516 - acc: 0.9100\n",
      "Epoch 130/150\n",
      "28831/28831 [==============================] - 4s 139us/step - loss: 0.2519 - acc: 0.9104\n",
      "Epoch 131/150\n",
      "28831/28831 [==============================] - 4s 142us/step - loss: 0.2518 - acc: 0.9106\n",
      "Epoch 132/150\n",
      "28831/28831 [==============================] - 4s 137us/step - loss: 0.2517 - acc: 0.9113\n",
      "Epoch 133/150\n",
      "28831/28831 [==============================] - 4s 143us/step - loss: 0.2511 - acc: 0.9109\n",
      "Epoch 134/150\n",
      "28831/28831 [==============================] - 4s 141us/step - loss: 0.2513 - acc: 0.9101\n",
      "Epoch 135/150\n",
      "28831/28831 [==============================] - 4s 140us/step - loss: 0.2512 - acc: 0.9103\n",
      "Epoch 136/150\n",
      "28831/28831 [==============================] - 4s 142us/step - loss: 0.2512 - acc: 0.9109\n",
      "Epoch 137/150\n",
      "28831/28831 [==============================] - 4s 141us/step - loss: 0.2512 - acc: 0.9112\n",
      "Epoch 138/150\n",
      "28831/28831 [==============================] - 4s 142us/step - loss: 0.2507 - acc: 0.9109\n",
      "Epoch 139/150\n",
      "28831/28831 [==============================] - 4s 141us/step - loss: 0.2505 - acc: 0.9111\n",
      "Epoch 140/150\n",
      "28831/28831 [==============================] - 4s 145us/step - loss: 0.2516 - acc: 0.9102\n",
      "Epoch 141/150\n",
      "28831/28831 [==============================] - 4s 144us/step - loss: 0.2505 - acc: 0.9118\n",
      "Epoch 142/150\n",
      "28831/28831 [==============================] - 4s 144us/step - loss: 0.2505 - acc: 0.9108\n",
      "Epoch 143/150\n",
      "28831/28831 [==============================] - 4s 143us/step - loss: 0.2513 - acc: 0.9106\n",
      "Epoch 144/150\n",
      "28831/28831 [==============================] - 4s 142us/step - loss: 0.2509 - acc: 0.9110\n",
      "Epoch 145/150\n",
      "28831/28831 [==============================] - 4s 139us/step - loss: 0.2503 - acc: 0.9121\n",
      "Epoch 146/150\n",
      "28831/28831 [==============================] - 4s 144us/step - loss: 0.2500 - acc: 0.9117\n",
      "Epoch 147/150\n",
      "28831/28831 [==============================] - 4s 144us/step - loss: 0.2498 - acc: 0.9113\n",
      "Epoch 148/150\n",
      "28831/28831 [==============================] - 4s 143us/step - loss: 0.2503 - acc: 0.9113\n",
      "Epoch 149/150\n",
      "28831/28831 [==============================] - 4s 140us/step - loss: 0.2508 - acc: 0.9109\n",
      "Epoch 150/150\n",
      "28831/28831 [==============================] - 4s 143us/step - loss: 0.2493 - acc: 0.9119\n"
     ]
    },
    {
     "data": {
      "text/plain": [
       "<keras.callbacks.History at 0x7f3eebe70518>"
      ]
     },
     "execution_count": 59,
     "metadata": {
      "tags": []
     },
     "output_type": "execute_result"
    }
   ],
   "source": [
    "model2.fit(X_train, y_train, epochs=150, batch_size=10)"
   ]
  },
  {
   "cell_type": "code",
   "execution_count": 60,
   "metadata": {
    "colab": {
     "base_uri": "https://localhost:8080/",
     "height": 441
    },
    "colab_type": "code",
    "executionInfo": {
     "elapsed": 2111,
     "status": "ok",
     "timestamp": 1581629156821,
     "user": {
      "displayName": "Katarzyna Kryńska",
      "photoUrl": "",
      "userId": "01933405320100170098"
     },
     "user_tz": -60
    },
    "id": "-SuwrXylZ8qV",
    "outputId": "c247dbc0-5997-4cf9-d261-0f569daf281a"
   },
   "outputs": [
    {
     "data": {
      "image/png": "[encoded data removed]",
      "text/plain": [
       "<Figure size 864x432 with 2 Axes>"
      ]
     },
     "metadata": {
      "tags": []
     },
     "output_type": "display_data"
    }
   ],
   "source": [
    "# Predict on training dataset\n",
    "y_train_pred_nn2 = model2.predict(X_train)\n",
    "y_train_pred_nn2 = (y_train_pred_nn2>0.5)\n",
    "\n",
    "# Predict on testing dataset\n",
    "y_pred_nn2 = model2.predict(X_test)\n",
    "y_pred_nn2 = (y_pred_nn2>0.5)\n",
    "\n",
    "plot_conf_m(y_train, y_train_pred_nn2,y_test, y_pred_nn2)"
   ]
  },
  {
   "cell_type": "markdown",
   "metadata": {},
   "source": [
    "We can see that neural network with 2 hidden layers got even better recall score for training dataset, **38.81%**. With the recall score for the testing dataset at the level of **29.92%** it seems like a best model for our analysis."
   ]
  },
  {
   "cell_type": "markdown",
   "metadata": {},
   "source": [
    "## Summary"
   ]
  },
  {
   "cell_type": "markdown",
   "metadata": {},
   "source": [
    "If we were to choose the best performing model considering accuracy score, we would choose XGBoost. However, because of our business needs, we care more about recall score - we would like to have false negatives as low as possible (the cost of contacting a \"false\" client is less than not contacting \"positive\" client. Therefore, the best model in our analysis is Neural Network."
   ]
  },
  {
   "cell_type": "code",
   "execution_count": 168,
   "metadata": {},
   "outputs": [
    {
     "data": {
      "image/png": "[encoded data removed]",
      "text/plain": [
       "<Figure size 576x360 with 2 Axes>"
      ]
     },
     "metadata": {},
     "output_type": "display_data"
    }
   ],
   "source": [
    "accuracy_train = list()\n",
    "accuracy_train.append(accuracy_score(y_train,y_train_pred_lr))\n",
    "accuracy_train.append(accuracy_score(y_train,y_train_pred_dt))\n",
    "accuracy_train.append(accuracy_score(y_train,y_train_pred_gsrf))\n",
    "accuracy_train.append(accuracy_score(y_train,y_train_pred_xgb))\n",
    "accuracy_train.append(accuracy_score(y_train,y_train_pred_nn2))\n",
    "\n",
    "recall_train = list()\n",
    "recall_train.append(recall_score(y_train,y_train_pred_lr))\n",
    "recall_train.append(recall_score(y_train,y_train_pred_dt))\n",
    "recall_train.append(recall_score(y_train,y_train_pred_gsrf))\n",
    "recall_train.append(recall_score(y_train,y_train_pred_xgb))\n",
    "recall_train.append(recall_score(y_train,y_train_pred_nn2))\n",
    "\n",
    "x = [1,2,3,4,5]\n",
    "\n",
    "fig, ax1 = plt.subplots()\n",
    "\n",
    "color = 'tab:orange'\n",
    "ax1.set_xlabel('')\n",
    "ax1.set_ylabel('', color=color)\n",
    "ax1.plot(x, accuracy_train, color=color, marker='o', linestyle='dashed', label='accuracy')\n",
    "ax1.tick_params(axis='y', labelcolor=color)\n",
    "\n",
    "ax2 = ax1.twinx()  # instantiate a second axes that shares the same x-axis\n",
    "\n",
    "color = 'tab:blue'\n",
    "ax2.set_ylabel('', color=color)  # we already handled the x-label with ax1\n",
    "ax2.plot(x, recall_train, color=color, marker='o', linestyle='dashed', label='recall')\n",
    "ax2.tick_params(axis='y', labelcolor=color)\n",
    "fig.legend(loc='upper left')\n",
    "\n",
    "plt.xticks(x,[\"Logistic Regression\", \"Decision tree\", \"Random Forest\", \"XGBoost\", \"Neural Network\"])\n",
    "\n",
    "plt.title('Accuracy and recall for each model (training data)')\n",
    "\n",
    "fig.set_size_inches(8, 5)\n",
    "fig.tight_layout()  # otherwise the right y-label is slightly clipped\n",
    "plt.show()"
   ]
  },
  {
   "cell_type": "code",
   "execution_count": 171,
   "metadata": {},
   "outputs": [
    {
     "data": {
      "image/png": "[encoded data removed]",
      "text/plain": [
       "<Figure size 576x360 with 2 Axes>"
      ]
     },
     "metadata": {},
     "output_type": "display_data"
    }
   ],
   "source": [
    "accuracy_test = list()\n",
    "accuracy_test.append(accuracy_score(y_test,y_pred_lr))\n",
    "accuracy_test.append(accuracy_score(y_test,y_pred_dt))\n",
    "accuracy_test.append(accuracy_score(y_test,y_pred_gsrf))\n",
    "accuracy_test.append(accuracy_score(y_test,y_pred_xgb))\n",
    "accuracy_test.append(accuracy_score(y_test,y_pred_nn2))\n",
    "\n",
    "recall_test = list()\n",
    "recall_test.append(recall_score(y_test,y_pred_lr))\n",
    "recall_test.append(recall_score(y_test,y_pred_dt))\n",
    "recall_test.append(recall_score(y_test,y_pred_gsrf))\n",
    "recall_test.append(recall_score(y_test,y_pred_xgb))\n",
    "recall_test.append(recall_score(y_test,y_pred_nn2))\n",
    "\n",
    "x = [1,2,3,4,5]\n",
    "\n",
    "fig, ax1 = plt.subplots()\n",
    "\n",
    "color = 'tab:orange'\n",
    "ax1.set_xlabel('')\n",
    "ax1.set_ylabel('', color=color)\n",
    "ax1.plot(x, accuracy_test, color=color, marker='o', linestyle='dashed', label='accuracy')\n",
    "ax1.tick_params(axis='y', labelcolor=color)\n",
    "\n",
    "ax2 = ax1.twinx()  # instantiate a second axes that shares the same x-axis\n",
    "\n",
    "color = 'tab:blue'\n",
    "ax2.set_ylabel('', color=color)  # we already handled the x-label with ax1\n",
    "ax2.plot(x, recall_test, color=color, marker='o', linestyle='dashed', label='recall')\n",
    "ax2.tick_params(axis='y', labelcolor=color)\n",
    "fig.legend(loc='upper left')\n",
    "\n",
    "plt.xticks(x,[\"Logistic Regression\", \"Decision tree\", \"Random Forest\", \"XGBoost\", \"Neural Network\"])\n",
    "\n",
    "plt.title('Accuracy and recall for each model (testing data)')\n",
    "\n",
    "fig.set_size_inches(8, 5)\n",
    "fig.tight_layout()  # otherwise the right y-label is slightly clipped\n",
    "plt.show()"
   ]
  }
 ],
 "metadata": {
  "colab": {
   "name": "Copy of ml-2-big-dataset.ipynb",
   "provenance": [
    {
     "file_id": "18mEezAnEJtByGDbkTlgXXCD4wN_QMvyV",
     "timestamp": 1580059224186
    }
   ]
  },
  "kernelspec": {
   "display_name": "Python 3",
   "language": "python",
   "name": "python3"
  },
  "language_info": {
   "codemirror_mode": {
    "name": "ipython",
    "version": 3
   },
   "file_extension": ".py",
   "mimetype": "text/x-python",
   "name": "python",
   "nbconvert_exporter": "python",
   "pygments_lexer": "ipython3",
   "version": "3.7.0"
  }
 },
 "nbformat": 4,
 "nbformat_minor": 1
}
